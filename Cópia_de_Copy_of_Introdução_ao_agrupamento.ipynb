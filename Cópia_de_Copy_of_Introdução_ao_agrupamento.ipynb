{
  "nbformat": 4,
  "nbformat_minor": 0,
  "metadata": {
    "colab": {
      "name": "Cópia de Copy of Introdução ao agrupamento.ipynb",
      "provenance": [],
      "collapsed_sections": [],
      "include_colab_link": true
    },
    "kernelspec": {
      "name": "python3",
      "display_name": "Python 3"
    }
  },
  "cells": [
    {
      "cell_type": "markdown",
      "metadata": {
        "id": "view-in-github",
        "colab_type": "text"
      },
      "source": [
        "<a href=\"https://colab.research.google.com/github/LeandraOS/Sockets/blob/master/C%C3%B3pia_de_Copy_of_Introdu%C3%A7%C3%A3o_ao_agrupamento.ipynb\" target=\"_parent\"><img src=\"https://colab.research.google.com/assets/colab-badge.svg\" alt=\"Open In Colab\"/></a>"
      ]
    },
    {
      "cell_type": "code",
      "metadata": {
        "id": "vn56Wbgn1_6H"
      },
      "source": [
        "import pandas as pd\n",
        "import numpy as np\n",
        "import altair as alt"
      ],
      "execution_count": 3,
      "outputs": []
    },
    {
      "cell_type": "markdown",
      "metadata": {
        "id": "yXN5TKA82C7r"
      },
      "source": [
        "# Agrupamento: conceito e exemplos\n",
        "\n",
        "Um dos padrões importantes que percebemos e usamos para entender/descrever dados é o de *subconjuntoso dos dados com alta semelhança* entre si. No jargão que usaremos aqui, **grupos de dados** semelhantes entre si.\n",
        "\n",
        "Algoritmos de agrupamento servem principalmente para ajudar um analista a reduzir um conjunto de dados a um conjunto menor de grupos. Isso facilita compreensão e comunicação."
      ]
    },
    {
      "cell_type": "markdown",
      "metadata": {
        "id": "bB38Vty02J0L"
      },
      "source": [
        "Para exemplificar, primeiro usaremos dados do Rotten Tomatoes sobre avaliação da crítica e bilheteria dos filmes de Scarlett Johansson. Os dados foram raspados [daqui](https://www.rottentomatoes.com/celebrity/scarlett_johansson). Se você quiser, você pode raspar para outros atores/diretores com o código [desse repo](https://github.com/cienciadedados-ufcg/agrupamento-filmes).\n"
      ]
    },
    {
      "cell_type": "code",
      "metadata": {
        "id": "D74viswF3DjL",
        "colab": {
          "base_uri": "https://localhost:8080/",
          "height": 204
        },
        "outputId": "e094bbae-e52c-43bf-8f4b-0615df00485b"
      },
      "source": [
        "filmes = pd.read_csv(\"https://raw.githubusercontent.com/cienciadedados-ufcg/agrupamento-filmes/master/data/movies.csv\")\n",
        "filmes.head()"
      ],
      "execution_count": 4,
      "outputs": [
        {
          "output_type": "execute_result",
          "data": {
            "text/html": [
              "<div>\n",
              "<style scoped>\n",
              "    .dataframe tbody tr th:only-of-type {\n",
              "        vertical-align: middle;\n",
              "    }\n",
              "\n",
              "    .dataframe tbody tr th {\n",
              "        vertical-align: top;\n",
              "    }\n",
              "\n",
              "    .dataframe thead th {\n",
              "        text-align: right;\n",
              "    }\n",
              "</style>\n",
              "<table border=\"1\" class=\"dataframe\">\n",
              "  <thead>\n",
              "    <tr style=\"text-align: right;\">\n",
              "      <th></th>\n",
              "      <th>RATING</th>\n",
              "      <th>TITLE</th>\n",
              "      <th>CREDIT</th>\n",
              "      <th>BOXOFFICE</th>\n",
              "      <th>YEAR</th>\n",
              "    </tr>\n",
              "  </thead>\n",
              "  <tbody>\n",
              "    <tr>\n",
              "      <th>0</th>\n",
              "      <td>85</td>\n",
              "      <td>Avengers: Infinity War</td>\n",
              "      <td>Natasha Romanoff/Black Widow</td>\n",
              "      <td>665.0</td>\n",
              "      <td>2018</td>\n",
              "    </tr>\n",
              "    <tr>\n",
              "      <th>1</th>\n",
              "      <td>44</td>\n",
              "      <td>Rough Night</td>\n",
              "      <td>Jess</td>\n",
              "      <td>22.1</td>\n",
              "      <td>2017</td>\n",
              "    </tr>\n",
              "    <tr>\n",
              "      <th>2</th>\n",
              "      <td>43</td>\n",
              "      <td>Ghost in the Shell</td>\n",
              "      <td>Major</td>\n",
              "      <td>40.6</td>\n",
              "      <td>2017</td>\n",
              "    </tr>\n",
              "    <tr>\n",
              "      <th>3</th>\n",
              "      <td>72</td>\n",
              "      <td>Sing</td>\n",
              "      <td>Ash</td>\n",
              "      <td>270.4</td>\n",
              "      <td>2016</td>\n",
              "    </tr>\n",
              "    <tr>\n",
              "      <th>4</th>\n",
              "      <td>91</td>\n",
              "      <td>Captain America: Civil War</td>\n",
              "      <td>Natasha Romanoff/Black Widow</td>\n",
              "      <td>408.1</td>\n",
              "      <td>2016</td>\n",
              "    </tr>\n",
              "  </tbody>\n",
              "</table>\n",
              "</div>"
            ],
            "text/plain": [
              "   RATING                       TITLE  ... BOXOFFICE  YEAR\n",
              "0      85      Avengers: Infinity War  ...     665.0  2018\n",
              "1      44                 Rough Night  ...      22.1  2017\n",
              "2      43          Ghost in the Shell  ...      40.6  2017\n",
              "3      72                        Sing  ...     270.4  2016\n",
              "4      91  Captain America: Civil War  ...     408.1  2016\n",
              "\n",
              "[5 rows x 5 columns]"
            ]
          },
          "metadata": {
            "tags": []
          },
          "execution_count": 4
        }
      ]
    },
    {
      "cell_type": "markdown",
      "metadata": {
        "id": "GC58Fd-XDico"
      },
      "source": [
        "## Estrutura de grupos em 1d"
      ]
    },
    {
      "cell_type": "code",
      "metadata": {
        "id": "42ZFC71h8oCP",
        "colab": {
          "base_uri": "https://localhost:8080/",
          "height": 213
        },
        "outputId": "431c60c8-704b-4d2b-f60f-36015d6cea50"
      },
      "source": [
        "alt.Chart(filmes).mark_point(\n",
        "    size = 100\n",
        ").encode(\n",
        "    x = 'RATING',\n",
        "    tooltip = ['TITLE', 'RATING']\n",
        ").properties(\n",
        "    width=600,\n",
        "    height=150\n",
        ").interactive()"
      ],
      "execution_count": 25,
      "outputs": [
        {
          "output_type": "execute_result",
          "data": {
            "text/plain": [
              "alt.Chart(...)"
            ],
            "text/html": [
              "\n",
              "<div id=\"altair-viz-2f269fa4595d4680860d2aeced3afd9e\"></div>\n",
              "<script type=\"text/javascript\">\n",
              "  (function(spec, embedOpt){\n",
              "    let outputDiv = document.currentScript.previousElementSibling;\n",
              "    if (outputDiv.id !== \"altair-viz-2f269fa4595d4680860d2aeced3afd9e\") {\n",
              "      outputDiv = document.getElementById(\"altair-viz-2f269fa4595d4680860d2aeced3afd9e\");\n",
              "    }\n",
              "    const paths = {\n",
              "      \"vega\": \"https://cdn.jsdelivr.net/npm//vega@5?noext\",\n",
              "      \"vega-lib\": \"https://cdn.jsdelivr.net/npm//vega-lib?noext\",\n",
              "      \"vega-lite\": \"https://cdn.jsdelivr.net/npm//vega-lite@4.8.1?noext\",\n",
              "      \"vega-embed\": \"https://cdn.jsdelivr.net/npm//vega-embed@6?noext\",\n",
              "    };\n",
              "\n",
              "    function loadScript(lib) {\n",
              "      return new Promise(function(resolve, reject) {\n",
              "        var s = document.createElement('script');\n",
              "        s.src = paths[lib];\n",
              "        s.async = true;\n",
              "        s.onload = () => resolve(paths[lib]);\n",
              "        s.onerror = () => reject(`Error loading script: ${paths[lib]}`);\n",
              "        document.getElementsByTagName(\"head\")[0].appendChild(s);\n",
              "      });\n",
              "    }\n",
              "\n",
              "    function showError(err) {\n",
              "      outputDiv.innerHTML = `<div class=\"error\" style=\"color:red;\">${err}</div>`;\n",
              "      throw err;\n",
              "    }\n",
              "\n",
              "    function displayChart(vegaEmbed) {\n",
              "      vegaEmbed(outputDiv, spec, embedOpt)\n",
              "        .catch(err => showError(`Javascript Error: ${err.message}<br>This usually means there's a typo in your chart specification. See the javascript console for the full traceback.`));\n",
              "    }\n",
              "\n",
              "    if(typeof define === \"function\" && define.amd) {\n",
              "      requirejs.config({paths});\n",
              "      require([\"vega-embed\"], displayChart, err => showError(`Error loading script: ${err.message}`));\n",
              "    } else if (typeof vegaEmbed === \"function\") {\n",
              "      displayChart(vegaEmbed);\n",
              "    } else {\n",
              "      loadScript(\"vega\")\n",
              "        .then(() => loadScript(\"vega-lite\"))\n",
              "        .then(() => loadScript(\"vega-embed\"))\n",
              "        .catch(showError)\n",
              "        .then(() => displayChart(vegaEmbed));\n",
              "    }\n",
              "  })({\"config\": {\"view\": {\"continuousWidth\": 400, \"continuousHeight\": 300}}, \"data\": {\"name\": \"data-5a194466983f6bcbb5daf8b7f2d28493\"}, \"mark\": {\"type\": \"point\", \"size\": 100}, \"encoding\": {\"tooltip\": [{\"type\": \"nominal\", \"field\": \"TITLE\"}, {\"type\": \"quantitative\", \"field\": \"RATING\"}], \"x\": {\"type\": \"quantitative\", \"field\": \"RATING\"}}, \"height\": 150, \"selection\": {\"selector016\": {\"type\": \"interval\", \"bind\": \"scales\", \"encodings\": [\"x\", \"y\"]}}, \"width\": 600, \"$schema\": \"https://vega.github.io/schema/vega-lite/v4.8.1.json\", \"datasets\": {\"data-5a194466983f6bcbb5daf8b7f2d28493\": [{\"RATING\": 85, \"TITLE\": \"Avengers: Infinity War\", \"CREDIT\": \"Natasha Romanoff/Black Widow\", \"BOXOFFICE\": 665.0, \"YEAR\": 2018}, {\"RATING\": 44, \"TITLE\": \"Rough Night\", \"CREDIT\": \"Jess\", \"BOXOFFICE\": 22.1, \"YEAR\": 2017}, {\"RATING\": 43, \"TITLE\": \"Ghost in the Shell\", \"CREDIT\": \"Major\", \"BOXOFFICE\": 40.6, \"YEAR\": 2017}, {\"RATING\": 72, \"TITLE\": \"Sing\", \"CREDIT\": \"Ash\", \"BOXOFFICE\": 270.4, \"YEAR\": 2016}, {\"RATING\": 91, \"TITLE\": \"Captain America: Civil War\", \"CREDIT\": \"Natasha Romanoff/Black Widow\", \"BOXOFFICE\": 408.1, \"YEAR\": 2016}, {\"RATING\": 95, \"TITLE\": \"The Jungle Book\", \"CREDIT\": \"Kaa\", \"BOXOFFICE\": 364.0, \"YEAR\": 2016}, {\"RATING\": 86, \"TITLE\": \"Hail, Caesar!\", \"CREDIT\": \"DeeAnna Moran\", \"BOXOFFICE\": 28.0, \"YEAR\": 2016}, {\"RATING\": 75, \"TITLE\": \"Avengers: Age of Ultron\", \"CREDIT\": \"Natasha Romanoff/Black Widow\", \"BOXOFFICE\": 429.2, \"YEAR\": 2015}, {\"RATING\": 67, \"TITLE\": \"Lucy\", \"CREDIT\": \"Lucy\", \"BOXOFFICE\": 108.6, \"YEAR\": 2014}, {\"RATING\": 87, \"TITLE\": \"Chef\", \"CREDIT\": \"Molly\", \"BOXOFFICE\": 23.7, \"YEAR\": 2014}, {\"RATING\": 90, \"TITLE\": \"Captain America: The Winter Soldier\", \"CREDIT\": \"Natasha Romanoff/Black Widow\", \"BOXOFFICE\": 228.7, \"YEAR\": 2014}, {\"RATING\": 84, \"TITLE\": \"Under the Skin\", \"CREDIT\": \"Laura\", \"BOXOFFICE\": 2.4, \"YEAR\": 2014}, {\"RATING\": 94, \"TITLE\": \"Her\", \"CREDIT\": \"Samantha\", \"BOXOFFICE\": 18.0, \"YEAR\": 2013}, {\"RATING\": 60, \"TITLE\": \"Hitchcock\", \"CREDIT\": \"Janet Leigh\", \"BOXOFFICE\": 6.1, \"YEAR\": 2012}, {\"RATING\": 96, \"TITLE\": \"Chasing Ice\", \"CREDIT\": \"Actor\", \"BOXOFFICE\": 1.4, \"YEAR\": 2012}, {\"RATING\": 92, \"TITLE\": \"Marvel's The Avengers\", \"CREDIT\": \"Natasha Romanoff/Black Widow\", \"BOXOFFICE\": 623.3, \"YEAR\": 2012}, {\"RATING\": 64, \"TITLE\": \"We Bought a Zoo\", \"CREDIT\": \"Kelly Foster\", \"BOXOFFICE\": 72.8, \"YEAR\": 2011}, {\"RATING\": 73, \"TITLE\": \"Iron Man 2\", \"CREDIT\": \"Natalie Rushman/Black Widow\", \"BOXOFFICE\": 312.1, \"YEAR\": 2010}, {\"RATING\": 40, \"TITLE\": \"He's Just Not That Into You\", \"CREDIT\": \"Anna\", \"BOXOFFICE\": 93.9, \"YEAR\": 2009}, {\"RATING\": 14, \"TITLE\": \"The Spirit\", \"CREDIT\": \"Silken Floss\", \"BOXOFFICE\": 19.8, \"YEAR\": 2008}, {\"RATING\": 81, \"TITLE\": \"Vicky Cristina Barcelona\", \"CREDIT\": \"Cristina\", \"BOXOFFICE\": 23.2, \"YEAR\": 2008}, {\"RATING\": 42, \"TITLE\": \"The Other Boleyn Girl\", \"CREDIT\": \"Mary Boleyn\", \"BOXOFFICE\": 26.9, \"YEAR\": 2008}, {\"RATING\": 34, \"TITLE\": \"The Nanny Diaries\", \"CREDIT\": \"Annie Braddock\", \"BOXOFFICE\": 25.9, \"YEAR\": 2007}, {\"RATING\": 76, \"TITLE\": \"The Prestige\", \"CREDIT\": \"Olivia Wenscombe\", \"BOXOFFICE\": 53.2, \"YEAR\": 2006}, {\"RATING\": 33, \"TITLE\": \"The Black Dahlia\", \"CREDIT\": \"Kay Lake\", \"BOXOFFICE\": 22.6, \"YEAR\": 2006}, {\"RATING\": 41, \"TITLE\": \"Scoop\", \"CREDIT\": \"Sondra Pransky\", \"BOXOFFICE\": 10.5, \"YEAR\": 2006}, {\"RATING\": 76, \"TITLE\": \"Match Point\", \"CREDIT\": \"Nola Rice\", \"BOXOFFICE\": 23.2, \"YEAR\": 2005}, {\"RATING\": 40, \"TITLE\": \"The Island\", \"CREDIT\": \"Jordan Two Delta/Sarah Jordan\", \"BOXOFFICE\": 35.9, \"YEAR\": 2005}, {\"RATING\": 82, \"TITLE\": \"In Good Company\", \"CREDIT\": \"Alex Foreman\", \"BOXOFFICE\": 45.5, \"YEAR\": 2004}, {\"RATING\": 16, \"TITLE\": \"The Perfect Score\", \"CREDIT\": \"Francesca\", \"BOXOFFICE\": 10.3, \"YEAR\": 2004}, {\"RATING\": 72, \"TITLE\": \"Girl With a Pearl Earring\", \"CREDIT\": \"Griet\", \"BOXOFFICE\": 11.6, \"YEAR\": 2004}, {\"RATING\": 95, \"TITLE\": \"Lost In Translation\", \"CREDIT\": \"Charlotte\", \"BOXOFFICE\": 44.6, \"YEAR\": 2003}, {\"RATING\": 48, \"TITLE\": \"Eight Legged Freaks\", \"CREDIT\": \"Ashley Parker\", \"BOXOFFICE\": 17.3, \"YEAR\": 2002}, {\"RATING\": 81, \"TITLE\": \"The Man Who Wasn't There\", \"CREDIT\": \"Birdy Abundas\", \"BOXOFFICE\": 7.5, \"YEAR\": 2001}, {\"RATING\": 92, \"TITLE\": \"Ghost World\", \"CREDIT\": \"Rebecca\", \"BOXOFFICE\": 4.7, \"YEAR\": 2001}]}}, {\"mode\": \"vega-lite\"});\n",
              "</script>"
            ]
          },
          "metadata": {
            "tags": []
          },
          "execution_count": 25
        }
      ]
    },
    {
      "cell_type": "code",
      "metadata": {
        "id": "X1i0iHKu7RNJ",
        "colab": {
          "base_uri": "https://localhost:8080/",
          "height": 213
        },
        "outputId": "07fed6c8-3f49-40a4-d899-1064aa51d4d9"
      },
      "source": [
        "alt.Chart(filmes).mark_point(\n",
        "    size = 70\n",
        ").encode(\n",
        "    x = alt.X('BOXOFFICE', scale=alt.Scale(type='log')),\n",
        "    tooltip = ['TITLE', 'RATING', 'BOXOFFICE']\n",
        ").properties(\n",
        "    width=600,\n",
        "    height=150\n",
        ").interactive()"
      ],
      "execution_count": 6,
      "outputs": [
        {
          "output_type": "execute_result",
          "data": {
            "text/plain": [
              "alt.Chart(...)"
            ],
            "text/html": [
              "\n",
              "<div id=\"altair-viz-1e3f9332079b4dcd95481a36426ea151\"></div>\n",
              "<script type=\"text/javascript\">\n",
              "  (function(spec, embedOpt){\n",
              "    let outputDiv = document.currentScript.previousElementSibling;\n",
              "    if (outputDiv.id !== \"altair-viz-1e3f9332079b4dcd95481a36426ea151\") {\n",
              "      outputDiv = document.getElementById(\"altair-viz-1e3f9332079b4dcd95481a36426ea151\");\n",
              "    }\n",
              "    const paths = {\n",
              "      \"vega\": \"https://cdn.jsdelivr.net/npm//vega@5?noext\",\n",
              "      \"vega-lib\": \"https://cdn.jsdelivr.net/npm//vega-lib?noext\",\n",
              "      \"vega-lite\": \"https://cdn.jsdelivr.net/npm//vega-lite@4.8.1?noext\",\n",
              "      \"vega-embed\": \"https://cdn.jsdelivr.net/npm//vega-embed@6?noext\",\n",
              "    };\n",
              "\n",
              "    function loadScript(lib) {\n",
              "      return new Promise(function(resolve, reject) {\n",
              "        var s = document.createElement('script');\n",
              "        s.src = paths[lib];\n",
              "        s.async = true;\n",
              "        s.onload = () => resolve(paths[lib]);\n",
              "        s.onerror = () => reject(`Error loading script: ${paths[lib]}`);\n",
              "        document.getElementsByTagName(\"head\")[0].appendChild(s);\n",
              "      });\n",
              "    }\n",
              "\n",
              "    function showError(err) {\n",
              "      outputDiv.innerHTML = `<div class=\"error\" style=\"color:red;\">${err}</div>`;\n",
              "      throw err;\n",
              "    }\n",
              "\n",
              "    function displayChart(vegaEmbed) {\n",
              "      vegaEmbed(outputDiv, spec, embedOpt)\n",
              "        .catch(err => showError(`Javascript Error: ${err.message}<br>This usually means there's a typo in your chart specification. See the javascript console for the full traceback.`));\n",
              "    }\n",
              "\n",
              "    if(typeof define === \"function\" && define.amd) {\n",
              "      requirejs.config({paths});\n",
              "      require([\"vega-embed\"], displayChart, err => showError(`Error loading script: ${err.message}`));\n",
              "    } else if (typeof vegaEmbed === \"function\") {\n",
              "      displayChart(vegaEmbed);\n",
              "    } else {\n",
              "      loadScript(\"vega\")\n",
              "        .then(() => loadScript(\"vega-lite\"))\n",
              "        .then(() => loadScript(\"vega-embed\"))\n",
              "        .catch(showError)\n",
              "        .then(() => displayChart(vegaEmbed));\n",
              "    }\n",
              "  })({\"config\": {\"view\": {\"continuousWidth\": 400, \"continuousHeight\": 300}}, \"data\": {\"name\": \"data-5a194466983f6bcbb5daf8b7f2d28493\"}, \"mark\": {\"type\": \"point\", \"size\": 70}, \"encoding\": {\"tooltip\": [{\"type\": \"nominal\", \"field\": \"TITLE\"}, {\"type\": \"quantitative\", \"field\": \"RATING\"}, {\"type\": \"quantitative\", \"field\": \"BOXOFFICE\"}], \"x\": {\"type\": \"quantitative\", \"field\": \"BOXOFFICE\", \"scale\": {\"type\": \"log\"}}}, \"height\": 150, \"selection\": {\"selector002\": {\"type\": \"interval\", \"bind\": \"scales\", \"encodings\": [\"x\", \"y\"]}}, \"width\": 600, \"$schema\": \"https://vega.github.io/schema/vega-lite/v4.8.1.json\", \"datasets\": {\"data-5a194466983f6bcbb5daf8b7f2d28493\": [{\"RATING\": 85, \"TITLE\": \"Avengers: Infinity War\", \"CREDIT\": \"Natasha Romanoff/Black Widow\", \"BOXOFFICE\": 665.0, \"YEAR\": 2018}, {\"RATING\": 44, \"TITLE\": \"Rough Night\", \"CREDIT\": \"Jess\", \"BOXOFFICE\": 22.1, \"YEAR\": 2017}, {\"RATING\": 43, \"TITLE\": \"Ghost in the Shell\", \"CREDIT\": \"Major\", \"BOXOFFICE\": 40.6, \"YEAR\": 2017}, {\"RATING\": 72, \"TITLE\": \"Sing\", \"CREDIT\": \"Ash\", \"BOXOFFICE\": 270.4, \"YEAR\": 2016}, {\"RATING\": 91, \"TITLE\": \"Captain America: Civil War\", \"CREDIT\": \"Natasha Romanoff/Black Widow\", \"BOXOFFICE\": 408.1, \"YEAR\": 2016}, {\"RATING\": 95, \"TITLE\": \"The Jungle Book\", \"CREDIT\": \"Kaa\", \"BOXOFFICE\": 364.0, \"YEAR\": 2016}, {\"RATING\": 86, \"TITLE\": \"Hail, Caesar!\", \"CREDIT\": \"DeeAnna Moran\", \"BOXOFFICE\": 28.0, \"YEAR\": 2016}, {\"RATING\": 75, \"TITLE\": \"Avengers: Age of Ultron\", \"CREDIT\": \"Natasha Romanoff/Black Widow\", \"BOXOFFICE\": 429.2, \"YEAR\": 2015}, {\"RATING\": 67, \"TITLE\": \"Lucy\", \"CREDIT\": \"Lucy\", \"BOXOFFICE\": 108.6, \"YEAR\": 2014}, {\"RATING\": 87, \"TITLE\": \"Chef\", \"CREDIT\": \"Molly\", \"BOXOFFICE\": 23.7, \"YEAR\": 2014}, {\"RATING\": 90, \"TITLE\": \"Captain America: The Winter Soldier\", \"CREDIT\": \"Natasha Romanoff/Black Widow\", \"BOXOFFICE\": 228.7, \"YEAR\": 2014}, {\"RATING\": 84, \"TITLE\": \"Under the Skin\", \"CREDIT\": \"Laura\", \"BOXOFFICE\": 2.4, \"YEAR\": 2014}, {\"RATING\": 94, \"TITLE\": \"Her\", \"CREDIT\": \"Samantha\", \"BOXOFFICE\": 18.0, \"YEAR\": 2013}, {\"RATING\": 60, \"TITLE\": \"Hitchcock\", \"CREDIT\": \"Janet Leigh\", \"BOXOFFICE\": 6.1, \"YEAR\": 2012}, {\"RATING\": 96, \"TITLE\": \"Chasing Ice\", \"CREDIT\": \"Actor\", \"BOXOFFICE\": 1.4, \"YEAR\": 2012}, {\"RATING\": 92, \"TITLE\": \"Marvel's The Avengers\", \"CREDIT\": \"Natasha Romanoff/Black Widow\", \"BOXOFFICE\": 623.3, \"YEAR\": 2012}, {\"RATING\": 64, \"TITLE\": \"We Bought a Zoo\", \"CREDIT\": \"Kelly Foster\", \"BOXOFFICE\": 72.8, \"YEAR\": 2011}, {\"RATING\": 73, \"TITLE\": \"Iron Man 2\", \"CREDIT\": \"Natalie Rushman/Black Widow\", \"BOXOFFICE\": 312.1, \"YEAR\": 2010}, {\"RATING\": 40, \"TITLE\": \"He's Just Not That Into You\", \"CREDIT\": \"Anna\", \"BOXOFFICE\": 93.9, \"YEAR\": 2009}, {\"RATING\": 14, \"TITLE\": \"The Spirit\", \"CREDIT\": \"Silken Floss\", \"BOXOFFICE\": 19.8, \"YEAR\": 2008}, {\"RATING\": 81, \"TITLE\": \"Vicky Cristina Barcelona\", \"CREDIT\": \"Cristina\", \"BOXOFFICE\": 23.2, \"YEAR\": 2008}, {\"RATING\": 42, \"TITLE\": \"The Other Boleyn Girl\", \"CREDIT\": \"Mary Boleyn\", \"BOXOFFICE\": 26.9, \"YEAR\": 2008}, {\"RATING\": 34, \"TITLE\": \"The Nanny Diaries\", \"CREDIT\": \"Annie Braddock\", \"BOXOFFICE\": 25.9, \"YEAR\": 2007}, {\"RATING\": 76, \"TITLE\": \"The Prestige\", \"CREDIT\": \"Olivia Wenscombe\", \"BOXOFFICE\": 53.2, \"YEAR\": 2006}, {\"RATING\": 33, \"TITLE\": \"The Black Dahlia\", \"CREDIT\": \"Kay Lake\", \"BOXOFFICE\": 22.6, \"YEAR\": 2006}, {\"RATING\": 41, \"TITLE\": \"Scoop\", \"CREDIT\": \"Sondra Pransky\", \"BOXOFFICE\": 10.5, \"YEAR\": 2006}, {\"RATING\": 76, \"TITLE\": \"Match Point\", \"CREDIT\": \"Nola Rice\", \"BOXOFFICE\": 23.2, \"YEAR\": 2005}, {\"RATING\": 40, \"TITLE\": \"The Island\", \"CREDIT\": \"Jordan Two Delta/Sarah Jordan\", \"BOXOFFICE\": 35.9, \"YEAR\": 2005}, {\"RATING\": 82, \"TITLE\": \"In Good Company\", \"CREDIT\": \"Alex Foreman\", \"BOXOFFICE\": 45.5, \"YEAR\": 2004}, {\"RATING\": 16, \"TITLE\": \"The Perfect Score\", \"CREDIT\": \"Francesca\", \"BOXOFFICE\": 10.3, \"YEAR\": 2004}, {\"RATING\": 72, \"TITLE\": \"Girl With a Pearl Earring\", \"CREDIT\": \"Griet\", \"BOXOFFICE\": 11.6, \"YEAR\": 2004}, {\"RATING\": 95, \"TITLE\": \"Lost In Translation\", \"CREDIT\": \"Charlotte\", \"BOXOFFICE\": 44.6, \"YEAR\": 2003}, {\"RATING\": 48, \"TITLE\": \"Eight Legged Freaks\", \"CREDIT\": \"Ashley Parker\", \"BOXOFFICE\": 17.3, \"YEAR\": 2002}, {\"RATING\": 81, \"TITLE\": \"The Man Who Wasn't There\", \"CREDIT\": \"Birdy Abundas\", \"BOXOFFICE\": 7.5, \"YEAR\": 2001}, {\"RATING\": 92, \"TITLE\": \"Ghost World\", \"CREDIT\": \"Rebecca\", \"BOXOFFICE\": 4.7, \"YEAR\": 2001}]}}, {\"mode\": \"vega-lite\"});\n",
              "</script>"
            ]
          },
          "metadata": {
            "tags": []
          },
          "execution_count": 6
        }
      ]
    },
    {
      "cell_type": "markdown",
      "metadata": {
        "id": "u-TGSMzkDmN8"
      },
      "source": [
        "## Estrutura em 2d"
      ]
    },
    {
      "cell_type": "code",
      "metadata": {
        "id": "MP1VS7pj9vnc",
        "colab": {
          "base_uri": "https://localhost:8080/",
          "height": 368
        },
        "outputId": "1e9476f9-99e2-458e-f14e-d6251a3dc35a"
      },
      "source": [
        "alt.Chart(filmes).mark_circle(\n",
        "    size = 70\n",
        ").encode(\n",
        "    y = alt.Y('BOXOFFICE', scale=alt.Scale(type='log')),\n",
        "    x = 'RATING',\n",
        "    tooltip = ['TITLE', 'RATING', 'BOXOFFICE']\n",
        ").interactive()"
      ],
      "execution_count": 7,
      "outputs": [
        {
          "output_type": "execute_result",
          "data": {
            "text/plain": [
              "alt.Chart(...)"
            ],
            "text/html": [
              "\n",
              "<div id=\"altair-viz-3a95aa46d7e249808186d2af8243e540\"></div>\n",
              "<script type=\"text/javascript\">\n",
              "  (function(spec, embedOpt){\n",
              "    let outputDiv = document.currentScript.previousElementSibling;\n",
              "    if (outputDiv.id !== \"altair-viz-3a95aa46d7e249808186d2af8243e540\") {\n",
              "      outputDiv = document.getElementById(\"altair-viz-3a95aa46d7e249808186d2af8243e540\");\n",
              "    }\n",
              "    const paths = {\n",
              "      \"vega\": \"https://cdn.jsdelivr.net/npm//vega@5?noext\",\n",
              "      \"vega-lib\": \"https://cdn.jsdelivr.net/npm//vega-lib?noext\",\n",
              "      \"vega-lite\": \"https://cdn.jsdelivr.net/npm//vega-lite@4.8.1?noext\",\n",
              "      \"vega-embed\": \"https://cdn.jsdelivr.net/npm//vega-embed@6?noext\",\n",
              "    };\n",
              "\n",
              "    function loadScript(lib) {\n",
              "      return new Promise(function(resolve, reject) {\n",
              "        var s = document.createElement('script');\n",
              "        s.src = paths[lib];\n",
              "        s.async = true;\n",
              "        s.onload = () => resolve(paths[lib]);\n",
              "        s.onerror = () => reject(`Error loading script: ${paths[lib]}`);\n",
              "        document.getElementsByTagName(\"head\")[0].appendChild(s);\n",
              "      });\n",
              "    }\n",
              "\n",
              "    function showError(err) {\n",
              "      outputDiv.innerHTML = `<div class=\"error\" style=\"color:red;\">${err}</div>`;\n",
              "      throw err;\n",
              "    }\n",
              "\n",
              "    function displayChart(vegaEmbed) {\n",
              "      vegaEmbed(outputDiv, spec, embedOpt)\n",
              "        .catch(err => showError(`Javascript Error: ${err.message}<br>This usually means there's a typo in your chart specification. See the javascript console for the full traceback.`));\n",
              "    }\n",
              "\n",
              "    if(typeof define === \"function\" && define.amd) {\n",
              "      requirejs.config({paths});\n",
              "      require([\"vega-embed\"], displayChart, err => showError(`Error loading script: ${err.message}`));\n",
              "    } else if (typeof vegaEmbed === \"function\") {\n",
              "      displayChart(vegaEmbed);\n",
              "    } else {\n",
              "      loadScript(\"vega\")\n",
              "        .then(() => loadScript(\"vega-lite\"))\n",
              "        .then(() => loadScript(\"vega-embed\"))\n",
              "        .catch(showError)\n",
              "        .then(() => displayChart(vegaEmbed));\n",
              "    }\n",
              "  })({\"config\": {\"view\": {\"continuousWidth\": 400, \"continuousHeight\": 300}}, \"data\": {\"name\": \"data-5a194466983f6bcbb5daf8b7f2d28493\"}, \"mark\": {\"type\": \"circle\", \"size\": 70}, \"encoding\": {\"tooltip\": [{\"type\": \"nominal\", \"field\": \"TITLE\"}, {\"type\": \"quantitative\", \"field\": \"RATING\"}, {\"type\": \"quantitative\", \"field\": \"BOXOFFICE\"}], \"x\": {\"type\": \"quantitative\", \"field\": \"RATING\"}, \"y\": {\"type\": \"quantitative\", \"field\": \"BOXOFFICE\", \"scale\": {\"type\": \"log\"}}}, \"selection\": {\"selector003\": {\"type\": \"interval\", \"bind\": \"scales\", \"encodings\": [\"x\", \"y\"]}}, \"$schema\": \"https://vega.github.io/schema/vega-lite/v4.8.1.json\", \"datasets\": {\"data-5a194466983f6bcbb5daf8b7f2d28493\": [{\"RATING\": 85, \"TITLE\": \"Avengers: Infinity War\", \"CREDIT\": \"Natasha Romanoff/Black Widow\", \"BOXOFFICE\": 665.0, \"YEAR\": 2018}, {\"RATING\": 44, \"TITLE\": \"Rough Night\", \"CREDIT\": \"Jess\", \"BOXOFFICE\": 22.1, \"YEAR\": 2017}, {\"RATING\": 43, \"TITLE\": \"Ghost in the Shell\", \"CREDIT\": \"Major\", \"BOXOFFICE\": 40.6, \"YEAR\": 2017}, {\"RATING\": 72, \"TITLE\": \"Sing\", \"CREDIT\": \"Ash\", \"BOXOFFICE\": 270.4, \"YEAR\": 2016}, {\"RATING\": 91, \"TITLE\": \"Captain America: Civil War\", \"CREDIT\": \"Natasha Romanoff/Black Widow\", \"BOXOFFICE\": 408.1, \"YEAR\": 2016}, {\"RATING\": 95, \"TITLE\": \"The Jungle Book\", \"CREDIT\": \"Kaa\", \"BOXOFFICE\": 364.0, \"YEAR\": 2016}, {\"RATING\": 86, \"TITLE\": \"Hail, Caesar!\", \"CREDIT\": \"DeeAnna Moran\", \"BOXOFFICE\": 28.0, \"YEAR\": 2016}, {\"RATING\": 75, \"TITLE\": \"Avengers: Age of Ultron\", \"CREDIT\": \"Natasha Romanoff/Black Widow\", \"BOXOFFICE\": 429.2, \"YEAR\": 2015}, {\"RATING\": 67, \"TITLE\": \"Lucy\", \"CREDIT\": \"Lucy\", \"BOXOFFICE\": 108.6, \"YEAR\": 2014}, {\"RATING\": 87, \"TITLE\": \"Chef\", \"CREDIT\": \"Molly\", \"BOXOFFICE\": 23.7, \"YEAR\": 2014}, {\"RATING\": 90, \"TITLE\": \"Captain America: The Winter Soldier\", \"CREDIT\": \"Natasha Romanoff/Black Widow\", \"BOXOFFICE\": 228.7, \"YEAR\": 2014}, {\"RATING\": 84, \"TITLE\": \"Under the Skin\", \"CREDIT\": \"Laura\", \"BOXOFFICE\": 2.4, \"YEAR\": 2014}, {\"RATING\": 94, \"TITLE\": \"Her\", \"CREDIT\": \"Samantha\", \"BOXOFFICE\": 18.0, \"YEAR\": 2013}, {\"RATING\": 60, \"TITLE\": \"Hitchcock\", \"CREDIT\": \"Janet Leigh\", \"BOXOFFICE\": 6.1, \"YEAR\": 2012}, {\"RATING\": 96, \"TITLE\": \"Chasing Ice\", \"CREDIT\": \"Actor\", \"BOXOFFICE\": 1.4, \"YEAR\": 2012}, {\"RATING\": 92, \"TITLE\": \"Marvel's The Avengers\", \"CREDIT\": \"Natasha Romanoff/Black Widow\", \"BOXOFFICE\": 623.3, \"YEAR\": 2012}, {\"RATING\": 64, \"TITLE\": \"We Bought a Zoo\", \"CREDIT\": \"Kelly Foster\", \"BOXOFFICE\": 72.8, \"YEAR\": 2011}, {\"RATING\": 73, \"TITLE\": \"Iron Man 2\", \"CREDIT\": \"Natalie Rushman/Black Widow\", \"BOXOFFICE\": 312.1, \"YEAR\": 2010}, {\"RATING\": 40, \"TITLE\": \"He's Just Not That Into You\", \"CREDIT\": \"Anna\", \"BOXOFFICE\": 93.9, \"YEAR\": 2009}, {\"RATING\": 14, \"TITLE\": \"The Spirit\", \"CREDIT\": \"Silken Floss\", \"BOXOFFICE\": 19.8, \"YEAR\": 2008}, {\"RATING\": 81, \"TITLE\": \"Vicky Cristina Barcelona\", \"CREDIT\": \"Cristina\", \"BOXOFFICE\": 23.2, \"YEAR\": 2008}, {\"RATING\": 42, \"TITLE\": \"The Other Boleyn Girl\", \"CREDIT\": \"Mary Boleyn\", \"BOXOFFICE\": 26.9, \"YEAR\": 2008}, {\"RATING\": 34, \"TITLE\": \"The Nanny Diaries\", \"CREDIT\": \"Annie Braddock\", \"BOXOFFICE\": 25.9, \"YEAR\": 2007}, {\"RATING\": 76, \"TITLE\": \"The Prestige\", \"CREDIT\": \"Olivia Wenscombe\", \"BOXOFFICE\": 53.2, \"YEAR\": 2006}, {\"RATING\": 33, \"TITLE\": \"The Black Dahlia\", \"CREDIT\": \"Kay Lake\", \"BOXOFFICE\": 22.6, \"YEAR\": 2006}, {\"RATING\": 41, \"TITLE\": \"Scoop\", \"CREDIT\": \"Sondra Pransky\", \"BOXOFFICE\": 10.5, \"YEAR\": 2006}, {\"RATING\": 76, \"TITLE\": \"Match Point\", \"CREDIT\": \"Nola Rice\", \"BOXOFFICE\": 23.2, \"YEAR\": 2005}, {\"RATING\": 40, \"TITLE\": \"The Island\", \"CREDIT\": \"Jordan Two Delta/Sarah Jordan\", \"BOXOFFICE\": 35.9, \"YEAR\": 2005}, {\"RATING\": 82, \"TITLE\": \"In Good Company\", \"CREDIT\": \"Alex Foreman\", \"BOXOFFICE\": 45.5, \"YEAR\": 2004}, {\"RATING\": 16, \"TITLE\": \"The Perfect Score\", \"CREDIT\": \"Francesca\", \"BOXOFFICE\": 10.3, \"YEAR\": 2004}, {\"RATING\": 72, \"TITLE\": \"Girl With a Pearl Earring\", \"CREDIT\": \"Griet\", \"BOXOFFICE\": 11.6, \"YEAR\": 2004}, {\"RATING\": 95, \"TITLE\": \"Lost In Translation\", \"CREDIT\": \"Charlotte\", \"BOXOFFICE\": 44.6, \"YEAR\": 2003}, {\"RATING\": 48, \"TITLE\": \"Eight Legged Freaks\", \"CREDIT\": \"Ashley Parker\", \"BOXOFFICE\": 17.3, \"YEAR\": 2002}, {\"RATING\": 81, \"TITLE\": \"The Man Who Wasn't There\", \"CREDIT\": \"Birdy Abundas\", \"BOXOFFICE\": 7.5, \"YEAR\": 2001}, {\"RATING\": 92, \"TITLE\": \"Ghost World\", \"CREDIT\": \"Rebecca\", \"BOXOFFICE\": 4.7, \"YEAR\": 2001}]}}, {\"mode\": \"vega-lite\"});\n",
              "</script>"
            ]
          },
          "metadata": {
            "tags": []
          },
          "execution_count": 7
        }
      ]
    },
    {
      "cell_type": "markdown",
      "metadata": {
        "id": "JOA9eXo9nika"
      },
      "source": [
        "Aliás, se você quiser já ver a análise dos grupos nesses filmes feita por um jornalista, [basta ir aqui](https://fivethirtyeight.com/features/the-four-types-of-scarlett-johansson-movies/). "
      ]
    },
    {
      "cell_type": "markdown",
      "metadata": {
        "id": "7MZpc45fENlw"
      },
      "source": [
        "## Encontrando agrupamentos\n",
        "\n",
        "Uma forma de descrever estrutura nos dados é percebendo grupos de observações mais semelhantes entre si que com o restante dos dados.\n",
        "\n",
        "O tipo de pergunta que queremos responder com agrupamento é _existem grupos de dados claramente diferentes em termos de var_1, var_2... e var_n?_\n",
        "\n",
        "### Sempre há grupos?\n",
        "\n",
        "Não. Para ilustrar, podemos gerar dados sintéticos com e sem tendência de grupos e compará-los "
      ]
    },
    {
      "cell_type": "code",
      "metadata": {
        "id": "B703qzjrEgwk",
        "colab": {
          "base_uri": "https://localhost:8080/",
          "height": 258
        },
        "outputId": "466df0e3-9d6a-4340-fbc0-3efbfe7a1dc7"
      },
      "source": [
        "from sklearn.datasets.samples_generator import make_blobs\n",
        "\n",
        "def cria_df_exemplo(ngrupos, random_state=None): \n",
        "  X, y = make_blobs(n_samples=300, centers=ngrupos,\n",
        "                    cluster_std=0.60, random_state = random_state)\n",
        "  return pd.DataFrame(dict(x=X[:,0], y=X[:,1]))\n",
        " \n",
        "df1 = cria_df_exemplo(4)\n",
        "df1.head()"
      ],
      "execution_count": 8,
      "outputs": [
        {
          "output_type": "stream",
          "text": [
            "/usr/local/lib/python3.7/dist-packages/sklearn/utils/deprecation.py:144: FutureWarning: The sklearn.datasets.samples_generator module is  deprecated in version 0.22 and will be removed in version 0.24. The corresponding classes / functions should instead be imported from sklearn.datasets. Anything that cannot be imported from sklearn.datasets is now part of the private API.\n",
            "  warnings.warn(message, FutureWarning)\n"
          ],
          "name": "stderr"
        },
        {
          "output_type": "execute_result",
          "data": {
            "text/html": [
              "<div>\n",
              "<style scoped>\n",
              "    .dataframe tbody tr th:only-of-type {\n",
              "        vertical-align: middle;\n",
              "    }\n",
              "\n",
              "    .dataframe tbody tr th {\n",
              "        vertical-align: top;\n",
              "    }\n",
              "\n",
              "    .dataframe thead th {\n",
              "        text-align: right;\n",
              "    }\n",
              "</style>\n",
              "<table border=\"1\" class=\"dataframe\">\n",
              "  <thead>\n",
              "    <tr style=\"text-align: right;\">\n",
              "      <th></th>\n",
              "      <th>x</th>\n",
              "      <th>y</th>\n",
              "    </tr>\n",
              "  </thead>\n",
              "  <tbody>\n",
              "    <tr>\n",
              "      <th>0</th>\n",
              "      <td>-4.246187</td>\n",
              "      <td>6.338385</td>\n",
              "    </tr>\n",
              "    <tr>\n",
              "      <th>1</th>\n",
              "      <td>9.997111</td>\n",
              "      <td>0.113111</td>\n",
              "    </tr>\n",
              "    <tr>\n",
              "      <th>2</th>\n",
              "      <td>-0.758599</td>\n",
              "      <td>8.835953</td>\n",
              "    </tr>\n",
              "    <tr>\n",
              "      <th>3</th>\n",
              "      <td>0.045896</td>\n",
              "      <td>8.275034</td>\n",
              "    </tr>\n",
              "    <tr>\n",
              "      <th>4</th>\n",
              "      <td>3.028382</td>\n",
              "      <td>-8.428534</td>\n",
              "    </tr>\n",
              "  </tbody>\n",
              "</table>\n",
              "</div>"
            ],
            "text/plain": [
              "          x         y\n",
              "0 -4.246187  6.338385\n",
              "1  9.997111  0.113111\n",
              "2 -0.758599  8.835953\n",
              "3  0.045896  8.275034\n",
              "4  3.028382 -8.428534"
            ]
          },
          "metadata": {
            "tags": []
          },
          "execution_count": 8
        }
      ]
    },
    {
      "cell_type": "markdown",
      "metadata": {
        "id": "Pr2mgjHOGVKY"
      },
      "source": [
        "Rode várias vezes as células seguintes. A primeira quase sempre mostrará uma estrutura com 4 grupos. A segunda deve dificultar vermos grupos."
      ]
    },
    {
      "cell_type": "code",
      "metadata": {
        "id": "Q4T_sNTHF9KN",
        "colab": {
          "base_uri": "https://localhost:8080/",
          "height": 368
        },
        "outputId": "2fc1d161-719e-49a6-b182-4e09f6d06eda"
      },
      "source": [
        "alt.Chart(cria_df_exemplo(4)).mark_point(\n",
        "    size = 70\n",
        ").encode(\n",
        "    x = 'x',\n",
        "    y = 'y'\n",
        ").interactive()"
      ],
      "execution_count": 9,
      "outputs": [
        {
          "output_type": "execute_result",
          "data": {
            "text/plain": [
              "alt.Chart(...)"
            ],
            "text/html": [
              "\n",
              "<div id=\"altair-viz-835dda10367342e2a4a2ebeb022092de\"></div>\n",
              "<script type=\"text/javascript\">\n",
              "  (function(spec, embedOpt){\n",
              "    let outputDiv = document.currentScript.previousElementSibling;\n",
              "    if (outputDiv.id !== \"altair-viz-835dda10367342e2a4a2ebeb022092de\") {\n",
              "      outputDiv = document.getElementById(\"altair-viz-835dda10367342e2a4a2ebeb022092de\");\n",
              "    }\n",
              "    const paths = {\n",
              "      \"vega\": \"https://cdn.jsdelivr.net/npm//vega@5?noext\",\n",
              "      \"vega-lib\": \"https://cdn.jsdelivr.net/npm//vega-lib?noext\",\n",
              "      \"vega-lite\": \"https://cdn.jsdelivr.net/npm//vega-lite@4.8.1?noext\",\n",
              "      \"vega-embed\": \"https://cdn.jsdelivr.net/npm//vega-embed@6?noext\",\n",
              "    };\n",
              "\n",
              "    function loadScript(lib) {\n",
              "      return new Promise(function(resolve, reject) {\n",
              "        var s = document.createElement('script');\n",
              "        s.src = paths[lib];\n",
              "        s.async = true;\n",
              "        s.onload = () => resolve(paths[lib]);\n",
              "        s.onerror = () => reject(`Error loading script: ${paths[lib]}`);\n",
              "        document.getElementsByTagName(\"head\")[0].appendChild(s);\n",
              "      });\n",
              "    }\n",
              "\n",
              "    function showError(err) {\n",
              "      outputDiv.innerHTML = `<div class=\"error\" style=\"color:red;\">${err}</div>`;\n",
              "      throw err;\n",
              "    }\n",
              "\n",
              "    function displayChart(vegaEmbed) {\n",
              "      vegaEmbed(outputDiv, spec, embedOpt)\n",
              "        .catch(err => showError(`Javascript Error: ${err.message}<br>This usually means there's a typo in your chart specification. See the javascript console for the full traceback.`));\n",
              "    }\n",
              "\n",
              "    if(typeof define === \"function\" && define.amd) {\n",
              "      requirejs.config({paths});\n",
              "      require([\"vega-embed\"], displayChart, err => showError(`Error loading script: ${err.message}`));\n",
              "    } else if (typeof vegaEmbed === \"function\") {\n",
              "      displayChart(vegaEmbed);\n",
              "    } else {\n",
              "      loadScript(\"vega\")\n",
              "        .then(() => loadScript(\"vega-lite\"))\n",
              "        .then(() => loadScript(\"vega-embed\"))\n",
              "        .catch(showError)\n",
              "        .then(() => displayChart(vegaEmbed));\n",
              "    }\n",
              "  })({\"config\": {\"view\": {\"continuousWidth\": 400, \"continuousHeight\": 300}}, \"data\": {\"name\": \"data-f9a156f43d29197a8467f10b49b0b33c\"}, \"mark\": {\"type\": \"point\", \"size\": 70}, \"encoding\": {\"x\": {\"type\": \"quantitative\", \"field\": \"x\"}, \"y\": {\"type\": \"quantitative\", \"field\": \"y\"}}, \"selection\": {\"selector004\": {\"type\": \"interval\", \"bind\": \"scales\", \"encodings\": [\"x\", \"y\"]}}, \"$schema\": \"https://vega.github.io/schema/vega-lite/v4.8.1.json\", \"datasets\": {\"data-f9a156f43d29197a8467f10b49b0b33c\": [{\"x\": 2.4011994236886647, \"y\": 1.8829029594644044}, {\"x\": 6.629925348776768, \"y\": 5.2733083234042635}, {\"x\": 4.013519698044648, \"y\": 2.3403709910484074}, {\"x\": 2.6501188619082825, \"y\": 1.7499622808113122}, {\"x\": 3.585710811144722, \"y\": -7.071111223113123}, {\"x\": 7.099393056370789, \"y\": 5.430924367251712}, {\"x\": 5.447971360444309, \"y\": -5.903149548102106}, {\"x\": 5.240563187828229, \"y\": -6.534860261775992}, {\"x\": 0.7364950834626945, \"y\": 3.6708381019878704}, {\"x\": 3.1011549103402096, \"y\": 0.9624733098058151}, {\"x\": 6.057932016160875, \"y\": 4.132337771946236}, {\"x\": 7.628328427973501, \"y\": 5.583138757656178}, {\"x\": 2.4610739808989597, \"y\": 1.7505432138456674}, {\"x\": -0.2309346392045497, \"y\": 2.9357668692356276}, {\"x\": 4.3937871766912515, \"y\": -3.926212850283259}, {\"x\": 3.699975350376586, \"y\": 1.4528513165112926}, {\"x\": 5.818703777306963, \"y\": -6.834042188163189}, {\"x\": -0.2702838963073846, \"y\": 3.11973633926344}, {\"x\": 6.863664610868617, \"y\": -5.354932096993519}, {\"x\": 0.8741681798303589, \"y\": 3.055672885596282}, {\"x\": 0.37681264323665076, \"y\": 2.662298140048292}, {\"x\": 4.463841772398877, \"y\": -6.426236856440054}, {\"x\": 2.6091887123590833, \"y\": 1.2988711342637032}, {\"x\": -0.03234526956291928, \"y\": 3.439680400904951}, {\"x\": 4.643738921454014, \"y\": -5.177468831525389}, {\"x\": 0.3106289806750522, \"y\": 2.564372195995962}, {\"x\": 4.366082611760838, \"y\": 0.7777036731200976}, {\"x\": 7.02492509830227, \"y\": 6.484693037852253}, {\"x\": 3.7099827646799475, \"y\": 1.506014979126966}, {\"x\": 6.31712685183923, \"y\": -5.17721789561053}, {\"x\": 4.313788106017071, \"y\": -5.606881665274263}, {\"x\": 3.9393548904005593, \"y\": 0.6115282116328802}, {\"x\": 0.8778092347021559, \"y\": 2.823333615348935}, {\"x\": 6.908483763759117, \"y\": 6.141571995609813}, {\"x\": 5.419959065218643, \"y\": -6.003900920615435}, {\"x\": 2.9215748475402745, \"y\": 1.275139431017875}, {\"x\": 3.5643035910756327, \"y\": 0.8297942157823356}, {\"x\": -0.5919923484850453, \"y\": 3.820059756085777}, {\"x\": 7.342756419283602, \"y\": 6.477023521749604}, {\"x\": 0.47480052478545387, \"y\": 4.125800714994259}, {\"x\": 2.9200442823112622, \"y\": 1.440068090617709}, {\"x\": 1.4849076330073732, \"y\": 2.7721740442274716}, {\"x\": 0.3400728463445319, \"y\": 3.501492122709539}, {\"x\": 7.006069994516444, \"y\": 6.838380446148352}, {\"x\": 4.397191387594633, \"y\": -6.151414137363048}, {\"x\": 7.290123366350298, \"y\": 5.586967006688809}, {\"x\": 3.3249968392031497, \"y\": 0.37867984504388696}, {\"x\": 0.45100423393620515, \"y\": 2.169116405916655}, {\"x\": 0.4405492240449472, \"y\": 3.016316150109473}, {\"x\": 0.2951031317282157, \"y\": 2.9423468383018463}, {\"x\": 3.3421191747271135, \"y\": 0.8519983276474701}, {\"x\": 7.543867619138359, \"y\": 5.433702915640775}, {\"x\": 4.7204269216941555, \"y\": -5.991426043607577}, {\"x\": -0.4578130476930782, \"y\": 3.454904890319066}, {\"x\": 1.8410005347764373, \"y\": 2.8843298348124202}, {\"x\": 7.391385115822823, \"y\": 6.24306075935941}, {\"x\": 2.507590449308868, \"y\": 1.8130213744396868}, {\"x\": 0.27339937221986044, \"y\": 2.8164587445818334}, {\"x\": 6.073458085292111, \"y\": 5.064839395735087}, {\"x\": 2.528898549016471, \"y\": 1.4782273590933455}, {\"x\": 3.2812886448474923, \"y\": 1.3361234818425134}, {\"x\": 2.7392222274719464, \"y\": 0.5481135014196725}, {\"x\": 5.6872180526255995, \"y\": -7.322334285182822}, {\"x\": 6.422158764767731, \"y\": 5.2988634801854335}, {\"x\": 2.8479644236759127, \"y\": 1.6876579482291325}, {\"x\": 1.8376625298784097, \"y\": 2.565580127477895}, {\"x\": 7.145441358817781, \"y\": 6.433704302129079}, {\"x\": 6.122929932837815, \"y\": 6.410718652088518}, {\"x\": -0.02522600172851841, \"y\": 3.1555527991635866}, {\"x\": 0.3465456084431349, \"y\": 2.626235149391875}, {\"x\": 0.9719755519759592, \"y\": 4.230644449611456}, {\"x\": 0.3328877177692955, \"y\": 3.0143927968846214}, {\"x\": -0.4083098761983439, \"y\": 2.747717215384977}, {\"x\": 2.953058306805214, \"y\": 0.49546280744694926}, {\"x\": 0.47591605241401813, \"y\": 2.52332006068457}, {\"x\": 7.404499155416611, \"y\": 6.909993142752965}, {\"x\": 6.820291097586553, \"y\": 4.606032388965825}, {\"x\": 5.6972637540351325, \"y\": -6.610872602335363}, {\"x\": 7.485853627931303, \"y\": 5.8061151163166125}, {\"x\": 5.097406800640168, \"y\": -5.7019277492429445}, {\"x\": 0.12364400263058573, \"y\": 2.7087610961028257}, {\"x\": 1.2525671729048424, \"y\": 4.229282638983648}, {\"x\": 0.2888015183598866, \"y\": 2.7460320398531115}, {\"x\": 4.121282552814671, \"y\": -6.123319902303477}, {\"x\": 3.8477350568251096, \"y\": 1.0062530331425097}, {\"x\": 2.4179519984175886, \"y\": 0.48874869329872284}, {\"x\": 6.276534599316331, \"y\": 4.620292781015715}, {\"x\": 5.715089822472933, \"y\": -5.194340226670024}, {\"x\": 3.51563759234405, \"y\": 1.5164056051855366}, {\"x\": 5.288814288754128, \"y\": -5.848867615837379}, {\"x\": 2.9675215491914173, \"y\": 0.6950992974220738}, {\"x\": 3.586322840221541, \"y\": 1.5337725161157145}, {\"x\": 0.553023005942477, \"y\": 4.066355300837853}, {\"x\": 6.717246446150605, \"y\": 5.596343581889586}, {\"x\": 7.8084744957102705, \"y\": 6.3147893891570055}, {\"x\": 5.274123983412095, \"y\": -5.935300621725891}, {\"x\": 7.76647666022941, \"y\": 5.235570121040874}, {\"x\": 7.024543258305239, \"y\": 6.432223177131793}, {\"x\": 5.041532682497198, \"y\": -6.801238226120377}, {\"x\": 0.6047571040104668, \"y\": 1.7863801742867385}, {\"x\": 4.664943608372956, \"y\": -6.23266262399506}, {\"x\": 7.894945372814714, \"y\": 5.432655806335794}, {\"x\": 0.37118410182154055, \"y\": 3.0258118328832158}, {\"x\": 6.556599522024797, \"y\": 4.4646438093977645}, {\"x\": 1.114732356651018, \"y\": 1.9602064272642963}, {\"x\": 6.403535238470585, \"y\": 5.697191090216817}, {\"x\": 2.5646612803328974, \"y\": 0.8950813604765079}, {\"x\": 5.054600203506416, \"y\": -5.57072933547066}, {\"x\": 0.488984101781615, \"y\": 2.22565262866104}, {\"x\": 5.396207356466675, \"y\": -5.4480962952035945}, {\"x\": 5.320294634082427, \"y\": -5.9039978004709415}, {\"x\": 6.757729062458265, \"y\": 6.047867138611351}, {\"x\": 4.696304405053121, \"y\": 1.12944742943257}, {\"x\": 3.6267468135343184, \"y\": -0.11110094388813141}, {\"x\": 2.278557148733972, \"y\": 3.367976298830931}, {\"x\": 5.997739801438853, \"y\": -5.519637334618264}, {\"x\": 5.855995357501976, \"y\": -4.990128346329657}, {\"x\": 5.411521910041937, \"y\": -5.658668370252857}, {\"x\": -0.18408859365629893, \"y\": 3.3129501383535227}, {\"x\": 3.091592525080417, \"y\": 1.387015090693061}, {\"x\": 3.1369082106936985, \"y\": 2.0204071625841493}, {\"x\": 7.436639748356548, \"y\": 6.036282464955895}, {\"x\": 6.678881951966487, \"y\": 5.8752419896676695}, {\"x\": 6.573892540244008, \"y\": -6.897469103080383}, {\"x\": 8.238465441319363, \"y\": 5.7325599369523905}, {\"x\": 0.5891813053008372, \"y\": 2.6648068766131883}, {\"x\": 2.5399328204738953, \"y\": 1.793980841638422}, {\"x\": 7.261122225856286, \"y\": 5.465113540652984}, {\"x\": 3.0591698884544414, \"y\": 1.2801498109083578}, {\"x\": 6.90533583029704, \"y\": 4.624454064141314}, {\"x\": 2.609047911916341, \"y\": 1.2042939874935636}, {\"x\": 7.622107943749734, \"y\": 6.479230925468627}, {\"x\": 2.631558399900162, \"y\": 1.2562519881099894}, {\"x\": 5.012665198137936, \"y\": -6.342171766805946}, {\"x\": 5.712925460798284, \"y\": -6.942740314433971}, {\"x\": 3.0285808619368715, \"y\": 1.0672111627216558}, {\"x\": 0.45877637034334806, \"y\": 3.8494897958384326}, {\"x\": 0.5597114977288362, \"y\": 3.5438135093376886}, {\"x\": 0.7996610225533297, \"y\": 3.4950431685787713}, {\"x\": 5.889736056966721, \"y\": -6.48806793642895}, {\"x\": 6.722875411728583, \"y\": 5.737288541874889}, {\"x\": 3.2988286865752814, \"y\": 0.8381886416816233}, {\"x\": 4.460989910237361, \"y\": -6.936853906143398}, {\"x\": 6.71850675536832, \"y\": 5.580729229125081}, {\"x\": 5.308053970461097, \"y\": -6.0289634116399125}, {\"x\": 3.036621540243167, \"y\": 0.3631556955845666}, {\"x\": 5.856532006224217, \"y\": -5.543589735534481}, {\"x\": 3.691912544445771, \"y\": 2.062501444032449}, {\"x\": 0.5516838797780275, \"y\": 3.0209599302742376}, {\"x\": 0.10965057800811517, \"y\": 3.4295325076946943}, {\"x\": 5.5666403416948365, \"y\": -4.709799333966798}, {\"x\": 5.200895760883234, \"y\": -7.1848581459129415}, {\"x\": 5.341643022033003, \"y\": 5.352809757193873}, {\"x\": 5.97703935167094, \"y\": 5.139654067159591}, {\"x\": 4.038302263393474, \"y\": 1.4808282170241982}, {\"x\": 5.499077412333872, \"y\": 6.97078143899392}, {\"x\": 4.731332985524945, \"y\": -5.557721118171026}, {\"x\": 6.801981954407269, \"y\": 6.62091028248844}, {\"x\": 2.9352367331856066, \"y\": 0.30248627438280684}, {\"x\": 2.9758541482828966, \"y\": 1.5730714265964847}, {\"x\": -0.09071539064029299, \"y\": 2.4888087463305046}, {\"x\": 0.8873679503031602, \"y\": 1.8810481682768587}, {\"x\": 7.565855793493695, \"y\": 5.589773958781953}, {\"x\": 2.8813584482335113, \"y\": 0.8765334699298171}, {\"x\": 6.517321212532445, \"y\": 6.198105733006313}, {\"x\": 7.162231017575594, \"y\": 5.8708481486379185}, {\"x\": -0.5153760974487538, \"y\": 3.441281275758463}, {\"x\": 7.126909833539342, \"y\": 6.071521204549521}, {\"x\": 1.7671285810398294, \"y\": 0.5195332424348481}, {\"x\": 4.1886158561850415, \"y\": -5.412382277020512}, {\"x\": -0.02991371712589841, \"y\": 3.4340661595920965}, {\"x\": 5.548714703354785, \"y\": 6.834305757913041}, {\"x\": 0.9621444705941158, \"y\": 3.8182006495599854}, {\"x\": 5.620592708446076, \"y\": -6.16528230942398}, {\"x\": 0.48964441937473996, \"y\": 2.7538573427315036}, {\"x\": 7.362002295453113, \"y\": 6.280218302708561}, {\"x\": 2.9360222057357377, \"y\": 1.2448966821434582}, {\"x\": 2.755249711498474, \"y\": 1.4602618840897086}, {\"x\": 4.901063520156985, \"y\": -5.025943286555998}, {\"x\": 5.080150841963608, \"y\": -5.345152379312032}, {\"x\": 7.460275470610227, \"y\": 6.5999954514904875}, {\"x\": 5.626959774959237, \"y\": -6.228625774109349}, {\"x\": 3.7916304499874833, \"y\": 1.299375612432124}, {\"x\": 3.466022099266731, \"y\": 1.2407629508135654}, {\"x\": 1.131166615018815, \"y\": 3.465708365807602}, {\"x\": 4.138435222779829, \"y\": -5.666787635541301}, {\"x\": 7.417227327078862, \"y\": 5.9715738207625755}, {\"x\": 6.267178620774622, \"y\": -7.300184249557748}, {\"x\": 5.728096357318869, \"y\": -5.9102167928044205}, {\"x\": 5.974310381817025, \"y\": -6.183240614834948}, {\"x\": 5.285126199156069, \"y\": -6.640327775293776}, {\"x\": 2.298629868925136, \"y\": 0.9687989211500391}, {\"x\": 6.055948873340787, \"y\": 6.296786170403392}, {\"x\": 3.8897868510547315, \"y\": -5.705543037459122}, {\"x\": 6.841550001241046, \"y\": 5.708016700072641}, {\"x\": 4.726530572195745, \"y\": -5.001618733286579}, {\"x\": 5.643987797037402, \"y\": 4.846867770709159}, {\"x\": 5.695929906515096, \"y\": 5.875815702716078}, {\"x\": 0.7897096808518305, \"y\": 3.2786558099497483}, {\"x\": 6.6441090081118395, \"y\": 5.6713558368347705}, {\"x\": 6.748585091018208, \"y\": 6.08956332027796}, {\"x\": 5.155233084760259, \"y\": -5.664859672794804}, {\"x\": 6.382514765082006, \"y\": 6.023382312275739}, {\"x\": 7.508153627925067, \"y\": 5.482024742312761}, {\"x\": 6.1383814621889385, \"y\": 5.749945308841282}, {\"x\": 1.0145574054815323, \"y\": 3.136359891780812}, {\"x\": 3.5567170732796543, \"y\": 2.0464243070269648}, {\"x\": 0.2988567164361521, \"y\": 2.968949701977968}, {\"x\": 2.766647732724578, \"y\": 1.4554003284408208}, {\"x\": 7.367342690645612, \"y\": 5.865588433725059}, {\"x\": 6.251339020311513, \"y\": 5.279758638996102}, {\"x\": 4.535246877030094, \"y\": -5.309681848459956}, {\"x\": 2.792198086147617, \"y\": 1.4822416402331178}, {\"x\": 3.2886749825515764, \"y\": 0.2666794439501272}, {\"x\": 6.1165729369685184, \"y\": -6.774072900045569}, {\"x\": 4.957219363167908, \"y\": -5.687632101809439}, {\"x\": 3.3397208822902336, \"y\": 0.9432103012423498}, {\"x\": 6.153438084241484, \"y\": -5.285325742656024}, {\"x\": 5.97202900066571, \"y\": 5.184669529291608}, {\"x\": 7.331294686439287, \"y\": 5.227099989111154}, {\"x\": 0.43653754548378626, \"y\": 2.738867776293076}, {\"x\": 3.388414306319983, \"y\": 0.1443215427014859}, {\"x\": 2.0587367364483877, \"y\": 1.339275872562148}, {\"x\": 6.294794968746179, \"y\": 4.549371956045924}, {\"x\": 2.9794033505675035, \"y\": -0.488316587620202}, {\"x\": 7.4593940984483655, \"y\": 6.519242800725512}, {\"x\": 1.9420517154052936, \"y\": 1.8548457585359972}, {\"x\": 5.033178996038562, \"y\": -6.059190978870575}, {\"x\": 6.900177676968182, \"y\": 5.082566212112058}, {\"x\": 5.853080942143656, \"y\": -5.30969454049348}, {\"x\": 0.6135287994668571, \"y\": 2.388417566010628}, {\"x\": 3.3194446818235033, \"y\": 0.40206714746038186}, {\"x\": 3.0225669632388144, \"y\": 1.8454622868644273}, {\"x\": 0.34764619891370246, \"y\": 3.512300538517921}, {\"x\": 1.9221601362102518, \"y\": 2.7814758834057285}, {\"x\": 5.194432288193647, \"y\": -5.384003210208294}, {\"x\": 0.8556361041537415, \"y\": 1.7201758985560163}, {\"x\": 2.2664204924625277, \"y\": 0.2037422595063978}, {\"x\": 7.217149089399026, \"y\": 4.865575652580628}, {\"x\": 5.216953869583578, \"y\": -5.412137129425133}, {\"x\": 0.7552862929179752, \"y\": 3.576629885840599}, {\"x\": 4.399858631819333, \"y\": -5.314996552213857}, {\"x\": 2.2854892041315735, \"y\": 1.4388585940321241}, {\"x\": 5.7397406816841015, \"y\": -4.324326178476007}, {\"x\": -0.0204450656077817, \"y\": 3.346467749005675}, {\"x\": 4.197010030731933, \"y\": 1.027826820497596}, {\"x\": 0.16673890049811535, \"y\": 2.3240784100367895}, {\"x\": 5.228062054473207, \"y\": -6.7346186959335075}, {\"x\": 5.117046453011547, \"y\": -6.064221102481177}, {\"x\": 2.3559024072638275, \"y\": 0.23173461789391026}, {\"x\": 1.1467973531755447, \"y\": 2.5706482367179877}, {\"x\": 3.4446147653515053, \"y\": 0.4967754046613605}, {\"x\": 5.352591335498972, \"y\": -6.589841176125546}, {\"x\": 2.607380973739357, \"y\": 0.721544083949582}, {\"x\": 5.028763372504406, \"y\": -5.823834713400929}, {\"x\": 2.5642441909806233, \"y\": 1.5240470641002228}, {\"x\": 2.789489274964318, \"y\": 1.660687811329033}, {\"x\": 4.106038422188393, \"y\": 0.41685780536026107}, {\"x\": 0.6551995846843368, \"y\": 1.231207982297605}, {\"x\": 5.136003543286344, \"y\": -5.261342274223945}, {\"x\": 3.3712926554058305, \"y\": 1.0686063335070026}, {\"x\": -0.07422508473963363, \"y\": 2.6803728621159837}, {\"x\": 0.5611083089428086, \"y\": 2.6169584991055252}, {\"x\": 7.94160781201658, \"y\": 6.442769732468827}, {\"x\": 6.5760101883488575, \"y\": 6.9256570460870295}, {\"x\": 5.749989026392995, \"y\": -5.5027094325237735}, {\"x\": 4.626502357690533, \"y\": -5.810477939697392}, {\"x\": 1.1830890384185102, \"y\": 4.0200510931214675}, {\"x\": 7.617123600518023, \"y\": 7.314764984590585}, {\"x\": 0.6231667040070987, \"y\": 2.6086270837897665}, {\"x\": 5.7908155731056485, \"y\": -6.592797480222648}, {\"x\": 2.2202777964242353, \"y\": 0.13848155983715826}, {\"x\": 6.776785129685132, \"y\": 5.945295184629703}, {\"x\": 0.45761021810228797, \"y\": 2.3785471938905904}, {\"x\": 5.927995242425543, \"y\": 5.050216897226267}, {\"x\": 5.442313567164671, \"y\": -5.346418664438707}, {\"x\": 0.8974292410161191, \"y\": 2.604808861777712}, {\"x\": 6.90844905569331, \"y\": 6.362661851526994}, {\"x\": 1.1679415355634797, \"y\": 2.668615589630818}, {\"x\": 5.268239166121771, \"y\": -5.9033120174126745}, {\"x\": 2.3215668813639825, \"y\": 2.248417961616874}, {\"x\": 2.9371719651203945, \"y\": 1.3534622205915752}, {\"x\": 2.619139454427689, \"y\": 2.487100517691692}, {\"x\": 0.732901982531804, \"y\": 3.0876321527473194}, {\"x\": 4.3597781011078025, \"y\": 0.6387243552466679}, {\"x\": 7.366600968539077, \"y\": 4.409909272163312}, {\"x\": 1.0283140766260677, \"y\": 3.663245562473927}, {\"x\": 5.444894382207438, \"y\": -6.460154840613345}, {\"x\": 5.235021042604517, \"y\": -6.18402366053694}, {\"x\": 2.4393917074643103, \"y\": 1.0239025701327111}, {\"x\": 0.5838760653334811, \"y\": 1.7833170904765139}, {\"x\": 0.22918335346553714, \"y\": 1.6880968410812753}, {\"x\": 6.355127060901447, \"y\": 6.627359967398659}, {\"x\": 4.4048894278493815, \"y\": -5.816215440604019}, {\"x\": 6.725909369729044, \"y\": 6.236532865558639}, {\"x\": 6.563677418775591, \"y\": 4.883822570293933}, {\"x\": 5.115450930774722, \"y\": -5.200736352407209}, {\"x\": 6.821489602555963, \"y\": 5.925615587572785}, {\"x\": 0.5986246301982071, \"y\": 2.013144735619897}, {\"x\": 0.12327639467136442, \"y\": 2.6053446138833234}]}}, {\"mode\": \"vega-lite\"});\n",
              "</script>"
            ]
          },
          "metadata": {
            "tags": []
          },
          "execution_count": 9
        }
      ]
    },
    {
      "cell_type": "code",
      "metadata": {
        "id": "NmOpXcnBF9ai",
        "colab": {
          "base_uri": "https://localhost:8080/",
          "height": 368
        },
        "outputId": "9f1e434c-de64-44e9-f80a-89c3078d5743"
      },
      "source": [
        "alt.Chart(cria_df_exemplo(1)).mark_point(\n",
        "    size = 70\n",
        ").encode(\n",
        "    x = 'x',\n",
        "    y = 'y'\n",
        ").interactive()"
      ],
      "execution_count": 10,
      "outputs": [
        {
          "output_type": "execute_result",
          "data": {
            "text/plain": [
              "alt.Chart(...)"
            ],
            "text/html": [
              "\n",
              "<div id=\"altair-viz-d9f87efbfd0e470aa947b8981d3fd319\"></div>\n",
              "<script type=\"text/javascript\">\n",
              "  (function(spec, embedOpt){\n",
              "    let outputDiv = document.currentScript.previousElementSibling;\n",
              "    if (outputDiv.id !== \"altair-viz-d9f87efbfd0e470aa947b8981d3fd319\") {\n",
              "      outputDiv = document.getElementById(\"altair-viz-d9f87efbfd0e470aa947b8981d3fd319\");\n",
              "    }\n",
              "    const paths = {\n",
              "      \"vega\": \"https://cdn.jsdelivr.net/npm//vega@5?noext\",\n",
              "      \"vega-lib\": \"https://cdn.jsdelivr.net/npm//vega-lib?noext\",\n",
              "      \"vega-lite\": \"https://cdn.jsdelivr.net/npm//vega-lite@4.8.1?noext\",\n",
              "      \"vega-embed\": \"https://cdn.jsdelivr.net/npm//vega-embed@6?noext\",\n",
              "    };\n",
              "\n",
              "    function loadScript(lib) {\n",
              "      return new Promise(function(resolve, reject) {\n",
              "        var s = document.createElement('script');\n",
              "        s.src = paths[lib];\n",
              "        s.async = true;\n",
              "        s.onload = () => resolve(paths[lib]);\n",
              "        s.onerror = () => reject(`Error loading script: ${paths[lib]}`);\n",
              "        document.getElementsByTagName(\"head\")[0].appendChild(s);\n",
              "      });\n",
              "    }\n",
              "\n",
              "    function showError(err) {\n",
              "      outputDiv.innerHTML = `<div class=\"error\" style=\"color:red;\">${err}</div>`;\n",
              "      throw err;\n",
              "    }\n",
              "\n",
              "    function displayChart(vegaEmbed) {\n",
              "      vegaEmbed(outputDiv, spec, embedOpt)\n",
              "        .catch(err => showError(`Javascript Error: ${err.message}<br>This usually means there's a typo in your chart specification. See the javascript console for the full traceback.`));\n",
              "    }\n",
              "\n",
              "    if(typeof define === \"function\" && define.amd) {\n",
              "      requirejs.config({paths});\n",
              "      require([\"vega-embed\"], displayChart, err => showError(`Error loading script: ${err.message}`));\n",
              "    } else if (typeof vegaEmbed === \"function\") {\n",
              "      displayChart(vegaEmbed);\n",
              "    } else {\n",
              "      loadScript(\"vega\")\n",
              "        .then(() => loadScript(\"vega-lite\"))\n",
              "        .then(() => loadScript(\"vega-embed\"))\n",
              "        .catch(showError)\n",
              "        .then(() => displayChart(vegaEmbed));\n",
              "    }\n",
              "  })({\"config\": {\"view\": {\"continuousWidth\": 400, \"continuousHeight\": 300}}, \"data\": {\"name\": \"data-c6e182f5b835c7e62e259868bcd5bc89\"}, \"mark\": {\"type\": \"point\", \"size\": 70}, \"encoding\": {\"x\": {\"type\": \"quantitative\", \"field\": \"x\"}, \"y\": {\"type\": \"quantitative\", \"field\": \"y\"}}, \"selection\": {\"selector005\": {\"type\": \"interval\", \"bind\": \"scales\", \"encodings\": [\"x\", \"y\"]}}, \"$schema\": \"https://vega.github.io/schema/vega-lite/v4.8.1.json\", \"datasets\": {\"data-c6e182f5b835c7e62e259868bcd5bc89\": [{\"x\": -1.401501922812295, \"y\": -9.413230753932426}, {\"x\": -1.8686068404317009, \"y\": -9.222311216837754}, {\"x\": -1.2501702283428253, \"y\": -10.447240264204158}, {\"x\": -1.926232825134266, \"y\": -9.744461421538997}, {\"x\": -1.3529279458511594, \"y\": -10.411869571853853}, {\"x\": 0.7009951304904543, \"y\": -8.997211210925732}, {\"x\": -0.7969549200240684, \"y\": -9.606018705303548}, {\"x\": -0.8042963128177973, \"y\": -8.274463554433536}, {\"x\": -0.468190862640409, \"y\": -8.84482052825663}, {\"x\": -0.3472726272684382, \"y\": -8.884277620971286}, {\"x\": -0.8736584639074724, \"y\": -10.32568157134996}, {\"x\": -1.8152184675520664, \"y\": -9.65443195522844}, {\"x\": -0.5805882223246361, \"y\": -9.133124636933044}, {\"x\": -1.112835967532719, \"y\": -8.717635768064701}, {\"x\": -0.25411683949757624, \"y\": -10.175522492543443}, {\"x\": -0.6396128772667722, \"y\": -9.240175494191165}, {\"x\": -0.14526727229676684, \"y\": -9.414924644810165}, {\"x\": -0.8079674836731254, \"y\": -8.733353360290801}, {\"x\": -1.275950669838808, \"y\": -8.551819435438365}, {\"x\": -1.378600979969343, \"y\": -8.374784596132326}, {\"x\": -0.4848832798109074, \"y\": -9.92855052114841}, {\"x\": -1.0900362755512292, \"y\": -8.36827165036166}, {\"x\": -1.2374987011014786, \"y\": -9.837204666456918}, {\"x\": -1.0199402637767694, \"y\": -9.35611934985771}, {\"x\": -0.3566142244258066, \"y\": -10.391375355583165}, {\"x\": -0.520352580830306, \"y\": -8.888416603347492}, {\"x\": -0.5713975543017515, \"y\": -8.505845866369109}, {\"x\": -0.5080000910826199, \"y\": -10.07113770006253}, {\"x\": -0.08511603485403585, \"y\": -10.511410441241555}, {\"x\": -0.28971708924720263, \"y\": -8.0992138478509}, {\"x\": -0.38115281651873656, \"y\": -9.390254263082424}, {\"x\": -1.0665943732450716, \"y\": -10.541511303470266}, {\"x\": -0.6893686284546471, \"y\": -9.446826263816982}, {\"x\": -0.7860163873693377, \"y\": -9.904500352931718}, {\"x\": -0.23229221232508335, \"y\": -8.934424033941301}, {\"x\": -2.5109350275877773, \"y\": -9.889665292187017}, {\"x\": -0.7099497646456372, \"y\": -9.218549502462153}, {\"x\": -1.828339477073174, \"y\": -10.087825741387736}, {\"x\": -0.44255682561602927, \"y\": -8.939892959904277}, {\"x\": -0.09695769394884113, \"y\": -9.182194169131611}, {\"x\": -0.881779441964238, \"y\": -9.18190287054015}, {\"x\": -0.828576250237199, \"y\": -10.080914130906345}, {\"x\": -0.4176479296967525, \"y\": -8.737702126641613}, {\"x\": -0.48761710528383245, \"y\": -9.079682238073394}, {\"x\": -1.6304103505440986, \"y\": -9.515760460745103}, {\"x\": -1.3064138184259844, \"y\": -8.80610365897773}, {\"x\": -1.8282402063798713, \"y\": -9.570778940178931}, {\"x\": -1.5195698988660729, \"y\": -8.572068696120084}, {\"x\": -0.8008604950594674, \"y\": -9.475332612420939}, {\"x\": -0.9655554661398464, \"y\": -9.600539927325753}, {\"x\": -1.5700097317393609, \"y\": -9.67319099775924}, {\"x\": -1.1134854023811016, \"y\": -9.164778004710193}, {\"x\": 0.011272987401421242, \"y\": -9.17840610828486}, {\"x\": -1.3754191040390946, \"y\": -9.312001807418968}, {\"x\": 0.8344469613489631, \"y\": -8.672249887400774}, {\"x\": -1.2448520616416239, \"y\": -9.793023264309852}, {\"x\": -1.2326735820196868, \"y\": -9.54499726317177}, {\"x\": -1.5137742141183548, \"y\": -9.051409840090503}, {\"x\": -0.0693674256978688, \"y\": -9.647391899861264}, {\"x\": -0.015503886193729, \"y\": -9.225733275047668}, {\"x\": -0.8799084711757584, \"y\": -9.846527649587237}, {\"x\": -1.803270093862416, \"y\": -8.751282358000687}, {\"x\": -0.6500794391720452, \"y\": -9.26129624213079}, {\"x\": -0.7688217510001211, \"y\": -9.544218313562746}, {\"x\": 0.12729575330258713, \"y\": -9.930766329532442}, {\"x\": -0.7174943846562428, \"y\": -9.131363833710886}, {\"x\": -1.6656627277883418, \"y\": -9.396795830643452}, {\"x\": -1.7303911959642264, \"y\": -9.893870188819166}, {\"x\": 0.06025722468310524, \"y\": -9.48173410136493}, {\"x\": -1.512895018785903, \"y\": -9.669998054998462}, {\"x\": -0.46370341596592896, \"y\": -9.287226196534276}, {\"x\": -1.1834744424308483, \"y\": -9.149939230381166}, {\"x\": -0.9501593028231384, \"y\": -10.219260612051905}, {\"x\": -0.8355922121644682, \"y\": -9.332190569136232}, {\"x\": -1.4167668288557809, \"y\": -9.346027528000464}, {\"x\": -1.1615803041824657, \"y\": -9.043110330312956}, {\"x\": -0.5978768261237906, \"y\": -9.050688349504105}, {\"x\": -0.9718272308477173, \"y\": -10.233866089026122}, {\"x\": -0.5981209027664977, \"y\": -8.9225555051908}, {\"x\": -1.613090513233881, \"y\": -9.09147676805644}, {\"x\": -1.2985532015409214, \"y\": -9.710881405923782}, {\"x\": -0.9450536549221015, \"y\": -8.96651439029652}, {\"x\": -1.6839946904798724, \"y\": -9.753003372761889}, {\"x\": -1.0362229902926061, \"y\": -9.469809244841674}, {\"x\": -2.0901857277750953, \"y\": -8.958854614699542}, {\"x\": -1.3578219452152094, \"y\": -9.475767244023405}, {\"x\": -0.5743471090423766, \"y\": -9.998444076706813}, {\"x\": -0.3019082744867114, \"y\": -9.791671620404621}, {\"x\": -1.694804979681185, \"y\": -10.004975805507708}, {\"x\": -0.433737062894614, \"y\": -9.495565824338081}, {\"x\": -0.09508607751998699, \"y\": -9.39690371361322}, {\"x\": -1.3588152861259206, \"y\": -9.36329272200315}, {\"x\": -0.05004495229105399, \"y\": -10.067245012124907}, {\"x\": -0.4264143813253824, \"y\": -8.93434104780724}, {\"x\": -1.3917679472763753, \"y\": -9.28345292096564}, {\"x\": -0.26881961371711205, \"y\": -9.068398227691752}, {\"x\": -0.42811642536764793, \"y\": -9.525755050474729}, {\"x\": -0.15432760686111024, \"y\": -9.377835293847287}, {\"x\": -0.6950595373172995, \"y\": -8.567287292208459}, {\"x\": -1.722492178009018, \"y\": -10.124559932363127}, {\"x\": -1.0911433743163093, \"y\": -9.376653356877187}, {\"x\": -1.2065221628492637, \"y\": -9.618741623617625}, {\"x\": -1.4366508543342538, \"y\": -9.950710037310904}, {\"x\": -1.269106198767306, \"y\": -9.118934382867097}, {\"x\": -1.543489786123587, \"y\": -9.883289624784183}, {\"x\": -1.084027535148851, \"y\": -11.008778688540426}, {\"x\": -0.4498714465505783, \"y\": -10.03579663887249}, {\"x\": -1.4591611237161695, \"y\": -10.329934488787499}, {\"x\": -0.7140952557145047, \"y\": -9.900974153443503}, {\"x\": -1.283238493191577, \"y\": -9.610992441178281}, {\"x\": -1.4843549745896745, \"y\": -9.313838098612539}, {\"x\": 0.1578652128411706, \"y\": -9.916676777321037}, {\"x\": -1.1310848635555246, \"y\": -9.941680494206992}, {\"x\": 0.6299649073331948, \"y\": -8.941157975861183}, {\"x\": -1.6707536102754896, \"y\": -9.593769013209302}, {\"x\": -1.6737535513517412, \"y\": -10.036037562736404}, {\"x\": -0.45082402280734835, \"y\": -9.300832756745212}, {\"x\": -0.81994797918538, \"y\": -9.664374779025147}, {\"x\": -1.2353807818813995, \"y\": -10.131203024755617}, {\"x\": -1.4599578865373029, \"y\": -9.644521863042762}, {\"x\": -0.899932927280449, \"y\": -9.36307312115773}, {\"x\": -1.5358159705000358, \"y\": -9.627925191359497}, {\"x\": -0.41608698574100517, \"y\": -8.807912641139614}, {\"x\": -0.8346652184016261, \"y\": -9.831467345621176}, {\"x\": -1.2947201441537621, \"y\": -9.824286770411614}, {\"x\": -0.7264937414554894, \"y\": -9.132222490625601}, {\"x\": -1.0776541727090903, \"y\": -9.123149903577712}, {\"x\": -0.796615914747702, \"y\": -9.62066918524652}, {\"x\": -0.8519242110691406, \"y\": -9.707140945316006}, {\"x\": -1.4751917382063127, \"y\": -8.64013714427604}, {\"x\": -0.835229512221335, \"y\": -9.322046997716756}, {\"x\": -0.7615283584842034, \"y\": -10.013417790599483}, {\"x\": -0.807621600078234, \"y\": -8.80729481988967}, {\"x\": 0.5058389957409641, \"y\": -8.854153530306759}, {\"x\": -0.4348034604689688, \"y\": -9.882088338744005}, {\"x\": -0.6505571169887403, \"y\": -8.920413286375421}, {\"x\": -1.1002580341996149, \"y\": -10.731987860819872}, {\"x\": 0.07098109896699223, \"y\": -10.449104054304875}, {\"x\": -1.4363549877805712, \"y\": -9.563100179570032}, {\"x\": -1.6275907336746973, \"y\": -9.857644077415182}, {\"x\": -1.1327793248716822, \"y\": -9.435102999291795}, {\"x\": -1.4221129269111747, \"y\": -9.160008247759233}, {\"x\": -0.2445222527129448, \"y\": -9.860986750121672}, {\"x\": -1.6952672103186375, \"y\": -10.122187132829241}, {\"x\": -0.9268142134132625, \"y\": -9.681549030171105}, {\"x\": -1.3167365182209465, \"y\": -10.298509806940295}, {\"x\": -1.039486862721152, \"y\": -8.425856063586194}, {\"x\": -0.9446739503425924, \"y\": -9.113136100136964}, {\"x\": -0.6342376631848581, \"y\": -9.843384968288575}, {\"x\": -1.3385729247798435, \"y\": -9.939286787880132}, {\"x\": -0.20700458550413037, \"y\": -9.697410925314484}, {\"x\": -0.4253547073406714, \"y\": -8.448077081038774}, {\"x\": -0.8277687936985438, \"y\": -10.340379996315892}, {\"x\": -0.6737997236977833, \"y\": -9.51157674298523}, {\"x\": -0.787698706000757, \"y\": -9.540896650402669}, {\"x\": -0.4835825817471181, \"y\": -9.493634253719328}, {\"x\": -1.0818828109035545, \"y\": -9.56448341794583}, {\"x\": -1.3277135142355865, \"y\": -9.153619248392138}, {\"x\": -0.6578311188394693, \"y\": -8.95516390473372}, {\"x\": -1.3645943366621978, \"y\": -9.313826979132514}, {\"x\": -1.9696155293118636, \"y\": -8.624684397428169}, {\"x\": -1.1888351525760636, \"y\": -10.341650646377833}, {\"x\": -1.5349115437689216, \"y\": -10.02203126800422}, {\"x\": -0.9077509999494755, \"y\": -9.61661888305478}, {\"x\": -1.1974647067333588, \"y\": -9.609593430087845}, {\"x\": -1.5449363999349683, \"y\": -8.423861446753156}, {\"x\": -1.007791167081155, \"y\": -10.031002214968765}, {\"x\": -1.598965158563641, \"y\": -9.79461524069924}, {\"x\": -0.9880884606912532, \"y\": -9.83350280720517}, {\"x\": 0.11859092583943998, \"y\": -10.059290020891705}, {\"x\": -0.6683213483367693, \"y\": -9.884948884358886}, {\"x\": -1.4614538571327098, \"y\": -9.277705948963305}, {\"x\": -1.542210853819458, \"y\": -9.21261141014804}, {\"x\": -0.599238212595949, \"y\": -9.421309985266802}, {\"x\": -0.3007957860605035, \"y\": -8.761309070821294}, {\"x\": -0.5527041114606819, \"y\": -9.534446620386165}, {\"x\": -0.9247422738921401, \"y\": -9.916709509496863}, {\"x\": -1.0477318095585453, \"y\": -10.009886087974158}, {\"x\": -0.6593033204236918, \"y\": -9.689338437534683}, {\"x\": -1.2990303285706375, \"y\": -9.682162525234977}, {\"x\": -1.5977999612557359, \"y\": -8.984064751901803}, {\"x\": -2.047911342590907, \"y\": -9.506527342596094}, {\"x\": -0.9944929400877234, \"y\": -9.13250749681387}, {\"x\": -0.21155954182518166, \"y\": -9.371636311926547}, {\"x\": -0.9461057085757617, \"y\": -9.206877515225052}, {\"x\": -1.0540528997928391, \"y\": -9.572350460389414}, {\"x\": -0.7242966785670197, \"y\": -9.619985739568508}, {\"x\": -1.2611327901729443, \"y\": -10.07422052049713}, {\"x\": -1.4328097828760697, \"y\": -10.018631685495594}, {\"x\": -1.0388415840022407, \"y\": -9.072383598902356}, {\"x\": -0.37249060357023134, \"y\": -9.269113840128957}, {\"x\": -0.6345363134606554, \"y\": -9.307028919624125}, {\"x\": 0.2880136742000414, \"y\": -10.440859033482255}, {\"x\": -1.1170760115269645, \"y\": -10.008712769759123}, {\"x\": -0.9988352512199351, \"y\": -7.180012464666159}, {\"x\": -1.5106989211009616, \"y\": -9.664198923763768}, {\"x\": -0.332734747608197, \"y\": -9.391987556764073}, {\"x\": -0.8366784482937792, \"y\": -10.083695688816631}, {\"x\": -0.6287710272120626, \"y\": -8.849934791754446}, {\"x\": -1.406488774435498, \"y\": -8.880715653034157}, {\"x\": -1.7648006639858673, \"y\": -9.216150522235909}, {\"x\": -0.46414370775733255, \"y\": -9.04876505208149}, {\"x\": -0.9602195439431467, \"y\": -9.090693519162693}, {\"x\": -0.023211561281582083, \"y\": -10.217713147635946}, {\"x\": -0.6915946624178283, \"y\": -9.757386499773792}, {\"x\": -0.5275601231999744, \"y\": -9.920221893129316}, {\"x\": -1.0578616134264678, \"y\": -9.375231390769606}, {\"x\": -1.251615321238901, \"y\": -9.281643377226578}, {\"x\": -1.0733435488641812, \"y\": -9.971875152145902}, {\"x\": -0.6137131283286936, \"y\": -9.944588094882528}, {\"x\": -1.4538912551295184, \"y\": -10.252176790224166}, {\"x\": -0.6746535580174714, \"y\": -9.803842974988234}, {\"x\": -1.9970181244685694, \"y\": -9.489204741152045}, {\"x\": -0.7571966562608895, \"y\": -9.616655619651702}, {\"x\": 0.5196953427142472, \"y\": -10.556617739879048}, {\"x\": -2.3141597292238663, \"y\": -8.897754310139536}, {\"x\": -0.0747852295943604, \"y\": -8.728882369559887}, {\"x\": -0.0992741993502998, \"y\": -9.46804143355868}, {\"x\": -0.833841855631027, \"y\": -9.352402196985045}, {\"x\": -0.8900250488674282, \"y\": -9.36588096438413}, {\"x\": -1.0535537075363246, \"y\": -8.79695219522322}, {\"x\": -1.40424408571222, \"y\": -9.845841818386528}, {\"x\": -0.466552242111343, \"y\": -10.098918939756725}, {\"x\": -1.2737115827098233, \"y\": -9.557283436784704}, {\"x\": 0.18536914301590857, \"y\": -10.00532402652113}, {\"x\": -0.0160943860960322, \"y\": -10.295096574512996}, {\"x\": -1.149054763461924, \"y\": -9.172109914813744}, {\"x\": -2.087966627504514, \"y\": -10.607207794442836}, {\"x\": -1.158320412736968, \"y\": -8.863132096706721}, {\"x\": 0.06918740226168574, \"y\": -9.67507258033025}, {\"x\": -1.0067491202767271, \"y\": -9.703396970948969}, {\"x\": -1.6188608842128143, \"y\": -9.770529479550515}, {\"x\": -1.754377513708921, \"y\": -9.887292896534644}, {\"x\": -0.1864486301916043, \"y\": -10.465319171602202}, {\"x\": -1.179640532887305, \"y\": -8.545232242634357}, {\"x\": -1.35180899249744, \"y\": -10.192526114369318}, {\"x\": 0.1682562716211473, \"y\": -9.510705333814554}, {\"x\": -0.9131696392974904, \"y\": -9.925130553956894}, {\"x\": -1.3649569310240204, \"y\": -10.330197389849513}, {\"x\": -1.3662448829663858, \"y\": -8.900089973403423}, {\"x\": -1.3865905724070422, \"y\": -9.464474493618585}, {\"x\": -1.1703834818045036, \"y\": -10.39158286068504}, {\"x\": -1.2472202759300615, \"y\": -9.207604372556602}, {\"x\": -1.156956484270129, \"y\": -8.64503872402461}, {\"x\": 0.6648191547555922, \"y\": -9.65313160573223}, {\"x\": -1.875777796379911, \"y\": -9.958885051326863}, {\"x\": -0.7550507045860579, \"y\": -9.38569050595785}, {\"x\": 0.3987998139912028, \"y\": -9.713639256153103}, {\"x\": -0.8336462909552369, \"y\": -9.006020467902744}, {\"x\": -1.0533362006678133, \"y\": -9.222344881518236}, {\"x\": -1.2682413165346886, \"y\": -8.704012906561777}, {\"x\": -1.0616275096211418, \"y\": -9.084840120000123}, {\"x\": -1.3759965573566288, \"y\": -10.611798107939302}, {\"x\": -0.12650930324028886, \"y\": -9.579314758517683}, {\"x\": -1.2298301102232636, \"y\": -9.020016189696854}, {\"x\": -0.9387163678031419, \"y\": -9.489472463203173}, {\"x\": -0.3391944122879509, \"y\": -8.963674185888415}, {\"x\": -0.7049499086186771, \"y\": -9.374262862304345}, {\"x\": -0.6926937948451493, \"y\": -9.045452404633034}, {\"x\": -0.013304203693924488, \"y\": -9.519187836663486}, {\"x\": -0.1938347688067239, \"y\": -9.142883861808784}, {\"x\": 0.16995065991403857, \"y\": -9.686514210336908}, {\"x\": -0.8029793939120293, \"y\": -10.0594452564607}, {\"x\": -0.34115112910756085, \"y\": -9.157483678202048}, {\"x\": -1.9074314341792338, \"y\": -8.593835311926831}, {\"x\": -0.8155574794455702, \"y\": -10.255520274959608}, {\"x\": -1.2946373466750756, \"y\": -8.953875191884944}, {\"x\": -1.1699722986123289, \"y\": -8.331848774341836}, {\"x\": -0.6370800986198559, \"y\": -8.983854060385061}, {\"x\": -0.6260477200100343, \"y\": -9.492684337559423}, {\"x\": -1.0245373887512585, \"y\": -8.802218741812839}, {\"x\": -0.6843855432698146, \"y\": -9.736299905305248}, {\"x\": -0.49168923463135955, \"y\": -9.632952871535284}, {\"x\": -0.9512899929201056, \"y\": -10.069026235243069}, {\"x\": -0.4480517599275901, \"y\": -8.91909595482999}, {\"x\": -0.9971683020593162, \"y\": -9.88674883976058}, {\"x\": -2.477919872246032, \"y\": -9.615642386228917}, {\"x\": -0.8968023815270169, \"y\": -9.268731611817525}, {\"x\": -0.7171170910281016, \"y\": -9.95541094496954}, {\"x\": -0.7652415090446001, \"y\": -9.51391910821567}, {\"x\": -2.2607388378856466, \"y\": -9.159564187723747}, {\"x\": -1.8811572464173185, \"y\": -10.875175531001775}, {\"x\": -1.0259486693945596, \"y\": -9.458295696765195}, {\"x\": -1.578175138692755, \"y\": -8.83882299166188}, {\"x\": -0.9566038765222062, \"y\": -9.604422047916}, {\"x\": -0.4380937766047211, \"y\": -9.95964331188234}, {\"x\": -0.671492205782211, \"y\": -9.106878112948946}, {\"x\": -1.1870939141361119, \"y\": -9.175940117268881}, {\"x\": -1.5369861200472932, \"y\": -9.777866121429922}, {\"x\": -1.0644964372717165, \"y\": -9.134025807859622}, {\"x\": -1.5918308092449514, \"y\": -9.317189280912261}, {\"x\": -1.5140968371375942, \"y\": -10.5501009572766}, {\"x\": -0.49958977474573346, \"y\": -9.390239773070578}, {\"x\": 0.3534080507435511, \"y\": -9.544279478046159}, {\"x\": -0.15768609799310918, \"y\": -9.799016093764365}, {\"x\": -0.22298656453527332, \"y\": -9.393592038333349}, {\"x\": -0.4753114386688298, \"y\": -8.155193101250283}, {\"x\": -0.5101857385950779, \"y\": -9.820302508178544}, {\"x\": -0.686984796706872, \"y\": -8.384663835470784}, {\"x\": -0.7401221000845417, \"y\": -9.37742455462832}]}}, {\"mode\": \"vega-lite\"});\n",
              "</script>"
            ]
          },
          "metadata": {
            "tags": []
          },
          "execution_count": 10
        }
      ]
    },
    {
      "cell_type": "markdown",
      "metadata": {
        "id": "U14IMwLFG9TY"
      },
      "source": [
        "\n",
        "\n",
        "---\n",
        "\n",
        "## Usando um algoritmo para encontrar grupos\n",
        "\n",
        "Há vários algoritmos para uma mesma definição de objetivo. Começaremos com uma situação onde o número de grupos a encontrar é claro e cada ponto pertencerá a um grupo.\n",
        "\n",
        "Usaremos 2 exemplos: o sintético e o dos filmes.\n",
        "\n",
        "Primeiro o sintético:\n"
      ]
    },
    {
      "cell_type": "code",
      "metadata": {
        "id": "pMhAVSNNHbcM",
        "colab": {
          "base_uri": "https://localhost:8080/",
          "height": 368
        },
        "outputId": "ed767224-b66f-433d-96a1-2b5c4cbe62b9"
      },
      "source": [
        "df_ex = cria_df_exemplo(4, random_state=0)\n",
        "alt.Chart(df_ex).mark_circle(\n",
        "    size = 70\n",
        ").encode(\n",
        "    x = 'x',\n",
        "    y = 'y'\n",
        ").interactive()"
      ],
      "execution_count": 11,
      "outputs": [
        {
          "output_type": "execute_result",
          "data": {
            "text/plain": [
              "alt.Chart(...)"
            ],
            "text/html": [
              "\n",
              "<div id=\"altair-viz-12d028a9dc654217b630e5f19305a321\"></div>\n",
              "<script type=\"text/javascript\">\n",
              "  (function(spec, embedOpt){\n",
              "    let outputDiv = document.currentScript.previousElementSibling;\n",
              "    if (outputDiv.id !== \"altair-viz-12d028a9dc654217b630e5f19305a321\") {\n",
              "      outputDiv = document.getElementById(\"altair-viz-12d028a9dc654217b630e5f19305a321\");\n",
              "    }\n",
              "    const paths = {\n",
              "      \"vega\": \"https://cdn.jsdelivr.net/npm//vega@5?noext\",\n",
              "      \"vega-lib\": \"https://cdn.jsdelivr.net/npm//vega-lib?noext\",\n",
              "      \"vega-lite\": \"https://cdn.jsdelivr.net/npm//vega-lite@4.8.1?noext\",\n",
              "      \"vega-embed\": \"https://cdn.jsdelivr.net/npm//vega-embed@6?noext\",\n",
              "    };\n",
              "\n",
              "    function loadScript(lib) {\n",
              "      return new Promise(function(resolve, reject) {\n",
              "        var s = document.createElement('script');\n",
              "        s.src = paths[lib];\n",
              "        s.async = true;\n",
              "        s.onload = () => resolve(paths[lib]);\n",
              "        s.onerror = () => reject(`Error loading script: ${paths[lib]}`);\n",
              "        document.getElementsByTagName(\"head\")[0].appendChild(s);\n",
              "      });\n",
              "    }\n",
              "\n",
              "    function showError(err) {\n",
              "      outputDiv.innerHTML = `<div class=\"error\" style=\"color:red;\">${err}</div>`;\n",
              "      throw err;\n",
              "    }\n",
              "\n",
              "    function displayChart(vegaEmbed) {\n",
              "      vegaEmbed(outputDiv, spec, embedOpt)\n",
              "        .catch(err => showError(`Javascript Error: ${err.message}<br>This usually means there's a typo in your chart specification. See the javascript console for the full traceback.`));\n",
              "    }\n",
              "\n",
              "    if(typeof define === \"function\" && define.amd) {\n",
              "      requirejs.config({paths});\n",
              "      require([\"vega-embed\"], displayChart, err => showError(`Error loading script: ${err.message}`));\n",
              "    } else if (typeof vegaEmbed === \"function\") {\n",
              "      displayChart(vegaEmbed);\n",
              "    } else {\n",
              "      loadScript(\"vega\")\n",
              "        .then(() => loadScript(\"vega-lite\"))\n",
              "        .then(() => loadScript(\"vega-embed\"))\n",
              "        .catch(showError)\n",
              "        .then(() => displayChart(vegaEmbed));\n",
              "    }\n",
              "  })({\"config\": {\"view\": {\"continuousWidth\": 400, \"continuousHeight\": 300}}, \"data\": {\"name\": \"data-eeaa6a892fb86b7c82c90f7c2a459c01\"}, \"mark\": {\"type\": \"circle\", \"size\": 70}, \"encoding\": {\"x\": {\"type\": \"quantitative\", \"field\": \"x\"}, \"y\": {\"type\": \"quantitative\", \"field\": \"y\"}}, \"selection\": {\"selector006\": {\"type\": \"interval\", \"bind\": \"scales\", \"encodings\": [\"x\", \"y\"]}}, \"$schema\": \"https://vega.github.io/schema/vega-lite/v4.8.1.json\", \"datasets\": {\"data-eeaa6a892fb86b7c82c90f7c2a459c01\": [{\"x\": 0.8368568407639814, \"y\": 2.1363593767535285}, {\"x\": -1.4136580954824844, \"y\": 7.409623236133461}, {\"x\": 1.1552129830701285, \"y\": 5.0996188654606085}, {\"x\": -1.0186163167387894, \"y\": 7.814914647322421}, {\"x\": 1.2713514103916879, \"y\": 1.8925420677088496}, {\"x\": 3.437617540043243, \"y\": 0.2616541663050085}, {\"x\": -1.8082225260019826, \"y\": 1.597017490032788}, {\"x\": 1.4137244158530171, \"y\": 4.381177073902836}, {\"x\": -0.20493216827344374, \"y\": 8.432096650430893}, {\"x\": -0.7110996110121923, \"y\": 8.660438455477388}, {\"x\": -1.7123726800849306, \"y\": 2.7778022644069074}, {\"x\": -2.6700079178821117, \"y\": 8.353891395940183}, {\"x\": 1.2425880181937505, \"y\": 4.50399192387295}, {\"x\": -2.2278364904868475, \"y\": 6.894799381056522}, {\"x\": 1.455138312999139, \"y\": -0.029198998128630027}, {\"x\": 0.45379178903736606, \"y\": 3.956477528589741}, {\"x\": 1.0692385339646449, \"y\": 4.530684839209695}, {\"x\": 2.5693658885744926, \"y\": 0.5070483039578487}, {\"x\": -1.0669061042348538, \"y\": 3.131657951816496}, {\"x\": -1.0785910126991263, \"y\": 2.204515288210881}, {\"x\": 2.715063278965146, \"y\": 1.2908218983714956}, {\"x\": 1.7771099366452214, \"y\": 1.1865525442020142}, {\"x\": 0.7343639103625873, \"y\": 5.0372543696778465}, {\"x\": -1.9964815067184205, \"y\": 2.85164868191699}, {\"x\": -1.9182801731829169, \"y\": 2.6051686739524564}, {\"x\": -0.5555238109539522, \"y\": 4.695958484712606}, {\"x\": 1.6974790983625732, \"y\": 0.866123282176209}, {\"x\": 0.5947624315191664, \"y\": 4.70964730441629}, {\"x\": -2.880242550863219, \"y\": 2.3043781551517606}, {\"x\": 0.18672563223958238, \"y\": 4.026836564559565}, {\"x\": -0.5133334362299544, \"y\": 7.87437367944774}, {\"x\": -2.0570110283236227, \"y\": 7.3785159826876585}, {\"x\": 1.8727175224410586, \"y\": 4.180692369188909}, {\"x\": -1.1312139564553216, \"y\": 6.766522302218239}, {\"x\": -1.6442895668266, \"y\": 7.940951387619211}, {\"x\": -2.419338235635111, \"y\": 7.439524977803895}, {\"x\": -2.016069278668694, \"y\": 7.48420129307493}, {\"x\": -2.6214277987548673, \"y\": 7.986350664654516}, {\"x\": -2.2029994984759513, \"y\": 2.479475609614228}, {\"x\": 1.663822372000666, \"y\": 0.6630916348253761}, {\"x\": 0.6697869960051712, \"y\": 3.5954080169749427}, {\"x\": -1.9853903675657711, \"y\": 2.0552073770521755}, {\"x\": -0.04749203582851247, \"y\": 5.474252564587464}, {\"x\": 1.5446212592107438, \"y\": 4.2107812715938895}, {\"x\": -1.702006430870623, \"y\": 2.460986934246149}, {\"x\": -1.0219252547777236, \"y\": 2.7682071132365533}, {\"x\": -1.3784255167081396, \"y\": 8.102695966178473}, {\"x\": -1.5522068839962528, \"y\": 2.745749945899178}, {\"x\": -1.479043028631661, \"y\": 7.569158359748475}, {\"x\": 1.9889431270933944, \"y\": 1.5097672869674166}, {\"x\": -1.9497241787356456, \"y\": 3.4838386963148196}, {\"x\": 2.4550973706520267, \"y\": 0.6212317875048049}, {\"x\": -0.8943278823054386, \"y\": 7.61714472965912}, {\"x\": 1.6968778800536604, \"y\": 0.7549106220963326}, {\"x\": 1.756448051017495, \"y\": 2.0553828922281285}, {\"x\": -1.1106401216078259, \"y\": 2.8221381984453626}, {\"x\": -0.04150176586826815, \"y\": 7.80870275976808}, {\"x\": -1.1409153341841487, \"y\": 1.975508216153051}, {\"x\": -1.806349676260743, \"y\": 7.728306560389196}, {\"x\": 1.3926375177758077, \"y\": 0.9289627074945215}, {\"x\": -2.25698670404281, \"y\": 7.302077200784324}, {\"x\": 0.5716704821520695, \"y\": 4.322885662413}, {\"x\": -1.549945795131673, \"y\": 9.282932223367844}, {\"x\": -1.0381921197291857, \"y\": 2.953237614842101}, {\"x\": -2.109566755488596, \"y\": 3.1067725840426172}, {\"x\": -1.1865298465103038, \"y\": 2.78427720102403}, {\"x\": -2.4580997514260066, \"y\": 7.511787235616893}, {\"x\": 2.3696021357334014, \"y\": 0.9507169121647336}, {\"x\": -2.666760065030858, \"y\": 7.84766052466474}, {\"x\": -1.497207024231851, \"y\": 3.2141843271016968}, {\"x\": 1.3222245685154597, \"y\": 4.178808074101593}, {\"x\": -0.4872713010704255, \"y\": 3.328582925448637}, {\"x\": -1.0371877083373353, \"y\": 8.063001335762946}, {\"x\": -1.6049681857381277, \"y\": 2.974254198964464}, {\"x\": -1.5037256821177925, \"y\": 1.9238531999399506}, {\"x\": -0.785412205540043, \"y\": 8.453123312911254}, {\"x\": -1.7578318987306707, \"y\": 2.9744932149233674}, {\"x\": 1.1900899168511363, \"y\": 4.727731228363559}, {\"x\": 2.1404394194253458, \"y\": 0.7060666096508798}, {\"x\": -1.0354011588782195, \"y\": 8.205591948277561}, {\"x\": 1.254712438591226, \"y\": 0.08963315645940362}, {\"x\": 0.595676822337917, \"y\": 4.086142627856107}, {\"x\": 1.2795533755988089, \"y\": 1.0578941815474465}, {\"x\": 1.7295506358228474, \"y\": 1.1472936876947921}, {\"x\": -0.9490416098002538, \"y\": 8.464243309222425}, {\"x\": 0.9353251153517164, \"y\": 5.33179296043801}, {\"x\": 2.36923351775193, \"y\": 0.794735861204588}, {\"x\": 0.42857674327999995, \"y\": 4.973997100305902}, {\"x\": -2.0475827675028513, \"y\": 6.654285201769982}, {\"x\": -1.4567261662452882, \"y\": 7.486698929525399}, {\"x\": 0.5294171853174312, \"y\": 3.8079242042529815}, {\"x\": 1.781948019322472, \"y\": 0.9081511553529709}, {\"x\": -1.955750533128763, \"y\": 8.61631685864045}, {\"x\": -1.7457201398569167, \"y\": 3.0119045744965414}, {\"x\": -1.1797911145845783, \"y\": 3.127674935529027}, {\"x\": 1.1641106995370358, \"y\": 3.791329883867355}, {\"x\": 1.3615580623397303, \"y\": 1.3663825209639329}, {\"x\": 2.601374866288433, \"y\": 1.087994589052718}, {\"x\": 0.2723960354779992, \"y\": 5.469960038837965}, {\"x\": -3.12240735601995, \"y\": 3.281673975948751}, {\"x\": -0.588085171813926, \"y\": 8.614273199037326}, {\"x\": 1.6690964797331436, \"y\": -0.43637823139671905}, {\"x\": -0.682774903213914, \"y\": 7.674903167900386}, {\"x\": 2.367906447304533, \"y\": 0.5521908780500973}, {\"x\": 1.0524173341686671, \"y\": 4.544980945515211}, {\"x\": 2.2270737347682457, \"y\": 1.2629699606232072}, {\"x\": 2.4393464370914333, \"y\": -0.0725099666485638}, {\"x\": 1.3447177007541433, \"y\": 4.857111330388306}, {\"x\": -1.3145494177857069, \"y\": 6.839040128520036}, {\"x\": 0.9825700909789874, \"y\": 5.375309623791891}, {\"x\": -1.0629522267803457, \"y\": 2.207553877217132}, {\"x\": -1.6071249490229689, \"y\": 3.5645285449188804}, {\"x\": 1.5732217229285732, \"y\": 0.48393379328781655}, {\"x\": -2.1785133817962388, \"y\": 8.085851308260695}, {\"x\": 1.8337584186674118, \"y\": 0.754036153392381}, {\"x\": 2.1061604967802476, \"y\": 3.4951318907629223}, {\"x\": -1.6433875548291526, \"y\": 7.526919636077601}, {\"x\": 1.1055044830318288, \"y\": 1.2638912874022599}, {\"x\": 1.6115297235980899, \"y\": 1.8234724171819783}, {\"x\": 0.45953466751367356, \"y\": 5.44982629930781}, {\"x\": -0.5380230538973697, \"y\": 3.016418914625523}, {\"x\": 1.6784149856479307, \"y\": 0.6090473888614643}, {\"x\": -1.0121496586465035, \"y\": 3.602543381327667}, {\"x\": 1.3419519667624606, \"y\": 0.5935738473587243}, {\"x\": 1.4281155017447051, \"y\": 1.6243508337475574}, {\"x\": 2.0450552731160134, \"y\": 1.125154701270986}, {\"x\": 1.6728053061015404, \"y\": 0.6593005713406582}, {\"x\": -1.3586389900321278, \"y\": 2.3220080947753745}, {\"x\": 1.130789312766103, \"y\": 0.9356208564581359}, {\"x\": -1.738963062476225, \"y\": 1.9479977481425033}, {\"x\": -0.3402589252022272, \"y\": 8.167339254166144}, {\"x\": -1.6379362158275104, \"y\": 2.4332931687633095}, {\"x\": -1.6875441353582852, \"y\": 2.2410754624511187}, {\"x\": 2.4304063920491905, \"y\": -0.06357093342611164}, {\"x\": -1.379980391744878, \"y\": 7.185038043238434}, {\"x\": -1.252454649489311, \"y\": 2.3391150530928857}, {\"x\": -2.394824832959938, \"y\": 3.3980610309371393}, {\"x\": -2.0918335245068898, \"y\": 7.48142542811987}, {\"x\": 0.4883823093198226, \"y\": 3.268017766049384}, {\"x\": -0.5394286139731788, \"y\": 7.456317760838494}, {\"x\": -2.592018209943192, \"y\": 8.076359448695767}, {\"x\": -1.0465651311633073, \"y\": 2.9648383664301194}, {\"x\": 1.255667542384771, \"y\": 3.382041115682056}, {\"x\": -1.621504222920195, \"y\": 4.271916359712049}, {\"x\": 1.869221394823855, \"y\": 5.44132083306674}, {\"x\": -1.764041402814518, \"y\": 2.222229951493175}, {\"x\": -1.3818191833151425, \"y\": 7.287612484816516}, {\"x\": 0.00793137001172417, \"y\": 4.1761431593200085}, {\"x\": -1.1029849981550766, \"y\": 7.302227861229416}, {\"x\": -1.793513722321582, \"y\": 7.580869443054853}, {\"x\": -1.511769487827439, \"y\": 7.944263073172287}, {\"x\": 0.9593607415433021, \"y\": 4.56078644976664}, {\"x\": -0.6013373925176075, \"y\": 6.299949215835136}, {\"x\": 0.22459286251653932, \"y\": 4.770281540947536}, {\"x\": 1.5672489659103563, \"y\": 0.017809063256428503}, {\"x\": -1.033952585992028, \"y\": 2.9210578491127395}, {\"x\": -0.9222686399136384, \"y\": 8.09888579024482}, {\"x\": -1.886096375375697, \"y\": 2.248344069756886}, {\"x\": 1.868735818413795, \"y\": 0.9561037596992069}, {\"x\": 1.1012350653926113, \"y\": 4.889770749338617}, {\"x\": -1.9321372480022148, \"y\": 8.306434528385894}, {\"x\": 0.670478769495503, \"y\": 4.0409427464816785}, {\"x\": 0.7438739881017237, \"y\": 4.122405677103188}, {\"x\": 1.6400376127622431, \"y\": 1.8194898924854155}, {\"x\": 0.8154680559756669, \"y\": 4.785261164926227}, {\"x\": -2.6327457433158945, \"y\": 2.6310978589088307}, {\"x\": -0.9610763608283948, \"y\": 1.274075961019389}, {\"x\": 0.2139790794550549, \"y\": 4.885425352343197}, {\"x\": 1.4347218163621993, \"y\": 1.306620370906913}, {\"x\": 1.2138741061434821, \"y\": 3.6479504222100867}, {\"x\": 1.0827257638987469, \"y\": 4.0627187657234325}, {\"x\": -1.2260523416000606, \"y\": 8.296201460281216}, {\"x\": 1.4817005211372116, \"y\": 0.690074594518305}, {\"x\": 1.8959376071615694, \"y\": 5.185402589388561}, {\"x\": -1.3235615380923387, \"y\": 4.130508398224001}, {\"x\": -1.1498986312745982, \"y\": 7.893252829194312}, {\"x\": 2.469158420153751, \"y\": 1.6787713976769358}, {\"x\": 2.3110227598997386, \"y\": 1.3038084809560841}, {\"x\": 0.5727938098809244, \"y\": 4.088055430524065}, {\"x\": -0.9677949887533233, \"y\": 3.12186125161388}, {\"x\": 2.6249200055883346, \"y\": 0.9501944047690514}, {\"x\": 1.6835378212422856, \"y\": 4.19583242596098}, {\"x\": -2.2213171687364177, \"y\": 2.7305069106577067}, {\"x\": -1.5784624734048731, \"y\": 3.034458024160586}, {\"x\": 0.0815155229231318, \"y\": 4.567422348207112}, {\"x\": 1.4328927136346912, \"y\": 4.376792337344087}, {\"x\": 1.0626962212430218, \"y\": 5.176351431626175}, {\"x\": 0.7675227889508035, \"y\": 4.397596708910778}, {\"x\": 2.47019077207499, \"y\": 1.3145131461315405}, {\"x\": -1.7316316792697708, \"y\": 7.164472861048615}, {\"x\": 0.34713829950623953, \"y\": 3.451776565141005}, {\"x\": -1.0014043562695067, \"y\": 2.8488177802407866}, {\"x\": 1.0161804119763957, \"y\": 4.485270466092259}, {\"x\": 0.5595293627076758, \"y\": 4.2140066032517876}, {\"x\": -2.1182104558323958, \"y\": 2.034781256854971}, {\"x\": -1.3621941985875416, \"y\": 2.383333211535806}, {\"x\": -2.7836658559455922, \"y\": 2.9921154098732266}, {\"x\": 1.6522516318103992, \"y\": 3.655828422430336}, {\"x\": -1.9396065798391149, \"y\": 2.1894358194766506}, {\"x\": -1.8148768692407264, \"y\": 7.978321904340981}, {\"x\": 1.2021253972398727, \"y\": 3.6441468530978733}, {\"x\": -0.9692009463341885, \"y\": 3.267217016171877}, {\"x\": 1.8698597400046046, \"y\": -0.10793862386004904}, {\"x\": -1.8070113408535629, \"y\": 2.067738593457367}, {\"x\": 1.2176750632530244, \"y\": 3.892901272884202}, {\"x\": -1.4836891736359323, \"y\": 6.007774182761638}, {\"x\": -1.5638798544792938, \"y\": 2.853499095558418}, {\"x\": -0.686210296624996, \"y\": 8.68285663926406}, {\"x\": 1.0762741757700125, \"y\": 4.684806189583654}, {\"x\": -0.9759866271647398, \"y\": 6.737615769038875}, {\"x\": 1.3796469327539564, \"y\": 4.548264429193056}, {\"x\": -1.641296109370745, \"y\": 2.680972552913053}, {\"x\": -0.0018489296331316574, \"y\": 4.581456680763854}, {\"x\": 1.7144444869831275, \"y\": 5.025215236719037}, {\"x\": -1.4052430421726907, \"y\": 7.726113145367628}, {\"x\": -0.7081849043604226, \"y\": 2.5042127506031604}, {\"x\": -0.8857983736323, \"y\": 2.64585077902229}, {\"x\": 1.9843690943557362, \"y\": 0.48955673753982665}, {\"x\": 2.951958248127699, \"y\": -0.34432735507018264}, {\"x\": 0.43189105991654975, \"y\": 4.334954564926074}, {\"x\": -1.8662169447315362, \"y\": 7.625493996888132}, {\"x\": 2.5270642986982637, \"y\": 0.617812201896371}, {\"x\": 2.0406718467935168, \"y\": 0.45484511441452363}, {\"x\": -2.5804383632845367, \"y\": 3.1884429384166717}, {\"x\": 1.6199090943547274, \"y\": 0.06764528670090364}, {\"x\": -2.588027083628124, \"y\": 3.131171336979384}, {\"x\": 0.44359862996842747, \"y\": 3.1153094465140336}, {\"x\": -0.4567736489652049, \"y\": 7.306008724511643}, {\"x\": -1.1286756566082712, \"y\": 7.8050978910645945}, {\"x\": 2.130035294434726, \"y\": 5.1920962023090445}, {\"x\": 1.0037251889273626, \"y\": 4.19147701743289}, {\"x\": -1.393467672668282, \"y\": 8.746416717855018}, {\"x\": 0.7280986900906466, \"y\": 3.8553144405839355}, {\"x\": 0.8934996379249738, \"y\": 1.010930818014234}, {\"x\": -1.1078297237575039, \"y\": 2.920144794784884}, {\"x\": 0.7893385592700715, \"y\": 4.3374865327862375}, {\"x\": 1.9755391748807045, \"y\": 0.7189891322968999}, {\"x\": -1.2490258156307412, \"y\": 3.085339719968595}, {\"x\": -1.0776879722618216, \"y\": 8.881061284034972}, {\"x\": -1.8684912453040163, \"y\": 3.0798248742975796}, {\"x\": 2.768085396844259, \"y\": 1.0878292270928467}, {\"x\": 0.2771801740764812, \"y\": 4.844283219620902}, {\"x\": 3.410852891847389, \"y\": 0.8723093689415512}, {\"x\": -1.5808415506889308, \"y\": 7.5530774207487195}, {\"x\": -1.5302755043666751, \"y\": 7.705421133296271}, {\"x\": -1.824558403726039, \"y\": 7.359589598016991}, {\"x\": -1.6856825700229676, \"y\": 7.953394456078865}, {\"x\": -1.6510462189202884, \"y\": 3.445989608581592}, {\"x\": -1.3044090124532441, \"y\": 3.003119344445464}, {\"x\": -0.7306981679490796, \"y\": 6.242088559856635}, {\"x\": 2.40615694346486, \"y\": 4.8704750196426385}, {\"x\": -1.5363132801834383, \"y\": 3.0144391623120566}, {\"x\": 1.4885997678819276, \"y\": 0.6516338440164078}, {\"x\": 0.5143204338793053, \"y\": 4.62733684222348}, {\"x\": -1.814697501626674, \"y\": 3.29009724033923}, {\"x\": -1.9373105518642353, \"y\": 3.913612739047046}, {\"x\": -0.6149070967624418, \"y\": 3.9496358457828395}, {\"x\": 2.0316978304963804, \"y\": 0.1968075612932184}, {\"x\": 2.1491714442121035, \"y\": 1.0369722816581022}, {\"x\": -1.3699938792061506, \"y\": 7.769530348056006}, {\"x\": 0.9143387674703604, \"y\": 4.550146428611414}, {\"x\": 0.33381850564016957, \"y\": 4.936458363607072}, {\"x\": -2.1596810916129137, \"y\": 3.4100309637279316}, {\"x\": 1.3667863299862164, \"y\": 0.6349716330912765}, {\"x\": -0.5710993360374091, \"y\": 8.133060583447971}, {\"x\": -1.0055259210838283, \"y\": 3.0840054048407994}, {\"x\": 1.4949317978621983, \"y\": 3.858488315204525}, {\"x\": -0.5904476673466711, \"y\": 7.694930534834872}, {\"x\": 0.7151779475135126, \"y\": 5.413345564535995}, {\"x\": 2.113902502061791, \"y\": 1.247435867789913}, {\"x\": 1.2008309760433589, \"y\": 0.6016717299206205}, {\"x\": -2.5457675048812582, \"y\": 3.150250546570161}, {\"x\": -1.9586666463529812, \"y\": 2.4300864682006766}, {\"x\": 2.3381228529390596, \"y\": 3.431167922689131}, {\"x\": 3.3532090910012915, \"y\": 1.6995804295997718}, {\"x\": 1.8428711746807875, \"y\": 0.07269288388712558}, {\"x\": 1.3200062101347771, \"y\": 1.404281445778865}, {\"x\": 2.096805454802437, \"y\": 4.847414122413621}, {\"x\": -1.2430790353956045, \"y\": 8.15166254071439}, {\"x\": -1.859080899918569, \"y\": 7.788747162077084}, {\"x\": 2.74666646030275, \"y\": 1.5454348151600295}, {\"x\": 2.6077828157013694, \"y\": 1.0889002517037496}, {\"x\": 1.6599104892724754, \"y\": 3.5628918352361985}, {\"x\": 2.351512587842391, \"y\": 0.8280012965173169}, {\"x\": 2.223222280858821, \"y\": 0.8387734261521621}, {\"x\": 3.2288149063832945, \"y\": 1.1317196535506926}, {\"x\": -1.5587672002523922, \"y\": 7.248162100026332}, {\"x\": -0.6469567838773989, \"y\": 3.429413425009862}, {\"x\": -1.3268881816709976, \"y\": 8.515307943377428}, {\"x\": 0.9171985638912357, \"y\": 3.9057003556311254}, {\"x\": 2.294695328816956, \"y\": -0.7658919939180533}, {\"x\": 1.815598103875153, \"y\": 1.119697192646448}, {\"x\": -1.120167745400049, \"y\": 7.1103158234016615}, {\"x\": -1.6550712436848205, \"y\": 8.614167490032253}, {\"x\": -1.2756781511422912, \"y\": 7.967764609095898}, {\"x\": 1.9736977010258854, \"y\": 1.579798477499554}, {\"x\": 2.518341852161078, \"y\": 1.3917661523161757}, {\"x\": 0.4389901418302897, \"y\": 4.535928826163947}, {\"x\": 0.36947865679199743, \"y\": 7.791105215873345}, {\"x\": -1.7914575925974603, \"y\": 2.7496689642224172}]}}, {\"mode\": \"vega-lite\"});\n",
              "</script>"
            ]
          },
          "metadata": {
            "tags": []
          },
          "execution_count": 11
        }
      ]
    },
    {
      "cell_type": "markdown",
      "metadata": {
        "id": "3KAQ7SVZLBiG"
      },
      "source": [
        "Encontrando os grupos"
      ]
    },
    {
      "cell_type": "code",
      "metadata": {
        "id": "k7_oBBzNH6D5",
        "colab": {
          "base_uri": "https://localhost:8080/",
          "height": 419
        },
        "outputId": "695782e0-7331-4868-c60b-722df7283e19"
      },
      "source": [
        "from sklearn.cluster import KMeans\n",
        "\n",
        "kmeans = KMeans(n_clusters=4)\n",
        "kmeans.fit(df_ex)\n",
        "grupo = kmeans.predict(df_ex)\n",
        "\n",
        "df_agrupado = df_ex.assign(grupo = grupo)\n",
        "\n",
        "df_agrupado"
      ],
      "execution_count": 12,
      "outputs": [
        {
          "output_type": "execute_result",
          "data": {
            "text/html": [
              "<div>\n",
              "<style scoped>\n",
              "    .dataframe tbody tr th:only-of-type {\n",
              "        vertical-align: middle;\n",
              "    }\n",
              "\n",
              "    .dataframe tbody tr th {\n",
              "        vertical-align: top;\n",
              "    }\n",
              "\n",
              "    .dataframe thead th {\n",
              "        text-align: right;\n",
              "    }\n",
              "</style>\n",
              "<table border=\"1\" class=\"dataframe\">\n",
              "  <thead>\n",
              "    <tr style=\"text-align: right;\">\n",
              "      <th></th>\n",
              "      <th>x</th>\n",
              "      <th>y</th>\n",
              "      <th>grupo</th>\n",
              "    </tr>\n",
              "  </thead>\n",
              "  <tbody>\n",
              "    <tr>\n",
              "      <th>0</th>\n",
              "      <td>0.836857</td>\n",
              "      <td>2.136359</td>\n",
              "      <td>2</td>\n",
              "    </tr>\n",
              "    <tr>\n",
              "      <th>1</th>\n",
              "      <td>-1.413658</td>\n",
              "      <td>7.409623</td>\n",
              "      <td>1</td>\n",
              "    </tr>\n",
              "    <tr>\n",
              "      <th>2</th>\n",
              "      <td>1.155213</td>\n",
              "      <td>5.099619</td>\n",
              "      <td>0</td>\n",
              "    </tr>\n",
              "    <tr>\n",
              "      <th>3</th>\n",
              "      <td>-1.018616</td>\n",
              "      <td>7.814915</td>\n",
              "      <td>1</td>\n",
              "    </tr>\n",
              "    <tr>\n",
              "      <th>4</th>\n",
              "      <td>1.271351</td>\n",
              "      <td>1.892542</td>\n",
              "      <td>2</td>\n",
              "    </tr>\n",
              "    <tr>\n",
              "      <th>...</th>\n",
              "      <td>...</td>\n",
              "      <td>...</td>\n",
              "      <td>...</td>\n",
              "    </tr>\n",
              "    <tr>\n",
              "      <th>295</th>\n",
              "      <td>1.973698</td>\n",
              "      <td>1.579798</td>\n",
              "      <td>2</td>\n",
              "    </tr>\n",
              "    <tr>\n",
              "      <th>296</th>\n",
              "      <td>2.518342</td>\n",
              "      <td>1.391766</td>\n",
              "      <td>2</td>\n",
              "    </tr>\n",
              "    <tr>\n",
              "      <th>297</th>\n",
              "      <td>0.438990</td>\n",
              "      <td>4.535929</td>\n",
              "      <td>0</td>\n",
              "    </tr>\n",
              "    <tr>\n",
              "      <th>298</th>\n",
              "      <td>0.369479</td>\n",
              "      <td>7.791105</td>\n",
              "      <td>1</td>\n",
              "    </tr>\n",
              "    <tr>\n",
              "      <th>299</th>\n",
              "      <td>-1.791458</td>\n",
              "      <td>2.749669</td>\n",
              "      <td>3</td>\n",
              "    </tr>\n",
              "  </tbody>\n",
              "</table>\n",
              "<p>300 rows × 3 columns</p>\n",
              "</div>"
            ],
            "text/plain": [
              "            x         y  grupo\n",
              "0    0.836857  2.136359      2\n",
              "1   -1.413658  7.409623      1\n",
              "2    1.155213  5.099619      0\n",
              "3   -1.018616  7.814915      1\n",
              "4    1.271351  1.892542      2\n",
              "..        ...       ...    ...\n",
              "295  1.973698  1.579798      2\n",
              "296  2.518342  1.391766      2\n",
              "297  0.438990  4.535929      0\n",
              "298  0.369479  7.791105      1\n",
              "299 -1.791458  2.749669      3\n",
              "\n",
              "[300 rows x 3 columns]"
            ]
          },
          "metadata": {
            "tags": []
          },
          "execution_count": 12
        }
      ]
    },
    {
      "cell_type": "markdown",
      "metadata": {
        "id": "cqFjVAGNLEuJ"
      },
      "source": [
        "Visualizando os grupos na cor dos pontos"
      ]
    },
    {
      "cell_type": "code",
      "metadata": {
        "id": "JEXDYiyiJsBp",
        "colab": {
          "base_uri": "https://localhost:8080/",
          "height": 368
        },
        "outputId": "b3953c28-6e52-415f-cb4c-08560381fd80"
      },
      "source": [
        "alt.Chart(df_agrupado).mark_circle(\n",
        "    size = 70\n",
        ").encode(\n",
        "    x = 'x',\n",
        "    y = 'y', \n",
        "    color = 'grupo:N'\n",
        ").interactive()"
      ],
      "execution_count": 13,
      "outputs": [
        {
          "output_type": "execute_result",
          "data": {
            "text/plain": [
              "alt.Chart(...)"
            ],
            "text/html": [
              "\n",
              "<div id=\"altair-viz-d19054b92257492f9b99e89089969875\"></div>\n",
              "<script type=\"text/javascript\">\n",
              "  (function(spec, embedOpt){\n",
              "    let outputDiv = document.currentScript.previousElementSibling;\n",
              "    if (outputDiv.id !== \"altair-viz-d19054b92257492f9b99e89089969875\") {\n",
              "      outputDiv = document.getElementById(\"altair-viz-d19054b92257492f9b99e89089969875\");\n",
              "    }\n",
              "    const paths = {\n",
              "      \"vega\": \"https://cdn.jsdelivr.net/npm//vega@5?noext\",\n",
              "      \"vega-lib\": \"https://cdn.jsdelivr.net/npm//vega-lib?noext\",\n",
              "      \"vega-lite\": \"https://cdn.jsdelivr.net/npm//vega-lite@4.8.1?noext\",\n",
              "      \"vega-embed\": \"https://cdn.jsdelivr.net/npm//vega-embed@6?noext\",\n",
              "    };\n",
              "\n",
              "    function loadScript(lib) {\n",
              "      return new Promise(function(resolve, reject) {\n",
              "        var s = document.createElement('script');\n",
              "        s.src = paths[lib];\n",
              "        s.async = true;\n",
              "        s.onload = () => resolve(paths[lib]);\n",
              "        s.onerror = () => reject(`Error loading script: ${paths[lib]}`);\n",
              "        document.getElementsByTagName(\"head\")[0].appendChild(s);\n",
              "      });\n",
              "    }\n",
              "\n",
              "    function showError(err) {\n",
              "      outputDiv.innerHTML = `<div class=\"error\" style=\"color:red;\">${err}</div>`;\n",
              "      throw err;\n",
              "    }\n",
              "\n",
              "    function displayChart(vegaEmbed) {\n",
              "      vegaEmbed(outputDiv, spec, embedOpt)\n",
              "        .catch(err => showError(`Javascript Error: ${err.message}<br>This usually means there's a typo in your chart specification. See the javascript console for the full traceback.`));\n",
              "    }\n",
              "\n",
              "    if(typeof define === \"function\" && define.amd) {\n",
              "      requirejs.config({paths});\n",
              "      require([\"vega-embed\"], displayChart, err => showError(`Error loading script: ${err.message}`));\n",
              "    } else if (typeof vegaEmbed === \"function\") {\n",
              "      displayChart(vegaEmbed);\n",
              "    } else {\n",
              "      loadScript(\"vega\")\n",
              "        .then(() => loadScript(\"vega-lite\"))\n",
              "        .then(() => loadScript(\"vega-embed\"))\n",
              "        .catch(showError)\n",
              "        .then(() => displayChart(vegaEmbed));\n",
              "    }\n",
              "  })({\"config\": {\"view\": {\"continuousWidth\": 400, \"continuousHeight\": 300}}, \"data\": {\"name\": \"data-4aa6297dc8fe916a0d23792d0083d8fb\"}, \"mark\": {\"type\": \"circle\", \"size\": 70}, \"encoding\": {\"color\": {\"type\": \"nominal\", \"field\": \"grupo\"}, \"x\": {\"type\": \"quantitative\", \"field\": \"x\"}, \"y\": {\"type\": \"quantitative\", \"field\": \"y\"}}, \"selection\": {\"selector007\": {\"type\": \"interval\", \"bind\": \"scales\", \"encodings\": [\"x\", \"y\"]}}, \"$schema\": \"https://vega.github.io/schema/vega-lite/v4.8.1.json\", \"datasets\": {\"data-4aa6297dc8fe916a0d23792d0083d8fb\": [{\"x\": 0.8368568407639814, \"y\": 2.1363593767535285, \"grupo\": 2}, {\"x\": -1.4136580954824844, \"y\": 7.409623236133461, \"grupo\": 1}, {\"x\": 1.1552129830701285, \"y\": 5.0996188654606085, \"grupo\": 0}, {\"x\": -1.0186163167387894, \"y\": 7.814914647322421, \"grupo\": 1}, {\"x\": 1.2713514103916879, \"y\": 1.8925420677088496, \"grupo\": 2}, {\"x\": 3.437617540043243, \"y\": 0.2616541663050085, \"grupo\": 2}, {\"x\": -1.8082225260019826, \"y\": 1.597017490032788, \"grupo\": 3}, {\"x\": 1.4137244158530171, \"y\": 4.381177073902836, \"grupo\": 0}, {\"x\": -0.20493216827344374, \"y\": 8.432096650430893, \"grupo\": 1}, {\"x\": -0.7110996110121923, \"y\": 8.660438455477388, \"grupo\": 1}, {\"x\": -1.7123726800849306, \"y\": 2.7778022644069074, \"grupo\": 3}, {\"x\": -2.6700079178821117, \"y\": 8.353891395940183, \"grupo\": 1}, {\"x\": 1.2425880181937505, \"y\": 4.50399192387295, \"grupo\": 0}, {\"x\": -2.2278364904868475, \"y\": 6.894799381056522, \"grupo\": 1}, {\"x\": 1.455138312999139, \"y\": -0.029198998128630027, \"grupo\": 2}, {\"x\": 0.45379178903736606, \"y\": 3.956477528589741, \"grupo\": 0}, {\"x\": 1.0692385339646449, \"y\": 4.530684839209695, \"grupo\": 0}, {\"x\": 2.5693658885744926, \"y\": 0.5070483039578487, \"grupo\": 2}, {\"x\": -1.0669061042348538, \"y\": 3.131657951816496, \"grupo\": 3}, {\"x\": -1.0785910126991263, \"y\": 2.204515288210881, \"grupo\": 3}, {\"x\": 2.715063278965146, \"y\": 1.2908218983714956, \"grupo\": 2}, {\"x\": 1.7771099366452214, \"y\": 1.1865525442020142, \"grupo\": 2}, {\"x\": 0.7343639103625873, \"y\": 5.0372543696778465, \"grupo\": 0}, {\"x\": -1.9964815067184205, \"y\": 2.85164868191699, \"grupo\": 3}, {\"x\": -1.9182801731829169, \"y\": 2.6051686739524564, \"grupo\": 3}, {\"x\": -0.5555238109539522, \"y\": 4.695958484712606, \"grupo\": 0}, {\"x\": 1.6974790983625732, \"y\": 0.866123282176209, \"grupo\": 2}, {\"x\": 0.5947624315191664, \"y\": 4.70964730441629, \"grupo\": 0}, {\"x\": -2.880242550863219, \"y\": 2.3043781551517606, \"grupo\": 3}, {\"x\": 0.18672563223958238, \"y\": 4.026836564559565, \"grupo\": 0}, {\"x\": -0.5133334362299544, \"y\": 7.87437367944774, \"grupo\": 1}, {\"x\": -2.0570110283236227, \"y\": 7.3785159826876585, \"grupo\": 1}, {\"x\": 1.8727175224410586, \"y\": 4.180692369188909, \"grupo\": 0}, {\"x\": -1.1312139564553216, \"y\": 6.766522302218239, \"grupo\": 1}, {\"x\": -1.6442895668266, \"y\": 7.940951387619211, \"grupo\": 1}, {\"x\": -2.419338235635111, \"y\": 7.439524977803895, \"grupo\": 1}, {\"x\": -2.016069278668694, \"y\": 7.48420129307493, \"grupo\": 1}, {\"x\": -2.6214277987548673, \"y\": 7.986350664654516, \"grupo\": 1}, {\"x\": -2.2029994984759513, \"y\": 2.479475609614228, \"grupo\": 3}, {\"x\": 1.663822372000666, \"y\": 0.6630916348253761, \"grupo\": 2}, {\"x\": 0.6697869960051712, \"y\": 3.5954080169749427, \"grupo\": 0}, {\"x\": -1.9853903675657711, \"y\": 2.0552073770521755, \"grupo\": 3}, {\"x\": -0.04749203582851247, \"y\": 5.474252564587464, \"grupo\": 0}, {\"x\": 1.5446212592107438, \"y\": 4.2107812715938895, \"grupo\": 0}, {\"x\": -1.702006430870623, \"y\": 2.460986934246149, \"grupo\": 3}, {\"x\": -1.0219252547777236, \"y\": 2.7682071132365533, \"grupo\": 3}, {\"x\": -1.3784255167081396, \"y\": 8.102695966178473, \"grupo\": 1}, {\"x\": -1.5522068839962528, \"y\": 2.745749945899178, \"grupo\": 3}, {\"x\": -1.479043028631661, \"y\": 7.569158359748475, \"grupo\": 1}, {\"x\": 1.9889431270933944, \"y\": 1.5097672869674166, \"grupo\": 2}, {\"x\": -1.9497241787356456, \"y\": 3.4838386963148196, \"grupo\": 3}, {\"x\": 2.4550973706520267, \"y\": 0.6212317875048049, \"grupo\": 2}, {\"x\": -0.8943278823054386, \"y\": 7.61714472965912, \"grupo\": 1}, {\"x\": 1.6968778800536604, \"y\": 0.7549106220963326, \"grupo\": 2}, {\"x\": 1.756448051017495, \"y\": 2.0553828922281285, \"grupo\": 2}, {\"x\": -1.1106401216078259, \"y\": 2.8221381984453626, \"grupo\": 3}, {\"x\": -0.04150176586826815, \"y\": 7.80870275976808, \"grupo\": 1}, {\"x\": -1.1409153341841487, \"y\": 1.975508216153051, \"grupo\": 3}, {\"x\": -1.806349676260743, \"y\": 7.728306560389196, \"grupo\": 1}, {\"x\": 1.3926375177758077, \"y\": 0.9289627074945215, \"grupo\": 2}, {\"x\": -2.25698670404281, \"y\": 7.302077200784324, \"grupo\": 1}, {\"x\": 0.5716704821520695, \"y\": 4.322885662413, \"grupo\": 0}, {\"x\": -1.549945795131673, \"y\": 9.282932223367844, \"grupo\": 1}, {\"x\": -1.0381921197291857, \"y\": 2.953237614842101, \"grupo\": 3}, {\"x\": -2.109566755488596, \"y\": 3.1067725840426172, \"grupo\": 3}, {\"x\": -1.1865298465103038, \"y\": 2.78427720102403, \"grupo\": 3}, {\"x\": -2.4580997514260066, \"y\": 7.511787235616893, \"grupo\": 1}, {\"x\": 2.3696021357334014, \"y\": 0.9507169121647336, \"grupo\": 2}, {\"x\": -2.666760065030858, \"y\": 7.84766052466474, \"grupo\": 1}, {\"x\": -1.497207024231851, \"y\": 3.2141843271016968, \"grupo\": 3}, {\"x\": 1.3222245685154597, \"y\": 4.178808074101593, \"grupo\": 0}, {\"x\": -0.4872713010704255, \"y\": 3.328582925448637, \"grupo\": 3}, {\"x\": -1.0371877083373353, \"y\": 8.063001335762946, \"grupo\": 1}, {\"x\": -1.6049681857381277, \"y\": 2.974254198964464, \"grupo\": 3}, {\"x\": -1.5037256821177925, \"y\": 1.9238531999399506, \"grupo\": 3}, {\"x\": -0.785412205540043, \"y\": 8.453123312911254, \"grupo\": 1}, {\"x\": -1.7578318987306707, \"y\": 2.9744932149233674, \"grupo\": 3}, {\"x\": 1.1900899168511363, \"y\": 4.727731228363559, \"grupo\": 0}, {\"x\": 2.1404394194253458, \"y\": 0.7060666096508798, \"grupo\": 2}, {\"x\": -1.0354011588782195, \"y\": 8.205591948277561, \"grupo\": 1}, {\"x\": 1.254712438591226, \"y\": 0.08963315645940362, \"grupo\": 2}, {\"x\": 0.595676822337917, \"y\": 4.086142627856107, \"grupo\": 0}, {\"x\": 1.2795533755988089, \"y\": 1.0578941815474465, \"grupo\": 2}, {\"x\": 1.7295506358228474, \"y\": 1.1472936876947921, \"grupo\": 2}, {\"x\": -0.9490416098002538, \"y\": 8.464243309222425, \"grupo\": 1}, {\"x\": 0.9353251153517164, \"y\": 5.33179296043801, \"grupo\": 0}, {\"x\": 2.36923351775193, \"y\": 0.794735861204588, \"grupo\": 2}, {\"x\": 0.42857674327999995, \"y\": 4.973997100305902, \"grupo\": 0}, {\"x\": -2.0475827675028513, \"y\": 6.654285201769982, \"grupo\": 1}, {\"x\": -1.4567261662452882, \"y\": 7.486698929525399, \"grupo\": 1}, {\"x\": 0.5294171853174312, \"y\": 3.8079242042529815, \"grupo\": 0}, {\"x\": 1.781948019322472, \"y\": 0.9081511553529709, \"grupo\": 2}, {\"x\": -1.955750533128763, \"y\": 8.61631685864045, \"grupo\": 1}, {\"x\": -1.7457201398569167, \"y\": 3.0119045744965414, \"grupo\": 3}, {\"x\": -1.1797911145845783, \"y\": 3.127674935529027, \"grupo\": 3}, {\"x\": 1.1641106995370358, \"y\": 3.791329883867355, \"grupo\": 0}, {\"x\": 1.3615580623397303, \"y\": 1.3663825209639329, \"grupo\": 2}, {\"x\": 2.601374866288433, \"y\": 1.087994589052718, \"grupo\": 2}, {\"x\": 0.2723960354779992, \"y\": 5.469960038837965, \"grupo\": 0}, {\"x\": -3.12240735601995, \"y\": 3.281673975948751, \"grupo\": 3}, {\"x\": -0.588085171813926, \"y\": 8.614273199037326, \"grupo\": 1}, {\"x\": 1.6690964797331436, \"y\": -0.43637823139671905, \"grupo\": 2}, {\"x\": -0.682774903213914, \"y\": 7.674903167900386, \"grupo\": 1}, {\"x\": 2.367906447304533, \"y\": 0.5521908780500973, \"grupo\": 2}, {\"x\": 1.0524173341686671, \"y\": 4.544980945515211, \"grupo\": 0}, {\"x\": 2.2270737347682457, \"y\": 1.2629699606232072, \"grupo\": 2}, {\"x\": 2.4393464370914333, \"y\": -0.0725099666485638, \"grupo\": 2}, {\"x\": 1.3447177007541433, \"y\": 4.857111330388306, \"grupo\": 0}, {\"x\": -1.3145494177857069, \"y\": 6.839040128520036, \"grupo\": 1}, {\"x\": 0.9825700909789874, \"y\": 5.375309623791891, \"grupo\": 0}, {\"x\": -1.0629522267803457, \"y\": 2.207553877217132, \"grupo\": 3}, {\"x\": -1.6071249490229689, \"y\": 3.5645285449188804, \"grupo\": 3}, {\"x\": 1.5732217229285732, \"y\": 0.48393379328781655, \"grupo\": 2}, {\"x\": -2.1785133817962388, \"y\": 8.085851308260695, \"grupo\": 1}, {\"x\": 1.8337584186674118, \"y\": 0.754036153392381, \"grupo\": 2}, {\"x\": 2.1061604967802476, \"y\": 3.4951318907629223, \"grupo\": 0}, {\"x\": -1.6433875548291526, \"y\": 7.526919636077601, \"grupo\": 1}, {\"x\": 1.1055044830318288, \"y\": 1.2638912874022599, \"grupo\": 2}, {\"x\": 1.6115297235980899, \"y\": 1.8234724171819783, \"grupo\": 2}, {\"x\": 0.45953466751367356, \"y\": 5.44982629930781, \"grupo\": 0}, {\"x\": -0.5380230538973697, \"y\": 3.016418914625523, \"grupo\": 3}, {\"x\": 1.6784149856479307, \"y\": 0.6090473888614643, \"grupo\": 2}, {\"x\": -1.0121496586465035, \"y\": 3.602543381327667, \"grupo\": 3}, {\"x\": 1.3419519667624606, \"y\": 0.5935738473587243, \"grupo\": 2}, {\"x\": 1.4281155017447051, \"y\": 1.6243508337475574, \"grupo\": 2}, {\"x\": 2.0450552731160134, \"y\": 1.125154701270986, \"grupo\": 2}, {\"x\": 1.6728053061015404, \"y\": 0.6593005713406582, \"grupo\": 2}, {\"x\": -1.3586389900321278, \"y\": 2.3220080947753745, \"grupo\": 3}, {\"x\": 1.130789312766103, \"y\": 0.9356208564581359, \"grupo\": 2}, {\"x\": -1.738963062476225, \"y\": 1.9479977481425033, \"grupo\": 3}, {\"x\": -0.3402589252022272, \"y\": 8.167339254166144, \"grupo\": 1}, {\"x\": -1.6379362158275104, \"y\": 2.4332931687633095, \"grupo\": 3}, {\"x\": -1.6875441353582852, \"y\": 2.2410754624511187, \"grupo\": 3}, {\"x\": 2.4304063920491905, \"y\": -0.06357093342611164, \"grupo\": 2}, {\"x\": -1.379980391744878, \"y\": 7.185038043238434, \"grupo\": 1}, {\"x\": -1.252454649489311, \"y\": 2.3391150530928857, \"grupo\": 3}, {\"x\": -2.394824832959938, \"y\": 3.3980610309371393, \"grupo\": 3}, {\"x\": -2.0918335245068898, \"y\": 7.48142542811987, \"grupo\": 1}, {\"x\": 0.4883823093198226, \"y\": 3.268017766049384, \"grupo\": 0}, {\"x\": -0.5394286139731788, \"y\": 7.456317760838494, \"grupo\": 1}, {\"x\": -2.592018209943192, \"y\": 8.076359448695767, \"grupo\": 1}, {\"x\": -1.0465651311633073, \"y\": 2.9648383664301194, \"grupo\": 3}, {\"x\": 1.255667542384771, \"y\": 3.382041115682056, \"grupo\": 0}, {\"x\": -1.621504222920195, \"y\": 4.271916359712049, \"grupo\": 3}, {\"x\": 1.869221394823855, \"y\": 5.44132083306674, \"grupo\": 0}, {\"x\": -1.764041402814518, \"y\": 2.222229951493175, \"grupo\": 3}, {\"x\": -1.3818191833151425, \"y\": 7.287612484816516, \"grupo\": 1}, {\"x\": 0.00793137001172417, \"y\": 4.1761431593200085, \"grupo\": 0}, {\"x\": -1.1029849981550766, \"y\": 7.302227861229416, \"grupo\": 1}, {\"x\": -1.793513722321582, \"y\": 7.580869443054853, \"grupo\": 1}, {\"x\": -1.511769487827439, \"y\": 7.944263073172287, \"grupo\": 1}, {\"x\": 0.9593607415433021, \"y\": 4.56078644976664, \"grupo\": 0}, {\"x\": -0.6013373925176075, \"y\": 6.299949215835136, \"grupo\": 1}, {\"x\": 0.22459286251653932, \"y\": 4.770281540947536, \"grupo\": 0}, {\"x\": 1.5672489659103563, \"y\": 0.017809063256428503, \"grupo\": 2}, {\"x\": -1.033952585992028, \"y\": 2.9210578491127395, \"grupo\": 3}, {\"x\": -0.9222686399136384, \"y\": 8.09888579024482, \"grupo\": 1}, {\"x\": -1.886096375375697, \"y\": 2.248344069756886, \"grupo\": 3}, {\"x\": 1.868735818413795, \"y\": 0.9561037596992069, \"grupo\": 2}, {\"x\": 1.1012350653926113, \"y\": 4.889770749338617, \"grupo\": 0}, {\"x\": -1.9321372480022148, \"y\": 8.306434528385894, \"grupo\": 1}, {\"x\": 0.670478769495503, \"y\": 4.0409427464816785, \"grupo\": 0}, {\"x\": 0.7438739881017237, \"y\": 4.122405677103188, \"grupo\": 0}, {\"x\": 1.6400376127622431, \"y\": 1.8194898924854155, \"grupo\": 2}, {\"x\": 0.8154680559756669, \"y\": 4.785261164926227, \"grupo\": 0}, {\"x\": -2.6327457433158945, \"y\": 2.6310978589088307, \"grupo\": 3}, {\"x\": -0.9610763608283948, \"y\": 1.274075961019389, \"grupo\": 3}, {\"x\": 0.2139790794550549, \"y\": 4.885425352343197, \"grupo\": 0}, {\"x\": 1.4347218163621993, \"y\": 1.306620370906913, \"grupo\": 2}, {\"x\": 1.2138741061434821, \"y\": 3.6479504222100867, \"grupo\": 0}, {\"x\": 1.0827257638987469, \"y\": 4.0627187657234325, \"grupo\": 0}, {\"x\": -1.2260523416000606, \"y\": 8.296201460281216, \"grupo\": 1}, {\"x\": 1.4817005211372116, \"y\": 0.690074594518305, \"grupo\": 2}, {\"x\": 1.8959376071615694, \"y\": 5.185402589388561, \"grupo\": 0}, {\"x\": -1.3235615380923387, \"y\": 4.130508398224001, \"grupo\": 3}, {\"x\": -1.1498986312745982, \"y\": 7.893252829194312, \"grupo\": 1}, {\"x\": 2.469158420153751, \"y\": 1.6787713976769358, \"grupo\": 2}, {\"x\": 2.3110227598997386, \"y\": 1.3038084809560841, \"grupo\": 2}, {\"x\": 0.5727938098809244, \"y\": 4.088055430524065, \"grupo\": 0}, {\"x\": -0.9677949887533233, \"y\": 3.12186125161388, \"grupo\": 3}, {\"x\": 2.6249200055883346, \"y\": 0.9501944047690514, \"grupo\": 2}, {\"x\": 1.6835378212422856, \"y\": 4.19583242596098, \"grupo\": 0}, {\"x\": -2.2213171687364177, \"y\": 2.7305069106577067, \"grupo\": 3}, {\"x\": -1.5784624734048731, \"y\": 3.034458024160586, \"grupo\": 3}, {\"x\": 0.0815155229231318, \"y\": 4.567422348207112, \"grupo\": 0}, {\"x\": 1.4328927136346912, \"y\": 4.376792337344087, \"grupo\": 0}, {\"x\": 1.0626962212430218, \"y\": 5.176351431626175, \"grupo\": 0}, {\"x\": 0.7675227889508035, \"y\": 4.397596708910778, \"grupo\": 0}, {\"x\": 2.47019077207499, \"y\": 1.3145131461315405, \"grupo\": 2}, {\"x\": -1.7316316792697708, \"y\": 7.164472861048615, \"grupo\": 1}, {\"x\": 0.34713829950623953, \"y\": 3.451776565141005, \"grupo\": 0}, {\"x\": -1.0014043562695067, \"y\": 2.8488177802407866, \"grupo\": 3}, {\"x\": 1.0161804119763957, \"y\": 4.485270466092259, \"grupo\": 0}, {\"x\": 0.5595293627076758, \"y\": 4.2140066032517876, \"grupo\": 0}, {\"x\": -2.1182104558323958, \"y\": 2.034781256854971, \"grupo\": 3}, {\"x\": -1.3621941985875416, \"y\": 2.383333211535806, \"grupo\": 3}, {\"x\": -2.7836658559455922, \"y\": 2.9921154098732266, \"grupo\": 3}, {\"x\": 1.6522516318103992, \"y\": 3.655828422430336, \"grupo\": 0}, {\"x\": -1.9396065798391149, \"y\": 2.1894358194766506, \"grupo\": 3}, {\"x\": -1.8148768692407264, \"y\": 7.978321904340981, \"grupo\": 1}, {\"x\": 1.2021253972398727, \"y\": 3.6441468530978733, \"grupo\": 0}, {\"x\": -0.9692009463341885, \"y\": 3.267217016171877, \"grupo\": 3}, {\"x\": 1.8698597400046046, \"y\": -0.10793862386004904, \"grupo\": 2}, {\"x\": -1.8070113408535629, \"y\": 2.067738593457367, \"grupo\": 3}, {\"x\": 1.2176750632530244, \"y\": 3.892901272884202, \"grupo\": 0}, {\"x\": -1.4836891736359323, \"y\": 6.007774182761638, \"grupo\": 1}, {\"x\": -1.5638798544792938, \"y\": 2.853499095558418, \"grupo\": 3}, {\"x\": -0.686210296624996, \"y\": 8.68285663926406, \"grupo\": 1}, {\"x\": 1.0762741757700125, \"y\": 4.684806189583654, \"grupo\": 0}, {\"x\": -0.9759866271647398, \"y\": 6.737615769038875, \"grupo\": 1}, {\"x\": 1.3796469327539564, \"y\": 4.548264429193056, \"grupo\": 0}, {\"x\": -1.641296109370745, \"y\": 2.680972552913053, \"grupo\": 3}, {\"x\": -0.0018489296331316574, \"y\": 4.581456680763854, \"grupo\": 0}, {\"x\": 1.7144444869831275, \"y\": 5.025215236719037, \"grupo\": 0}, {\"x\": -1.4052430421726907, \"y\": 7.726113145367628, \"grupo\": 1}, {\"x\": -0.7081849043604226, \"y\": 2.5042127506031604, \"grupo\": 3}, {\"x\": -0.8857983736323, \"y\": 2.64585077902229, \"grupo\": 3}, {\"x\": 1.9843690943557362, \"y\": 0.48955673753982665, \"grupo\": 2}, {\"x\": 2.951958248127699, \"y\": -0.34432735507018264, \"grupo\": 2}, {\"x\": 0.43189105991654975, \"y\": 4.334954564926074, \"grupo\": 0}, {\"x\": -1.8662169447315362, \"y\": 7.625493996888132, \"grupo\": 1}, {\"x\": 2.5270642986982637, \"y\": 0.617812201896371, \"grupo\": 2}, {\"x\": 2.0406718467935168, \"y\": 0.45484511441452363, \"grupo\": 2}, {\"x\": -2.5804383632845367, \"y\": 3.1884429384166717, \"grupo\": 3}, {\"x\": 1.6199090943547274, \"y\": 0.06764528670090364, \"grupo\": 2}, {\"x\": -2.588027083628124, \"y\": 3.131171336979384, \"grupo\": 3}, {\"x\": 0.44359862996842747, \"y\": 3.1153094465140336, \"grupo\": 0}, {\"x\": -0.4567736489652049, \"y\": 7.306008724511643, \"grupo\": 1}, {\"x\": -1.1286756566082712, \"y\": 7.8050978910645945, \"grupo\": 1}, {\"x\": 2.130035294434726, \"y\": 5.1920962023090445, \"grupo\": 0}, {\"x\": 1.0037251889273626, \"y\": 4.19147701743289, \"grupo\": 0}, {\"x\": -1.393467672668282, \"y\": 8.746416717855018, \"grupo\": 1}, {\"x\": 0.7280986900906466, \"y\": 3.8553144405839355, \"grupo\": 0}, {\"x\": 0.8934996379249738, \"y\": 1.010930818014234, \"grupo\": 2}, {\"x\": -1.1078297237575039, \"y\": 2.920144794784884, \"grupo\": 3}, {\"x\": 0.7893385592700715, \"y\": 4.3374865327862375, \"grupo\": 0}, {\"x\": 1.9755391748807045, \"y\": 0.7189891322968999, \"grupo\": 2}, {\"x\": -1.2490258156307412, \"y\": 3.085339719968595, \"grupo\": 3}, {\"x\": -1.0776879722618216, \"y\": 8.881061284034972, \"grupo\": 1}, {\"x\": -1.8684912453040163, \"y\": 3.0798248742975796, \"grupo\": 3}, {\"x\": 2.768085396844259, \"y\": 1.0878292270928467, \"grupo\": 2}, {\"x\": 0.2771801740764812, \"y\": 4.844283219620902, \"grupo\": 0}, {\"x\": 3.410852891847389, \"y\": 0.8723093689415512, \"grupo\": 2}, {\"x\": -1.5808415506889308, \"y\": 7.5530774207487195, \"grupo\": 1}, {\"x\": -1.5302755043666751, \"y\": 7.705421133296271, \"grupo\": 1}, {\"x\": -1.824558403726039, \"y\": 7.359589598016991, \"grupo\": 1}, {\"x\": -1.6856825700229676, \"y\": 7.953394456078865, \"grupo\": 1}, {\"x\": -1.6510462189202884, \"y\": 3.445989608581592, \"grupo\": 3}, {\"x\": -1.3044090124532441, \"y\": 3.003119344445464, \"grupo\": 3}, {\"x\": -0.7306981679490796, \"y\": 6.242088559856635, \"grupo\": 1}, {\"x\": 2.40615694346486, \"y\": 4.8704750196426385, \"grupo\": 0}, {\"x\": -1.5363132801834383, \"y\": 3.0144391623120566, \"grupo\": 3}, {\"x\": 1.4885997678819276, \"y\": 0.6516338440164078, \"grupo\": 2}, {\"x\": 0.5143204338793053, \"y\": 4.62733684222348, \"grupo\": 0}, {\"x\": -1.814697501626674, \"y\": 3.29009724033923, \"grupo\": 3}, {\"x\": -1.9373105518642353, \"y\": 3.913612739047046, \"grupo\": 3}, {\"x\": -0.6149070967624418, \"y\": 3.9496358457828395, \"grupo\": 3}, {\"x\": 2.0316978304963804, \"y\": 0.1968075612932184, \"grupo\": 2}, {\"x\": 2.1491714442121035, \"y\": 1.0369722816581022, \"grupo\": 2}, {\"x\": -1.3699938792061506, \"y\": 7.769530348056006, \"grupo\": 1}, {\"x\": 0.9143387674703604, \"y\": 4.550146428611414, \"grupo\": 0}, {\"x\": 0.33381850564016957, \"y\": 4.936458363607072, \"grupo\": 0}, {\"x\": -2.1596810916129137, \"y\": 3.4100309637279316, \"grupo\": 3}, {\"x\": 1.3667863299862164, \"y\": 0.6349716330912765, \"grupo\": 2}, {\"x\": -0.5710993360374091, \"y\": 8.133060583447971, \"grupo\": 1}, {\"x\": -1.0055259210838283, \"y\": 3.0840054048407994, \"grupo\": 3}, {\"x\": 1.4949317978621983, \"y\": 3.858488315204525, \"grupo\": 0}, {\"x\": -0.5904476673466711, \"y\": 7.694930534834872, \"grupo\": 1}, {\"x\": 0.7151779475135126, \"y\": 5.413345564535995, \"grupo\": 0}, {\"x\": 2.113902502061791, \"y\": 1.247435867789913, \"grupo\": 2}, {\"x\": 1.2008309760433589, \"y\": 0.6016717299206205, \"grupo\": 2}, {\"x\": -2.5457675048812582, \"y\": 3.150250546570161, \"grupo\": 3}, {\"x\": -1.9586666463529812, \"y\": 2.4300864682006766, \"grupo\": 3}, {\"x\": 2.3381228529390596, \"y\": 3.431167922689131, \"grupo\": 0}, {\"x\": 3.3532090910012915, \"y\": 1.6995804295997718, \"grupo\": 2}, {\"x\": 1.8428711746807875, \"y\": 0.07269288388712558, \"grupo\": 2}, {\"x\": 1.3200062101347771, \"y\": 1.404281445778865, \"grupo\": 2}, {\"x\": 2.096805454802437, \"y\": 4.847414122413621, \"grupo\": 0}, {\"x\": -1.2430790353956045, \"y\": 8.15166254071439, \"grupo\": 1}, {\"x\": -1.859080899918569, \"y\": 7.788747162077084, \"grupo\": 1}, {\"x\": 2.74666646030275, \"y\": 1.5454348151600295, \"grupo\": 2}, {\"x\": 2.6077828157013694, \"y\": 1.0889002517037496, \"grupo\": 2}, {\"x\": 1.6599104892724754, \"y\": 3.5628918352361985, \"grupo\": 0}, {\"x\": 2.351512587842391, \"y\": 0.8280012965173169, \"grupo\": 2}, {\"x\": 2.223222280858821, \"y\": 0.8387734261521621, \"grupo\": 2}, {\"x\": 3.2288149063832945, \"y\": 1.1317196535506926, \"grupo\": 2}, {\"x\": -1.5587672002523922, \"y\": 7.248162100026332, \"grupo\": 1}, {\"x\": -0.6469567838773989, \"y\": 3.429413425009862, \"grupo\": 3}, {\"x\": -1.3268881816709976, \"y\": 8.515307943377428, \"grupo\": 1}, {\"x\": 0.9171985638912357, \"y\": 3.9057003556311254, \"grupo\": 0}, {\"x\": 2.294695328816956, \"y\": -0.7658919939180533, \"grupo\": 2}, {\"x\": 1.815598103875153, \"y\": 1.119697192646448, \"grupo\": 2}, {\"x\": -1.120167745400049, \"y\": 7.1103158234016615, \"grupo\": 1}, {\"x\": -1.6550712436848205, \"y\": 8.614167490032253, \"grupo\": 1}, {\"x\": -1.2756781511422912, \"y\": 7.967764609095898, \"grupo\": 1}, {\"x\": 1.9736977010258854, \"y\": 1.579798477499554, \"grupo\": 2}, {\"x\": 2.518341852161078, \"y\": 1.3917661523161757, \"grupo\": 2}, {\"x\": 0.4389901418302897, \"y\": 4.535928826163947, \"grupo\": 0}, {\"x\": 0.36947865679199743, \"y\": 7.791105215873345, \"grupo\": 1}, {\"x\": -1.7914575925974603, \"y\": 2.7496689642224172, \"grupo\": 3}]}}, {\"mode\": \"vega-lite\"});\n",
              "</script>"
            ]
          },
          "metadata": {
            "tags": []
          },
          "execution_count": 13
        }
      ]
    },
    {
      "cell_type": "markdown",
      "metadata": {
        "id": "VqxhmCDJLTiP"
      },
      "source": [
        "### Agora os filmes\n",
        "\n",
        "Como as variáveis têm escalas muito diferentes, precisaremos pré-processar os dados normalizando as variáveis.\n"
      ]
    },
    {
      "cell_type": "code",
      "metadata": {
        "id": "Mg7WmPe8HymR",
        "colab": {
          "base_uri": "https://localhost:8080/",
          "height": 368
        },
        "outputId": "14bdf7b5-2dc8-43b7-d40f-f952874fe9ce"
      },
      "source": [
        "alt.Chart(filmes).mark_circle(\n",
        "    size = 70\n",
        ").encode(\n",
        "    y = alt.Y('BOXOFFICE', scale=alt.Scale(type='log')),\n",
        "    x = 'RATING',\n",
        "    tooltip = ['TITLE', 'RATING', 'BOXOFFICE']\n",
        ").interactive()"
      ],
      "execution_count": 14,
      "outputs": [
        {
          "output_type": "execute_result",
          "data": {
            "text/plain": [
              "alt.Chart(...)"
            ],
            "text/html": [
              "\n",
              "<div id=\"altair-viz-c70e6735f48f4618b26bb4b65ffcdbcb\"></div>\n",
              "<script type=\"text/javascript\">\n",
              "  (function(spec, embedOpt){\n",
              "    let outputDiv = document.currentScript.previousElementSibling;\n",
              "    if (outputDiv.id !== \"altair-viz-c70e6735f48f4618b26bb4b65ffcdbcb\") {\n",
              "      outputDiv = document.getElementById(\"altair-viz-c70e6735f48f4618b26bb4b65ffcdbcb\");\n",
              "    }\n",
              "    const paths = {\n",
              "      \"vega\": \"https://cdn.jsdelivr.net/npm//vega@5?noext\",\n",
              "      \"vega-lib\": \"https://cdn.jsdelivr.net/npm//vega-lib?noext\",\n",
              "      \"vega-lite\": \"https://cdn.jsdelivr.net/npm//vega-lite@4.8.1?noext\",\n",
              "      \"vega-embed\": \"https://cdn.jsdelivr.net/npm//vega-embed@6?noext\",\n",
              "    };\n",
              "\n",
              "    function loadScript(lib) {\n",
              "      return new Promise(function(resolve, reject) {\n",
              "        var s = document.createElement('script');\n",
              "        s.src = paths[lib];\n",
              "        s.async = true;\n",
              "        s.onload = () => resolve(paths[lib]);\n",
              "        s.onerror = () => reject(`Error loading script: ${paths[lib]}`);\n",
              "        document.getElementsByTagName(\"head\")[0].appendChild(s);\n",
              "      });\n",
              "    }\n",
              "\n",
              "    function showError(err) {\n",
              "      outputDiv.innerHTML = `<div class=\"error\" style=\"color:red;\">${err}</div>`;\n",
              "      throw err;\n",
              "    }\n",
              "\n",
              "    function displayChart(vegaEmbed) {\n",
              "      vegaEmbed(outputDiv, spec, embedOpt)\n",
              "        .catch(err => showError(`Javascript Error: ${err.message}<br>This usually means there's a typo in your chart specification. See the javascript console for the full traceback.`));\n",
              "    }\n",
              "\n",
              "    if(typeof define === \"function\" && define.amd) {\n",
              "      requirejs.config({paths});\n",
              "      require([\"vega-embed\"], displayChart, err => showError(`Error loading script: ${err.message}`));\n",
              "    } else if (typeof vegaEmbed === \"function\") {\n",
              "      displayChart(vegaEmbed);\n",
              "    } else {\n",
              "      loadScript(\"vega\")\n",
              "        .then(() => loadScript(\"vega-lite\"))\n",
              "        .then(() => loadScript(\"vega-embed\"))\n",
              "        .catch(showError)\n",
              "        .then(() => displayChart(vegaEmbed));\n",
              "    }\n",
              "  })({\"config\": {\"view\": {\"continuousWidth\": 400, \"continuousHeight\": 300}}, \"data\": {\"name\": \"data-5a194466983f6bcbb5daf8b7f2d28493\"}, \"mark\": {\"type\": \"circle\", \"size\": 70}, \"encoding\": {\"tooltip\": [{\"type\": \"nominal\", \"field\": \"TITLE\"}, {\"type\": \"quantitative\", \"field\": \"RATING\"}, {\"type\": \"quantitative\", \"field\": \"BOXOFFICE\"}], \"x\": {\"type\": \"quantitative\", \"field\": \"RATING\"}, \"y\": {\"type\": \"quantitative\", \"field\": \"BOXOFFICE\", \"scale\": {\"type\": \"log\"}}}, \"selection\": {\"selector008\": {\"type\": \"interval\", \"bind\": \"scales\", \"encodings\": [\"x\", \"y\"]}}, \"$schema\": \"https://vega.github.io/schema/vega-lite/v4.8.1.json\", \"datasets\": {\"data-5a194466983f6bcbb5daf8b7f2d28493\": [{\"RATING\": 85, \"TITLE\": \"Avengers: Infinity War\", \"CREDIT\": \"Natasha Romanoff/Black Widow\", \"BOXOFFICE\": 665.0, \"YEAR\": 2018}, {\"RATING\": 44, \"TITLE\": \"Rough Night\", \"CREDIT\": \"Jess\", \"BOXOFFICE\": 22.1, \"YEAR\": 2017}, {\"RATING\": 43, \"TITLE\": \"Ghost in the Shell\", \"CREDIT\": \"Major\", \"BOXOFFICE\": 40.6, \"YEAR\": 2017}, {\"RATING\": 72, \"TITLE\": \"Sing\", \"CREDIT\": \"Ash\", \"BOXOFFICE\": 270.4, \"YEAR\": 2016}, {\"RATING\": 91, \"TITLE\": \"Captain America: Civil War\", \"CREDIT\": \"Natasha Romanoff/Black Widow\", \"BOXOFFICE\": 408.1, \"YEAR\": 2016}, {\"RATING\": 95, \"TITLE\": \"The Jungle Book\", \"CREDIT\": \"Kaa\", \"BOXOFFICE\": 364.0, \"YEAR\": 2016}, {\"RATING\": 86, \"TITLE\": \"Hail, Caesar!\", \"CREDIT\": \"DeeAnna Moran\", \"BOXOFFICE\": 28.0, \"YEAR\": 2016}, {\"RATING\": 75, \"TITLE\": \"Avengers: Age of Ultron\", \"CREDIT\": \"Natasha Romanoff/Black Widow\", \"BOXOFFICE\": 429.2, \"YEAR\": 2015}, {\"RATING\": 67, \"TITLE\": \"Lucy\", \"CREDIT\": \"Lucy\", \"BOXOFFICE\": 108.6, \"YEAR\": 2014}, {\"RATING\": 87, \"TITLE\": \"Chef\", \"CREDIT\": \"Molly\", \"BOXOFFICE\": 23.7, \"YEAR\": 2014}, {\"RATING\": 90, \"TITLE\": \"Captain America: The Winter Soldier\", \"CREDIT\": \"Natasha Romanoff/Black Widow\", \"BOXOFFICE\": 228.7, \"YEAR\": 2014}, {\"RATING\": 84, \"TITLE\": \"Under the Skin\", \"CREDIT\": \"Laura\", \"BOXOFFICE\": 2.4, \"YEAR\": 2014}, {\"RATING\": 94, \"TITLE\": \"Her\", \"CREDIT\": \"Samantha\", \"BOXOFFICE\": 18.0, \"YEAR\": 2013}, {\"RATING\": 60, \"TITLE\": \"Hitchcock\", \"CREDIT\": \"Janet Leigh\", \"BOXOFFICE\": 6.1, \"YEAR\": 2012}, {\"RATING\": 96, \"TITLE\": \"Chasing Ice\", \"CREDIT\": \"Actor\", \"BOXOFFICE\": 1.4, \"YEAR\": 2012}, {\"RATING\": 92, \"TITLE\": \"Marvel's The Avengers\", \"CREDIT\": \"Natasha Romanoff/Black Widow\", \"BOXOFFICE\": 623.3, \"YEAR\": 2012}, {\"RATING\": 64, \"TITLE\": \"We Bought a Zoo\", \"CREDIT\": \"Kelly Foster\", \"BOXOFFICE\": 72.8, \"YEAR\": 2011}, {\"RATING\": 73, \"TITLE\": \"Iron Man 2\", \"CREDIT\": \"Natalie Rushman/Black Widow\", \"BOXOFFICE\": 312.1, \"YEAR\": 2010}, {\"RATING\": 40, \"TITLE\": \"He's Just Not That Into You\", \"CREDIT\": \"Anna\", \"BOXOFFICE\": 93.9, \"YEAR\": 2009}, {\"RATING\": 14, \"TITLE\": \"The Spirit\", \"CREDIT\": \"Silken Floss\", \"BOXOFFICE\": 19.8, \"YEAR\": 2008}, {\"RATING\": 81, \"TITLE\": \"Vicky Cristina Barcelona\", \"CREDIT\": \"Cristina\", \"BOXOFFICE\": 23.2, \"YEAR\": 2008}, {\"RATING\": 42, \"TITLE\": \"The Other Boleyn Girl\", \"CREDIT\": \"Mary Boleyn\", \"BOXOFFICE\": 26.9, \"YEAR\": 2008}, {\"RATING\": 34, \"TITLE\": \"The Nanny Diaries\", \"CREDIT\": \"Annie Braddock\", \"BOXOFFICE\": 25.9, \"YEAR\": 2007}, {\"RATING\": 76, \"TITLE\": \"The Prestige\", \"CREDIT\": \"Olivia Wenscombe\", \"BOXOFFICE\": 53.2, \"YEAR\": 2006}, {\"RATING\": 33, \"TITLE\": \"The Black Dahlia\", \"CREDIT\": \"Kay Lake\", \"BOXOFFICE\": 22.6, \"YEAR\": 2006}, {\"RATING\": 41, \"TITLE\": \"Scoop\", \"CREDIT\": \"Sondra Pransky\", \"BOXOFFICE\": 10.5, \"YEAR\": 2006}, {\"RATING\": 76, \"TITLE\": \"Match Point\", \"CREDIT\": \"Nola Rice\", \"BOXOFFICE\": 23.2, \"YEAR\": 2005}, {\"RATING\": 40, \"TITLE\": \"The Island\", \"CREDIT\": \"Jordan Two Delta/Sarah Jordan\", \"BOXOFFICE\": 35.9, \"YEAR\": 2005}, {\"RATING\": 82, \"TITLE\": \"In Good Company\", \"CREDIT\": \"Alex Foreman\", \"BOXOFFICE\": 45.5, \"YEAR\": 2004}, {\"RATING\": 16, \"TITLE\": \"The Perfect Score\", \"CREDIT\": \"Francesca\", \"BOXOFFICE\": 10.3, \"YEAR\": 2004}, {\"RATING\": 72, \"TITLE\": \"Girl With a Pearl Earring\", \"CREDIT\": \"Griet\", \"BOXOFFICE\": 11.6, \"YEAR\": 2004}, {\"RATING\": 95, \"TITLE\": \"Lost In Translation\", \"CREDIT\": \"Charlotte\", \"BOXOFFICE\": 44.6, \"YEAR\": 2003}, {\"RATING\": 48, \"TITLE\": \"Eight Legged Freaks\", \"CREDIT\": \"Ashley Parker\", \"BOXOFFICE\": 17.3, \"YEAR\": 2002}, {\"RATING\": 81, \"TITLE\": \"The Man Who Wasn't There\", \"CREDIT\": \"Birdy Abundas\", \"BOXOFFICE\": 7.5, \"YEAR\": 2001}, {\"RATING\": 92, \"TITLE\": \"Ghost World\", \"CREDIT\": \"Rebecca\", \"BOXOFFICE\": 4.7, \"YEAR\": 2001}]}}, {\"mode\": \"vega-lite\"});\n",
              "</script>"
            ]
          },
          "metadata": {
            "tags": []
          },
          "execution_count": 14
        }
      ]
    },
    {
      "cell_type": "code",
      "metadata": {
        "id": "nq1Ket-TLaYT",
        "colab": {
          "base_uri": "https://localhost:8080/",
          "height": 470
        },
        "outputId": "cc7f1337-a4ff-4638-81ac-8d8f3e1d4ee9"
      },
      "source": [
        "from sklearn import preprocessing\n",
        "\n",
        "filmes_t = pd.DataFrame({'rating' : filmes['RATING'], \n",
        "                         'boxoffice' : np.log10(filmes['BOXOFFICE'])})\n",
        "\n",
        "ss = preprocessing.StandardScaler()\n",
        "filmes_scaled = pd.DataFrame(ss.fit_transform(filmes_t),columns = filmes_t.columns)\n",
        "print(filmes_scaled.head(5))\n",
        "\n",
        "alt.Chart(filmes_scaled).mark_circle(\n",
        "    size = 100, \n",
        "    stroke = 'black'\n",
        ").encode(\n",
        "    y = 'boxoffice',\n",
        "    x = 'rating'\n",
        ")"
      ],
      "execution_count": 15,
      "outputs": [
        {
          "output_type": "stream",
          "text": [
            "     rating  boxoffice\n",
            "0  0.738937   1.838964\n",
            "1 -0.988057  -0.364673\n",
            "2 -1.030179   0.029025\n",
            "3  0.191353   1.256444\n",
            "4  0.991668   1.522890\n"
          ],
          "name": "stdout"
        },
        {
          "output_type": "execute_result",
          "data": {
            "text/plain": [
              "alt.Chart(...)"
            ],
            "text/html": [
              "\n",
              "<div id=\"altair-viz-8ca05089a47a40a38f5b1d4bf2068fad\"></div>\n",
              "<script type=\"text/javascript\">\n",
              "  (function(spec, embedOpt){\n",
              "    let outputDiv = document.currentScript.previousElementSibling;\n",
              "    if (outputDiv.id !== \"altair-viz-8ca05089a47a40a38f5b1d4bf2068fad\") {\n",
              "      outputDiv = document.getElementById(\"altair-viz-8ca05089a47a40a38f5b1d4bf2068fad\");\n",
              "    }\n",
              "    const paths = {\n",
              "      \"vega\": \"https://cdn.jsdelivr.net/npm//vega@5?noext\",\n",
              "      \"vega-lib\": \"https://cdn.jsdelivr.net/npm//vega-lib?noext\",\n",
              "      \"vega-lite\": \"https://cdn.jsdelivr.net/npm//vega-lite@4.8.1?noext\",\n",
              "      \"vega-embed\": \"https://cdn.jsdelivr.net/npm//vega-embed@6?noext\",\n",
              "    };\n",
              "\n",
              "    function loadScript(lib) {\n",
              "      return new Promise(function(resolve, reject) {\n",
              "        var s = document.createElement('script');\n",
              "        s.src = paths[lib];\n",
              "        s.async = true;\n",
              "        s.onload = () => resolve(paths[lib]);\n",
              "        s.onerror = () => reject(`Error loading script: ${paths[lib]}`);\n",
              "        document.getElementsByTagName(\"head\")[0].appendChild(s);\n",
              "      });\n",
              "    }\n",
              "\n",
              "    function showError(err) {\n",
              "      outputDiv.innerHTML = `<div class=\"error\" style=\"color:red;\">${err}</div>`;\n",
              "      throw err;\n",
              "    }\n",
              "\n",
              "    function displayChart(vegaEmbed) {\n",
              "      vegaEmbed(outputDiv, spec, embedOpt)\n",
              "        .catch(err => showError(`Javascript Error: ${err.message}<br>This usually means there's a typo in your chart specification. See the javascript console for the full traceback.`));\n",
              "    }\n",
              "\n",
              "    if(typeof define === \"function\" && define.amd) {\n",
              "      requirejs.config({paths});\n",
              "      require([\"vega-embed\"], displayChart, err => showError(`Error loading script: ${err.message}`));\n",
              "    } else if (typeof vegaEmbed === \"function\") {\n",
              "      displayChart(vegaEmbed);\n",
              "    } else {\n",
              "      loadScript(\"vega\")\n",
              "        .then(() => loadScript(\"vega-lite\"))\n",
              "        .then(() => loadScript(\"vega-embed\"))\n",
              "        .catch(showError)\n",
              "        .then(() => displayChart(vegaEmbed));\n",
              "    }\n",
              "  })({\"config\": {\"view\": {\"continuousWidth\": 400, \"continuousHeight\": 300}}, \"data\": {\"name\": \"data-ada6efae1634f453614c58890c9fa803\"}, \"mark\": {\"type\": \"circle\", \"size\": 100, \"stroke\": \"black\"}, \"encoding\": {\"x\": {\"type\": \"quantitative\", \"field\": \"rating\"}, \"y\": {\"type\": \"quantitative\", \"field\": \"boxoffice\"}}, \"$schema\": \"https://vega.github.io/schema/vega-lite/v4.8.1.json\", \"datasets\": {\"data-ada6efae1634f453614c58890c9fa803\": [{\"rating\": 0.7389367842136413, \"boxoffice\": 1.8389635848159636}, {\"rating\": -0.9880571658622139, \"boxoffice\": -0.3646727828293302}, {\"rating\": -1.0301789695226007, \"boxoffice\": 0.02902526619149214}, {\"rating\": 0.19135333662861398, \"boxoffice\": 1.2564440062175688}, {\"rating\": 0.9916676061759615, \"boxoffice\": 1.5228901691620276}, {\"rating\": 1.1601548208175083, \"boxoffice\": 1.4488629159559265}, {\"rating\": 0.7810585878740279, \"boxoffice\": -0.21149782211139562}, {\"rating\": 0.31771874760977414, \"boxoffice\": 1.5555224159906047}, {\"rating\": -0.01925568167331957, \"boxoffice\": 0.6659323741304014}, {\"rating\": 0.8231803915344147, \"boxoffice\": -0.319426289328584}, {\"rating\": 0.9495458025155749, \"boxoffice\": 1.1480224175920957}, {\"rating\": 0.6968149805532545, \"boxoffice\": -1.801808994974052}, {\"rating\": 1.1180330171571216, \"boxoffice\": -0.4975080517255852}, {\"rating\": -0.31410830729602657, \"boxoffice\": -1.1979694862754893}, {\"rating\": 1.202276624477895, \"boxoffice\": -2.15071593349463}, {\"rating\": 1.0337894098363483, \"boxoffice\": 1.7970432788595172}, {\"rating\": -0.1456210926544797, \"boxoffice\": 0.4070304476504835}, {\"rating\": 0.2334751402890007, \"boxoffice\": 1.3492844762685035}, {\"rating\": -1.1565443805037607, \"boxoffice\": 0.5717844874500796}, {\"rating\": -2.251711275673815, \"boxoffice\": -0.4358112076826862}, {\"rating\": 0.5704495695720944, \"boxoffice\": -0.3332290917698494}, {\"rating\": -1.0723007731829874, \"boxoffice\": -0.23744153467212614}, {\"rating\": -1.409275202466081, \"boxoffice\": -0.261964425734176}, {\"rating\": 0.35984055127016085, \"boxoffice\": 0.2039914697439731}, {\"rating\": -1.4513970061264678, \"boxoffice\": -0.3501905924874746}, {\"rating\": -1.114422576843374, \"boxoffice\": -0.8464149902461631}, {\"rating\": 0.35984055127016085, \"boxoffice\": -0.3332290917698494}, {\"rating\": -1.1565443805037607, \"boxoffice\": -0.050615862525798305}, {\"rating\": 0.6125713732324811, \"boxoffice\": 0.10278445133923979}, {\"rating\": -2.167467668353042, \"boxoffice\": -0.8588639683095071}, {\"rating\": 0.19135333662861398, \"boxoffice\": -0.7819219133087447}, {\"rating\": 1.1601548208175083, \"boxoffice\": 0.08985185210396726}, {\"rating\": -0.8195699512206671, \"boxoffice\": -0.5231844395216176}, {\"rating\": 0.5704495695720944, \"boxoffice\": -1.0642225229798525}, {\"rating\": 1.0337894098363483, \"boxoffice\": -1.3667446117249251}]}}, {\"mode\": \"vega-lite\"});\n",
              "</script>"
            ]
          },
          "metadata": {
            "tags": []
          },
          "execution_count": 15
        }
      ]
    },
    {
      "cell_type": "markdown",
      "metadata": {
        "id": "QOmaIBJGUjZw"
      },
      "source": [
        "Repare nas escalas dos eixos acima."
      ]
    },
    {
      "cell_type": "code",
      "metadata": {
        "id": "peSV-waKQJj6",
        "colab": {
          "base_uri": "https://localhost:8080/",
          "height": 306
        },
        "outputId": "30b4399f-cd49-4ff8-c977-1c105dcf0402"
      },
      "source": [
        "kmeans = KMeans(n_clusters=4)\n",
        "kmeans.fit(filmes_scaled)\n",
        "grupo = kmeans.predict(filmes_scaled)\n",
        "\n",
        "filmes_scaled_ag = filmes_scaled.assign(grupo = grupo, TITLE = filmes['TITLE'])\n",
        "filmes_agrupado = filmes.assign(grupo = grupo)\n",
        "\n",
        "print(filmes_scaled_ag.head())\n",
        "filmes_agrupado.head()"
      ],
      "execution_count": 16,
      "outputs": [
        {
          "output_type": "stream",
          "text": [
            "     rating  boxoffice  grupo                       TITLE\n",
            "0  0.738937   1.838964      3      Avengers: Infinity War\n",
            "1 -0.988057  -0.364673      2                 Rough Night\n",
            "2 -1.030179   0.029025      2          Ghost in the Shell\n",
            "3  0.191353   1.256444      3                        Sing\n",
            "4  0.991668   1.522890      3  Captain America: Civil War\n"
          ],
          "name": "stdout"
        },
        {
          "output_type": "execute_result",
          "data": {
            "text/html": [
              "<div>\n",
              "<style scoped>\n",
              "    .dataframe tbody tr th:only-of-type {\n",
              "        vertical-align: middle;\n",
              "    }\n",
              "\n",
              "    .dataframe tbody tr th {\n",
              "        vertical-align: top;\n",
              "    }\n",
              "\n",
              "    .dataframe thead th {\n",
              "        text-align: right;\n",
              "    }\n",
              "</style>\n",
              "<table border=\"1\" class=\"dataframe\">\n",
              "  <thead>\n",
              "    <tr style=\"text-align: right;\">\n",
              "      <th></th>\n",
              "      <th>RATING</th>\n",
              "      <th>TITLE</th>\n",
              "      <th>CREDIT</th>\n",
              "      <th>BOXOFFICE</th>\n",
              "      <th>YEAR</th>\n",
              "      <th>grupo</th>\n",
              "    </tr>\n",
              "  </thead>\n",
              "  <tbody>\n",
              "    <tr>\n",
              "      <th>0</th>\n",
              "      <td>85</td>\n",
              "      <td>Avengers: Infinity War</td>\n",
              "      <td>Natasha Romanoff/Black Widow</td>\n",
              "      <td>665.0</td>\n",
              "      <td>2018</td>\n",
              "      <td>3</td>\n",
              "    </tr>\n",
              "    <tr>\n",
              "      <th>1</th>\n",
              "      <td>44</td>\n",
              "      <td>Rough Night</td>\n",
              "      <td>Jess</td>\n",
              "      <td>22.1</td>\n",
              "      <td>2017</td>\n",
              "      <td>2</td>\n",
              "    </tr>\n",
              "    <tr>\n",
              "      <th>2</th>\n",
              "      <td>43</td>\n",
              "      <td>Ghost in the Shell</td>\n",
              "      <td>Major</td>\n",
              "      <td>40.6</td>\n",
              "      <td>2017</td>\n",
              "      <td>2</td>\n",
              "    </tr>\n",
              "    <tr>\n",
              "      <th>3</th>\n",
              "      <td>72</td>\n",
              "      <td>Sing</td>\n",
              "      <td>Ash</td>\n",
              "      <td>270.4</td>\n",
              "      <td>2016</td>\n",
              "      <td>3</td>\n",
              "    </tr>\n",
              "    <tr>\n",
              "      <th>4</th>\n",
              "      <td>91</td>\n",
              "      <td>Captain America: Civil War</td>\n",
              "      <td>Natasha Romanoff/Black Widow</td>\n",
              "      <td>408.1</td>\n",
              "      <td>2016</td>\n",
              "      <td>3</td>\n",
              "    </tr>\n",
              "  </tbody>\n",
              "</table>\n",
              "</div>"
            ],
            "text/plain": [
              "   RATING                       TITLE  ...  YEAR  grupo\n",
              "0      85      Avengers: Infinity War  ...  2018      3\n",
              "1      44                 Rough Night  ...  2017      2\n",
              "2      43          Ghost in the Shell  ...  2017      2\n",
              "3      72                        Sing  ...  2016      3\n",
              "4      91  Captain America: Civil War  ...  2016      3\n",
              "\n",
              "[5 rows x 6 columns]"
            ]
          },
          "metadata": {
            "tags": []
          },
          "execution_count": 16
        }
      ]
    },
    {
      "cell_type": "code",
      "metadata": {
        "id": "k8CERSn-TaoB",
        "colab": {
          "base_uri": "https://localhost:8080/",
          "height": 368
        },
        "outputId": "7f38e491-3281-492e-cd0a-bf38d335b86a"
      },
      "source": [
        "alt.Chart(filmes_scaled_ag).mark_circle(\n",
        "    size = 100, \n",
        "    stroke = 'black'\n",
        ").encode(\n",
        "    y = 'boxoffice',\n",
        "    x = 'rating',\n",
        "    color = 'grupo:N',\n",
        "    tooltip = ['TITLE', 'rating', 'boxoffice']\n",
        ").interactive()"
      ],
      "execution_count": 17,
      "outputs": [
        {
          "output_type": "execute_result",
          "data": {
            "text/plain": [
              "alt.Chart(...)"
            ],
            "text/html": [
              "\n",
              "<div id=\"altair-viz-ce58cafd12b842fb8e3d50ccaf2b3c48\"></div>\n",
              "<script type=\"text/javascript\">\n",
              "  (function(spec, embedOpt){\n",
              "    let outputDiv = document.currentScript.previousElementSibling;\n",
              "    if (outputDiv.id !== \"altair-viz-ce58cafd12b842fb8e3d50ccaf2b3c48\") {\n",
              "      outputDiv = document.getElementById(\"altair-viz-ce58cafd12b842fb8e3d50ccaf2b3c48\");\n",
              "    }\n",
              "    const paths = {\n",
              "      \"vega\": \"https://cdn.jsdelivr.net/npm//vega@5?noext\",\n",
              "      \"vega-lib\": \"https://cdn.jsdelivr.net/npm//vega-lib?noext\",\n",
              "      \"vega-lite\": \"https://cdn.jsdelivr.net/npm//vega-lite@4.8.1?noext\",\n",
              "      \"vega-embed\": \"https://cdn.jsdelivr.net/npm//vega-embed@6?noext\",\n",
              "    };\n",
              "\n",
              "    function loadScript(lib) {\n",
              "      return new Promise(function(resolve, reject) {\n",
              "        var s = document.createElement('script');\n",
              "        s.src = paths[lib];\n",
              "        s.async = true;\n",
              "        s.onload = () => resolve(paths[lib]);\n",
              "        s.onerror = () => reject(`Error loading script: ${paths[lib]}`);\n",
              "        document.getElementsByTagName(\"head\")[0].appendChild(s);\n",
              "      });\n",
              "    }\n",
              "\n",
              "    function showError(err) {\n",
              "      outputDiv.innerHTML = `<div class=\"error\" style=\"color:red;\">${err}</div>`;\n",
              "      throw err;\n",
              "    }\n",
              "\n",
              "    function displayChart(vegaEmbed) {\n",
              "      vegaEmbed(outputDiv, spec, embedOpt)\n",
              "        .catch(err => showError(`Javascript Error: ${err.message}<br>This usually means there's a typo in your chart specification. See the javascript console for the full traceback.`));\n",
              "    }\n",
              "\n",
              "    if(typeof define === \"function\" && define.amd) {\n",
              "      requirejs.config({paths});\n",
              "      require([\"vega-embed\"], displayChart, err => showError(`Error loading script: ${err.message}`));\n",
              "    } else if (typeof vegaEmbed === \"function\") {\n",
              "      displayChart(vegaEmbed);\n",
              "    } else {\n",
              "      loadScript(\"vega\")\n",
              "        .then(() => loadScript(\"vega-lite\"))\n",
              "        .then(() => loadScript(\"vega-embed\"))\n",
              "        .catch(showError)\n",
              "        .then(() => displayChart(vegaEmbed));\n",
              "    }\n",
              "  })({\"config\": {\"view\": {\"continuousWidth\": 400, \"continuousHeight\": 300}}, \"data\": {\"name\": \"data-8d5320e1f8e83d03bfa50699f179fc88\"}, \"mark\": {\"type\": \"circle\", \"size\": 100, \"stroke\": \"black\"}, \"encoding\": {\"color\": {\"type\": \"nominal\", \"field\": \"grupo\"}, \"tooltip\": [{\"type\": \"nominal\", \"field\": \"TITLE\"}, {\"type\": \"quantitative\", \"field\": \"rating\"}, {\"type\": \"quantitative\", \"field\": \"boxoffice\"}], \"x\": {\"type\": \"quantitative\", \"field\": \"rating\"}, \"y\": {\"type\": \"quantitative\", \"field\": \"boxoffice\"}}, \"selection\": {\"selector009\": {\"type\": \"interval\", \"bind\": \"scales\", \"encodings\": [\"x\", \"y\"]}}, \"$schema\": \"https://vega.github.io/schema/vega-lite/v4.8.1.json\", \"datasets\": {\"data-8d5320e1f8e83d03bfa50699f179fc88\": [{\"rating\": 0.7389367842136413, \"boxoffice\": 1.8389635848159636, \"grupo\": 3, \"TITLE\": \"Avengers: Infinity War\"}, {\"rating\": -0.9880571658622139, \"boxoffice\": -0.3646727828293302, \"grupo\": 2, \"TITLE\": \"Rough Night\"}, {\"rating\": -1.0301789695226007, \"boxoffice\": 0.02902526619149214, \"grupo\": 2, \"TITLE\": \"Ghost in the Shell\"}, {\"rating\": 0.19135333662861398, \"boxoffice\": 1.2564440062175688, \"grupo\": 3, \"TITLE\": \"Sing\"}, {\"rating\": 0.9916676061759615, \"boxoffice\": 1.5228901691620276, \"grupo\": 3, \"TITLE\": \"Captain America: Civil War\"}, {\"rating\": 1.1601548208175083, \"boxoffice\": 1.4488629159559265, \"grupo\": 3, \"TITLE\": \"The Jungle Book\"}, {\"rating\": 0.7810585878740279, \"boxoffice\": -0.21149782211139562, \"grupo\": 1, \"TITLE\": \"Hail, Caesar!\"}, {\"rating\": 0.31771874760977414, \"boxoffice\": 1.5555224159906047, \"grupo\": 3, \"TITLE\": \"Avengers: Age of Ultron\"}, {\"rating\": -0.01925568167331957, \"boxoffice\": 0.6659323741304014, \"grupo\": 1, \"TITLE\": \"Lucy\"}, {\"rating\": 0.8231803915344147, \"boxoffice\": -0.319426289328584, \"grupo\": 1, \"TITLE\": \"Chef\"}, {\"rating\": 0.9495458025155749, \"boxoffice\": 1.1480224175920957, \"grupo\": 3, \"TITLE\": \"Captain America: The Winter Soldier\"}, {\"rating\": 0.6968149805532545, \"boxoffice\": -1.801808994974052, \"grupo\": 0, \"TITLE\": \"Under the Skin\"}, {\"rating\": 1.1180330171571216, \"boxoffice\": -0.4975080517255852, \"grupo\": 1, \"TITLE\": \"Her\"}, {\"rating\": -0.31410830729602657, \"boxoffice\": -1.1979694862754893, \"grupo\": 0, \"TITLE\": \"Hitchcock\"}, {\"rating\": 1.202276624477895, \"boxoffice\": -2.15071593349463, \"grupo\": 0, \"TITLE\": \"Chasing Ice\"}, {\"rating\": 1.0337894098363483, \"boxoffice\": 1.7970432788595172, \"grupo\": 3, \"TITLE\": \"Marvel's The Avengers\"}, {\"rating\": -0.1456210926544797, \"boxoffice\": 0.4070304476504835, \"grupo\": 1, \"TITLE\": \"We Bought a Zoo\"}, {\"rating\": 0.2334751402890007, \"boxoffice\": 1.3492844762685035, \"grupo\": 3, \"TITLE\": \"Iron Man 2\"}, {\"rating\": -1.1565443805037607, \"boxoffice\": 0.5717844874500796, \"grupo\": 2, \"TITLE\": \"He's Just Not That Into You\"}, {\"rating\": -2.251711275673815, \"boxoffice\": -0.4358112076826862, \"grupo\": 2, \"TITLE\": \"The Spirit\"}, {\"rating\": 0.5704495695720944, \"boxoffice\": -0.3332290917698494, \"grupo\": 1, \"TITLE\": \"Vicky Cristina Barcelona\"}, {\"rating\": -1.0723007731829874, \"boxoffice\": -0.23744153467212614, \"grupo\": 2, \"TITLE\": \"The Other Boleyn Girl\"}, {\"rating\": -1.409275202466081, \"boxoffice\": -0.261964425734176, \"grupo\": 2, \"TITLE\": \"The Nanny Diaries\"}, {\"rating\": 0.35984055127016085, \"boxoffice\": 0.2039914697439731, \"grupo\": 1, \"TITLE\": \"The Prestige\"}, {\"rating\": -1.4513970061264678, \"boxoffice\": -0.3501905924874746, \"grupo\": 2, \"TITLE\": \"The Black Dahlia\"}, {\"rating\": -1.114422576843374, \"boxoffice\": -0.8464149902461631, \"grupo\": 2, \"TITLE\": \"Scoop\"}, {\"rating\": 0.35984055127016085, \"boxoffice\": -0.3332290917698494, \"grupo\": 1, \"TITLE\": \"Match Point\"}, {\"rating\": -1.1565443805037607, \"boxoffice\": -0.050615862525798305, \"grupo\": 2, \"TITLE\": \"The Island\"}, {\"rating\": 0.6125713732324811, \"boxoffice\": 0.10278445133923979, \"grupo\": 1, \"TITLE\": \"In Good Company\"}, {\"rating\": -2.167467668353042, \"boxoffice\": -0.8588639683095071, \"grupo\": 2, \"TITLE\": \"The Perfect Score\"}, {\"rating\": 0.19135333662861398, \"boxoffice\": -0.7819219133087447, \"grupo\": 0, \"TITLE\": \"Girl With a Pearl Earring\"}, {\"rating\": 1.1601548208175083, \"boxoffice\": 0.08985185210396726, \"grupo\": 1, \"TITLE\": \"Lost In Translation\"}, {\"rating\": -0.8195699512206671, \"boxoffice\": -0.5231844395216176, \"grupo\": 2, \"TITLE\": \"Eight Legged Freaks\"}, {\"rating\": 0.5704495695720944, \"boxoffice\": -1.0642225229798525, \"grupo\": 0, \"TITLE\": \"The Man Who Wasn't There\"}, {\"rating\": 1.0337894098363483, \"boxoffice\": -1.3667446117249251, \"grupo\": 0, \"TITLE\": \"Ghost World\"}]}}, {\"mode\": \"vega-lite\"});\n",
              "</script>"
            ]
          },
          "metadata": {
            "tags": []
          },
          "execution_count": 17
        }
      ]
    },
    {
      "cell_type": "code",
      "metadata": {
        "id": "E7tRt1crO8-5",
        "colab": {
          "base_uri": "https://localhost:8080/",
          "height": 368
        },
        "outputId": "54fe87a1-4361-4952-d81a-1996fd7aa9e1"
      },
      "source": [
        "alt.Chart(filmes_agrupado).mark_circle(\n",
        "    size = 100, \n",
        "    stroke = 'black'\n",
        ").encode(\n",
        "    y = alt.Y('BOXOFFICE', scale=alt.Scale(type='log')),\n",
        "    x = 'RATING',\n",
        "    color = 'grupo:N',\n",
        "    tooltip = ['TITLE', 'RATING', 'BOXOFFICE']\n",
        ").interactive()"
      ],
      "execution_count": 18,
      "outputs": [
        {
          "output_type": "execute_result",
          "data": {
            "text/plain": [
              "alt.Chart(...)"
            ],
            "text/html": [
              "\n",
              "<div id=\"altair-viz-4c7173a65b80405281845aef9a30c0bc\"></div>\n",
              "<script type=\"text/javascript\">\n",
              "  (function(spec, embedOpt){\n",
              "    let outputDiv = document.currentScript.previousElementSibling;\n",
              "    if (outputDiv.id !== \"altair-viz-4c7173a65b80405281845aef9a30c0bc\") {\n",
              "      outputDiv = document.getElementById(\"altair-viz-4c7173a65b80405281845aef9a30c0bc\");\n",
              "    }\n",
              "    const paths = {\n",
              "      \"vega\": \"https://cdn.jsdelivr.net/npm//vega@5?noext\",\n",
              "      \"vega-lib\": \"https://cdn.jsdelivr.net/npm//vega-lib?noext\",\n",
              "      \"vega-lite\": \"https://cdn.jsdelivr.net/npm//vega-lite@4.8.1?noext\",\n",
              "      \"vega-embed\": \"https://cdn.jsdelivr.net/npm//vega-embed@6?noext\",\n",
              "    };\n",
              "\n",
              "    function loadScript(lib) {\n",
              "      return new Promise(function(resolve, reject) {\n",
              "        var s = document.createElement('script');\n",
              "        s.src = paths[lib];\n",
              "        s.async = true;\n",
              "        s.onload = () => resolve(paths[lib]);\n",
              "        s.onerror = () => reject(`Error loading script: ${paths[lib]}`);\n",
              "        document.getElementsByTagName(\"head\")[0].appendChild(s);\n",
              "      });\n",
              "    }\n",
              "\n",
              "    function showError(err) {\n",
              "      outputDiv.innerHTML = `<div class=\"error\" style=\"color:red;\">${err}</div>`;\n",
              "      throw err;\n",
              "    }\n",
              "\n",
              "    function displayChart(vegaEmbed) {\n",
              "      vegaEmbed(outputDiv, spec, embedOpt)\n",
              "        .catch(err => showError(`Javascript Error: ${err.message}<br>This usually means there's a typo in your chart specification. See the javascript console for the full traceback.`));\n",
              "    }\n",
              "\n",
              "    if(typeof define === \"function\" && define.amd) {\n",
              "      requirejs.config({paths});\n",
              "      require([\"vega-embed\"], displayChart, err => showError(`Error loading script: ${err.message}`));\n",
              "    } else if (typeof vegaEmbed === \"function\") {\n",
              "      displayChart(vegaEmbed);\n",
              "    } else {\n",
              "      loadScript(\"vega\")\n",
              "        .then(() => loadScript(\"vega-lite\"))\n",
              "        .then(() => loadScript(\"vega-embed\"))\n",
              "        .catch(showError)\n",
              "        .then(() => displayChart(vegaEmbed));\n",
              "    }\n",
              "  })({\"config\": {\"view\": {\"continuousWidth\": 400, \"continuousHeight\": 300}}, \"data\": {\"name\": \"data-2e891584eb62b3d4b34b7d981b5f6633\"}, \"mark\": {\"type\": \"circle\", \"size\": 100, \"stroke\": \"black\"}, \"encoding\": {\"color\": {\"type\": \"nominal\", \"field\": \"grupo\"}, \"tooltip\": [{\"type\": \"nominal\", \"field\": \"TITLE\"}, {\"type\": \"quantitative\", \"field\": \"RATING\"}, {\"type\": \"quantitative\", \"field\": \"BOXOFFICE\"}], \"x\": {\"type\": \"quantitative\", \"field\": \"RATING\"}, \"y\": {\"type\": \"quantitative\", \"field\": \"BOXOFFICE\", \"scale\": {\"type\": \"log\"}}}, \"selection\": {\"selector010\": {\"type\": \"interval\", \"bind\": \"scales\", \"encodings\": [\"x\", \"y\"]}}, \"$schema\": \"https://vega.github.io/schema/vega-lite/v4.8.1.json\", \"datasets\": {\"data-2e891584eb62b3d4b34b7d981b5f6633\": [{\"RATING\": 85, \"TITLE\": \"Avengers: Infinity War\", \"CREDIT\": \"Natasha Romanoff/Black Widow\", \"BOXOFFICE\": 665.0, \"YEAR\": 2018, \"grupo\": 3}, {\"RATING\": 44, \"TITLE\": \"Rough Night\", \"CREDIT\": \"Jess\", \"BOXOFFICE\": 22.1, \"YEAR\": 2017, \"grupo\": 2}, {\"RATING\": 43, \"TITLE\": \"Ghost in the Shell\", \"CREDIT\": \"Major\", \"BOXOFFICE\": 40.6, \"YEAR\": 2017, \"grupo\": 2}, {\"RATING\": 72, \"TITLE\": \"Sing\", \"CREDIT\": \"Ash\", \"BOXOFFICE\": 270.4, \"YEAR\": 2016, \"grupo\": 3}, {\"RATING\": 91, \"TITLE\": \"Captain America: Civil War\", \"CREDIT\": \"Natasha Romanoff/Black Widow\", \"BOXOFFICE\": 408.1, \"YEAR\": 2016, \"grupo\": 3}, {\"RATING\": 95, \"TITLE\": \"The Jungle Book\", \"CREDIT\": \"Kaa\", \"BOXOFFICE\": 364.0, \"YEAR\": 2016, \"grupo\": 3}, {\"RATING\": 86, \"TITLE\": \"Hail, Caesar!\", \"CREDIT\": \"DeeAnna Moran\", \"BOXOFFICE\": 28.0, \"YEAR\": 2016, \"grupo\": 1}, {\"RATING\": 75, \"TITLE\": \"Avengers: Age of Ultron\", \"CREDIT\": \"Natasha Romanoff/Black Widow\", \"BOXOFFICE\": 429.2, \"YEAR\": 2015, \"grupo\": 3}, {\"RATING\": 67, \"TITLE\": \"Lucy\", \"CREDIT\": \"Lucy\", \"BOXOFFICE\": 108.6, \"YEAR\": 2014, \"grupo\": 1}, {\"RATING\": 87, \"TITLE\": \"Chef\", \"CREDIT\": \"Molly\", \"BOXOFFICE\": 23.7, \"YEAR\": 2014, \"grupo\": 1}, {\"RATING\": 90, \"TITLE\": \"Captain America: The Winter Soldier\", \"CREDIT\": \"Natasha Romanoff/Black Widow\", \"BOXOFFICE\": 228.7, \"YEAR\": 2014, \"grupo\": 3}, {\"RATING\": 84, \"TITLE\": \"Under the Skin\", \"CREDIT\": \"Laura\", \"BOXOFFICE\": 2.4, \"YEAR\": 2014, \"grupo\": 0}, {\"RATING\": 94, \"TITLE\": \"Her\", \"CREDIT\": \"Samantha\", \"BOXOFFICE\": 18.0, \"YEAR\": 2013, \"grupo\": 1}, {\"RATING\": 60, \"TITLE\": \"Hitchcock\", \"CREDIT\": \"Janet Leigh\", \"BOXOFFICE\": 6.1, \"YEAR\": 2012, \"grupo\": 0}, {\"RATING\": 96, \"TITLE\": \"Chasing Ice\", \"CREDIT\": \"Actor\", \"BOXOFFICE\": 1.4, \"YEAR\": 2012, \"grupo\": 0}, {\"RATING\": 92, \"TITLE\": \"Marvel's The Avengers\", \"CREDIT\": \"Natasha Romanoff/Black Widow\", \"BOXOFFICE\": 623.3, \"YEAR\": 2012, \"grupo\": 3}, {\"RATING\": 64, \"TITLE\": \"We Bought a Zoo\", \"CREDIT\": \"Kelly Foster\", \"BOXOFFICE\": 72.8, \"YEAR\": 2011, \"grupo\": 1}, {\"RATING\": 73, \"TITLE\": \"Iron Man 2\", \"CREDIT\": \"Natalie Rushman/Black Widow\", \"BOXOFFICE\": 312.1, \"YEAR\": 2010, \"grupo\": 3}, {\"RATING\": 40, \"TITLE\": \"He's Just Not That Into You\", \"CREDIT\": \"Anna\", \"BOXOFFICE\": 93.9, \"YEAR\": 2009, \"grupo\": 2}, {\"RATING\": 14, \"TITLE\": \"The Spirit\", \"CREDIT\": \"Silken Floss\", \"BOXOFFICE\": 19.8, \"YEAR\": 2008, \"grupo\": 2}, {\"RATING\": 81, \"TITLE\": \"Vicky Cristina Barcelona\", \"CREDIT\": \"Cristina\", \"BOXOFFICE\": 23.2, \"YEAR\": 2008, \"grupo\": 1}, {\"RATING\": 42, \"TITLE\": \"The Other Boleyn Girl\", \"CREDIT\": \"Mary Boleyn\", \"BOXOFFICE\": 26.9, \"YEAR\": 2008, \"grupo\": 2}, {\"RATING\": 34, \"TITLE\": \"The Nanny Diaries\", \"CREDIT\": \"Annie Braddock\", \"BOXOFFICE\": 25.9, \"YEAR\": 2007, \"grupo\": 2}, {\"RATING\": 76, \"TITLE\": \"The Prestige\", \"CREDIT\": \"Olivia Wenscombe\", \"BOXOFFICE\": 53.2, \"YEAR\": 2006, \"grupo\": 1}, {\"RATING\": 33, \"TITLE\": \"The Black Dahlia\", \"CREDIT\": \"Kay Lake\", \"BOXOFFICE\": 22.6, \"YEAR\": 2006, \"grupo\": 2}, {\"RATING\": 41, \"TITLE\": \"Scoop\", \"CREDIT\": \"Sondra Pransky\", \"BOXOFFICE\": 10.5, \"YEAR\": 2006, \"grupo\": 2}, {\"RATING\": 76, \"TITLE\": \"Match Point\", \"CREDIT\": \"Nola Rice\", \"BOXOFFICE\": 23.2, \"YEAR\": 2005, \"grupo\": 1}, {\"RATING\": 40, \"TITLE\": \"The Island\", \"CREDIT\": \"Jordan Two Delta/Sarah Jordan\", \"BOXOFFICE\": 35.9, \"YEAR\": 2005, \"grupo\": 2}, {\"RATING\": 82, \"TITLE\": \"In Good Company\", \"CREDIT\": \"Alex Foreman\", \"BOXOFFICE\": 45.5, \"YEAR\": 2004, \"grupo\": 1}, {\"RATING\": 16, \"TITLE\": \"The Perfect Score\", \"CREDIT\": \"Francesca\", \"BOXOFFICE\": 10.3, \"YEAR\": 2004, \"grupo\": 2}, {\"RATING\": 72, \"TITLE\": \"Girl With a Pearl Earring\", \"CREDIT\": \"Griet\", \"BOXOFFICE\": 11.6, \"YEAR\": 2004, \"grupo\": 0}, {\"RATING\": 95, \"TITLE\": \"Lost In Translation\", \"CREDIT\": \"Charlotte\", \"BOXOFFICE\": 44.6, \"YEAR\": 2003, \"grupo\": 1}, {\"RATING\": 48, \"TITLE\": \"Eight Legged Freaks\", \"CREDIT\": \"Ashley Parker\", \"BOXOFFICE\": 17.3, \"YEAR\": 2002, \"grupo\": 2}, {\"RATING\": 81, \"TITLE\": \"The Man Who Wasn't There\", \"CREDIT\": \"Birdy Abundas\", \"BOXOFFICE\": 7.5, \"YEAR\": 2001, \"grupo\": 0}, {\"RATING\": 92, \"TITLE\": \"Ghost World\", \"CREDIT\": \"Rebecca\", \"BOXOFFICE\": 4.7, \"YEAR\": 2001, \"grupo\": 0}]}}, {\"mode\": \"vega-lite\"});\n",
              "</script>"
            ]
          },
          "metadata": {
            "tags": []
          },
          "execution_count": 18
        }
      ]
    },
    {
      "cell_type": "markdown",
      "metadata": {
        "id": "sIt1wlNPVDCl"
      },
      "source": [
        "\n",
        "---\n",
        "\n",
        "## Variando o número de grupos a encontrar\n",
        "\n"
      ]
    },
    {
      "cell_type": "code",
      "metadata": {
        "id": "gXe7S4pdVOkI",
        "cellView": "form",
        "colab": {
          "base_uri": "https://localhost:8080/",
          "height": 368
        },
        "outputId": "eb6e4866-c3b9-4c3c-ede0-f29e4ef64858"
      },
      "source": [
        "#@title Grupos a encontrar: k\n",
        "k = 9 #@param {type:\"slider\", min:1, max:10, step:1}\n",
        "\n",
        "kmeans = KMeans(n_clusters=k, n_init=50)\n",
        "kmeans.fit(filmes_scaled)\n",
        "grupo = kmeans.predict(filmes_scaled)\n",
        "\n",
        "filmes_scaled_ag = filmes_scaled.assign(grupo = grupo, TITLE = filmes['TITLE'])\n",
        "\n",
        "alt.Chart(filmes_scaled_ag).mark_circle(\n",
        "    size = 120, \n",
        "    opacity = 1\n",
        ").encode(\n",
        "    y = 'boxoffice',\n",
        "    x = 'rating',\n",
        "    color = 'grupo:N',\n",
        "    tooltip = ['TITLE', 'rating', 'boxoffice']\n",
        ").interactive()"
      ],
      "execution_count": 19,
      "outputs": [
        {
          "output_type": "execute_result",
          "data": {
            "text/plain": [
              "alt.Chart(...)"
            ],
            "text/html": [
              "\n",
              "<div id=\"altair-viz-42b072dc34454fb8b83290fbaef1e788\"></div>\n",
              "<script type=\"text/javascript\">\n",
              "  (function(spec, embedOpt){\n",
              "    let outputDiv = document.currentScript.previousElementSibling;\n",
              "    if (outputDiv.id !== \"altair-viz-42b072dc34454fb8b83290fbaef1e788\") {\n",
              "      outputDiv = document.getElementById(\"altair-viz-42b072dc34454fb8b83290fbaef1e788\");\n",
              "    }\n",
              "    const paths = {\n",
              "      \"vega\": \"https://cdn.jsdelivr.net/npm//vega@5?noext\",\n",
              "      \"vega-lib\": \"https://cdn.jsdelivr.net/npm//vega-lib?noext\",\n",
              "      \"vega-lite\": \"https://cdn.jsdelivr.net/npm//vega-lite@4.8.1?noext\",\n",
              "      \"vega-embed\": \"https://cdn.jsdelivr.net/npm//vega-embed@6?noext\",\n",
              "    };\n",
              "\n",
              "    function loadScript(lib) {\n",
              "      return new Promise(function(resolve, reject) {\n",
              "        var s = document.createElement('script');\n",
              "        s.src = paths[lib];\n",
              "        s.async = true;\n",
              "        s.onload = () => resolve(paths[lib]);\n",
              "        s.onerror = () => reject(`Error loading script: ${paths[lib]}`);\n",
              "        document.getElementsByTagName(\"head\")[0].appendChild(s);\n",
              "      });\n",
              "    }\n",
              "\n",
              "    function showError(err) {\n",
              "      outputDiv.innerHTML = `<div class=\"error\" style=\"color:red;\">${err}</div>`;\n",
              "      throw err;\n",
              "    }\n",
              "\n",
              "    function displayChart(vegaEmbed) {\n",
              "      vegaEmbed(outputDiv, spec, embedOpt)\n",
              "        .catch(err => showError(`Javascript Error: ${err.message}<br>This usually means there's a typo in your chart specification. See the javascript console for the full traceback.`));\n",
              "    }\n",
              "\n",
              "    if(typeof define === \"function\" && define.amd) {\n",
              "      requirejs.config({paths});\n",
              "      require([\"vega-embed\"], displayChart, err => showError(`Error loading script: ${err.message}`));\n",
              "    } else if (typeof vegaEmbed === \"function\") {\n",
              "      displayChart(vegaEmbed);\n",
              "    } else {\n",
              "      loadScript(\"vega\")\n",
              "        .then(() => loadScript(\"vega-lite\"))\n",
              "        .then(() => loadScript(\"vega-embed\"))\n",
              "        .catch(showError)\n",
              "        .then(() => displayChart(vegaEmbed));\n",
              "    }\n",
              "  })({\"config\": {\"view\": {\"continuousWidth\": 400, \"continuousHeight\": 300}}, \"data\": {\"name\": \"data-9736b213b51a7045a1879806525a6f48\"}, \"mark\": {\"type\": \"circle\", \"opacity\": 1, \"size\": 120}, \"encoding\": {\"color\": {\"type\": \"nominal\", \"field\": \"grupo\"}, \"tooltip\": [{\"type\": \"nominal\", \"field\": \"TITLE\"}, {\"type\": \"quantitative\", \"field\": \"rating\"}, {\"type\": \"quantitative\", \"field\": \"boxoffice\"}], \"x\": {\"type\": \"quantitative\", \"field\": \"rating\"}, \"y\": {\"type\": \"quantitative\", \"field\": \"boxoffice\"}}, \"selection\": {\"selector011\": {\"type\": \"interval\", \"bind\": \"scales\", \"encodings\": [\"x\", \"y\"]}}, \"$schema\": \"https://vega.github.io/schema/vega-lite/v4.8.1.json\", \"datasets\": {\"data-9736b213b51a7045a1879806525a6f48\": [{\"rating\": 0.7389367842136413, \"boxoffice\": 1.8389635848159636, \"grupo\": 2, \"TITLE\": \"Avengers: Infinity War\"}, {\"rating\": -0.9880571658622139, \"boxoffice\": -0.3646727828293302, \"grupo\": 0, \"TITLE\": \"Rough Night\"}, {\"rating\": -1.0301789695226007, \"boxoffice\": 0.02902526619149214, \"grupo\": 0, \"TITLE\": \"Ghost in the Shell\"}, {\"rating\": 0.19135333662861398, \"boxoffice\": 1.2564440062175688, \"grupo\": 6, \"TITLE\": \"Sing\"}, {\"rating\": 0.9916676061759615, \"boxoffice\": 1.5228901691620276, \"grupo\": 2, \"TITLE\": \"Captain America: Civil War\"}, {\"rating\": 1.1601548208175083, \"boxoffice\": 1.4488629159559265, \"grupo\": 2, \"TITLE\": \"The Jungle Book\"}, {\"rating\": 0.7810585878740279, \"boxoffice\": -0.21149782211139562, \"grupo\": 1, \"TITLE\": \"Hail, Caesar!\"}, {\"rating\": 0.31771874760977414, \"boxoffice\": 1.5555224159906047, \"grupo\": 6, \"TITLE\": \"Avengers: Age of Ultron\"}, {\"rating\": -0.01925568167331957, \"boxoffice\": 0.6659323741304014, \"grupo\": 4, \"TITLE\": \"Lucy\"}, {\"rating\": 0.8231803915344147, \"boxoffice\": -0.319426289328584, \"grupo\": 1, \"TITLE\": \"Chef\"}, {\"rating\": 0.9495458025155749, \"boxoffice\": 1.1480224175920957, \"grupo\": 2, \"TITLE\": \"Captain America: The Winter Soldier\"}, {\"rating\": 0.6968149805532545, \"boxoffice\": -1.801808994974052, \"grupo\": 7, \"TITLE\": \"Under the Skin\"}, {\"rating\": 1.1180330171571216, \"boxoffice\": -0.4975080517255852, \"grupo\": 1, \"TITLE\": \"Her\"}, {\"rating\": -0.31410830729602657, \"boxoffice\": -1.1979694862754893, \"grupo\": 3, \"TITLE\": \"Hitchcock\"}, {\"rating\": 1.202276624477895, \"boxoffice\": -2.15071593349463, \"grupo\": 7, \"TITLE\": \"Chasing Ice\"}, {\"rating\": 1.0337894098363483, \"boxoffice\": 1.7970432788595172, \"grupo\": 2, \"TITLE\": \"Marvel's The Avengers\"}, {\"rating\": -0.1456210926544797, \"boxoffice\": 0.4070304476504835, \"grupo\": 4, \"TITLE\": \"We Bought a Zoo\"}, {\"rating\": 0.2334751402890007, \"boxoffice\": 1.3492844762685035, \"grupo\": 6, \"TITLE\": \"Iron Man 2\"}, {\"rating\": -1.1565443805037607, \"boxoffice\": 0.5717844874500796, \"grupo\": 8, \"TITLE\": \"He's Just Not That Into You\"}, {\"rating\": -2.251711275673815, \"boxoffice\": -0.4358112076826862, \"grupo\": 5, \"TITLE\": \"The Spirit\"}, {\"rating\": 0.5704495695720944, \"boxoffice\": -0.3332290917698494, \"grupo\": 1, \"TITLE\": \"Vicky Cristina Barcelona\"}, {\"rating\": -1.0723007731829874, \"boxoffice\": -0.23744153467212614, \"grupo\": 0, \"TITLE\": \"The Other Boleyn Girl\"}, {\"rating\": -1.409275202466081, \"boxoffice\": -0.261964425734176, \"grupo\": 0, \"TITLE\": \"The Nanny Diaries\"}, {\"rating\": 0.35984055127016085, \"boxoffice\": 0.2039914697439731, \"grupo\": 4, \"TITLE\": \"The Prestige\"}, {\"rating\": -1.4513970061264678, \"boxoffice\": -0.3501905924874746, \"grupo\": 0, \"TITLE\": \"The Black Dahlia\"}, {\"rating\": -1.114422576843374, \"boxoffice\": -0.8464149902461631, \"grupo\": 0, \"TITLE\": \"Scoop\"}, {\"rating\": 0.35984055127016085, \"boxoffice\": -0.3332290917698494, \"grupo\": 1, \"TITLE\": \"Match Point\"}, {\"rating\": -1.1565443805037607, \"boxoffice\": -0.050615862525798305, \"grupo\": 0, \"TITLE\": \"The Island\"}, {\"rating\": 0.6125713732324811, \"boxoffice\": 0.10278445133923979, \"grupo\": 1, \"TITLE\": \"In Good Company\"}, {\"rating\": -2.167467668353042, \"boxoffice\": -0.8588639683095071, \"grupo\": 5, \"TITLE\": \"The Perfect Score\"}, {\"rating\": 0.19135333662861398, \"boxoffice\": -0.7819219133087447, \"grupo\": 3, \"TITLE\": \"Girl With a Pearl Earring\"}, {\"rating\": 1.1601548208175083, \"boxoffice\": 0.08985185210396726, \"grupo\": 1, \"TITLE\": \"Lost In Translation\"}, {\"rating\": -0.8195699512206671, \"boxoffice\": -0.5231844395216176, \"grupo\": 0, \"TITLE\": \"Eight Legged Freaks\"}, {\"rating\": 0.5704495695720944, \"boxoffice\": -1.0642225229798525, \"grupo\": 3, \"TITLE\": \"The Man Who Wasn't There\"}, {\"rating\": 1.0337894098363483, \"boxoffice\": -1.3667446117249251, \"grupo\": 7, \"TITLE\": \"Ghost World\"}]}}, {\"mode\": \"vega-lite\"});\n",
              "</script>"
            ]
          },
          "metadata": {
            "tags": []
          },
          "execution_count": 19
        }
      ]
    },
    {
      "cell_type": "code",
      "metadata": {
        "id": "qVFtlVxZXs7_",
        "cellView": "form",
        "colab": {
          "base_uri": "https://localhost:8080/",
          "height": 368
        },
        "outputId": "95d09bed-e6ce-4e0f-d3db-6078e1ca56be"
      },
      "source": [
        "#@title Grupos a encontrar: k\n",
        "k = 9 #@param {type:\"slider\", min:1, max:10, step:1}\n",
        "\n",
        "kmeans = KMeans(n_clusters=4)\n",
        "\n",
        "kmeans = KMeans(n_clusters=k, n_init=50)\n",
        "kmeans.fit(df_ex)\n",
        "grupo = kmeans.predict(df_ex)\n",
        "\n",
        "df_agrupado = df_ex.assign(grupo = grupo)\n",
        "\n",
        "alt.Chart(df_agrupado).mark_circle(\n",
        "    size = 120, \n",
        "    opacity = .8\n",
        ").encode(\n",
        "    y = 'y',\n",
        "    x = 'x',\n",
        "    color = 'grupo:N'\n",
        ")"
      ],
      "execution_count": 20,
      "outputs": [
        {
          "output_type": "execute_result",
          "data": {
            "text/plain": [
              "alt.Chart(...)"
            ],
            "text/html": [
              "\n",
              "<div id=\"altair-viz-1923d965184b473785cc38bd3a115e1e\"></div>\n",
              "<script type=\"text/javascript\">\n",
              "  (function(spec, embedOpt){\n",
              "    let outputDiv = document.currentScript.previousElementSibling;\n",
              "    if (outputDiv.id !== \"altair-viz-1923d965184b473785cc38bd3a115e1e\") {\n",
              "      outputDiv = document.getElementById(\"altair-viz-1923d965184b473785cc38bd3a115e1e\");\n",
              "    }\n",
              "    const paths = {\n",
              "      \"vega\": \"https://cdn.jsdelivr.net/npm//vega@5?noext\",\n",
              "      \"vega-lib\": \"https://cdn.jsdelivr.net/npm//vega-lib?noext\",\n",
              "      \"vega-lite\": \"https://cdn.jsdelivr.net/npm//vega-lite@4.8.1?noext\",\n",
              "      \"vega-embed\": \"https://cdn.jsdelivr.net/npm//vega-embed@6?noext\",\n",
              "    };\n",
              "\n",
              "    function loadScript(lib) {\n",
              "      return new Promise(function(resolve, reject) {\n",
              "        var s = document.createElement('script');\n",
              "        s.src = paths[lib];\n",
              "        s.async = true;\n",
              "        s.onload = () => resolve(paths[lib]);\n",
              "        s.onerror = () => reject(`Error loading script: ${paths[lib]}`);\n",
              "        document.getElementsByTagName(\"head\")[0].appendChild(s);\n",
              "      });\n",
              "    }\n",
              "\n",
              "    function showError(err) {\n",
              "      outputDiv.innerHTML = `<div class=\"error\" style=\"color:red;\">${err}</div>`;\n",
              "      throw err;\n",
              "    }\n",
              "\n",
              "    function displayChart(vegaEmbed) {\n",
              "      vegaEmbed(outputDiv, spec, embedOpt)\n",
              "        .catch(err => showError(`Javascript Error: ${err.message}<br>This usually means there's a typo in your chart specification. See the javascript console for the full traceback.`));\n",
              "    }\n",
              "\n",
              "    if(typeof define === \"function\" && define.amd) {\n",
              "      requirejs.config({paths});\n",
              "      require([\"vega-embed\"], displayChart, err => showError(`Error loading script: ${err.message}`));\n",
              "    } else if (typeof vegaEmbed === \"function\") {\n",
              "      displayChart(vegaEmbed);\n",
              "    } else {\n",
              "      loadScript(\"vega\")\n",
              "        .then(() => loadScript(\"vega-lite\"))\n",
              "        .then(() => loadScript(\"vega-embed\"))\n",
              "        .catch(showError)\n",
              "        .then(() => displayChart(vegaEmbed));\n",
              "    }\n",
              "  })({\"config\": {\"view\": {\"continuousWidth\": 400, \"continuousHeight\": 300}}, \"data\": {\"name\": \"data-0785c6f24984eaf3376e8999663f8d7a\"}, \"mark\": {\"type\": \"circle\", \"opacity\": 0.8, \"size\": 120}, \"encoding\": {\"color\": {\"type\": \"nominal\", \"field\": \"grupo\"}, \"x\": {\"type\": \"quantitative\", \"field\": \"x\"}, \"y\": {\"type\": \"quantitative\", \"field\": \"y\"}}, \"$schema\": \"https://vega.github.io/schema/vega-lite/v4.8.1.json\", \"datasets\": {\"data-0785c6f24984eaf3376e8999663f8d7a\": [{\"x\": 0.8368568407639814, \"y\": 2.1363593767535285, \"grupo\": 1}, {\"x\": -1.4136580954824844, \"y\": 7.409623236133461, \"grupo\": 4}, {\"x\": 1.1552129830701285, \"y\": 5.0996188654606085, \"grupo\": 0}, {\"x\": -1.0186163167387894, \"y\": 7.814914647322421, \"grupo\": 2}, {\"x\": 1.2713514103916879, \"y\": 1.8925420677088496, \"grupo\": 1}, {\"x\": 3.437617540043243, \"y\": 0.2616541663050085, \"grupo\": 5}, {\"x\": -1.8082225260019826, \"y\": 1.597017490032788, \"grupo\": 3}, {\"x\": 1.4137244158530171, \"y\": 4.381177073902836, \"grupo\": 6}, {\"x\": -0.20493216827344374, \"y\": 8.432096650430893, \"grupo\": 2}, {\"x\": -0.7110996110121923, \"y\": 8.660438455477388, \"grupo\": 2}, {\"x\": -1.7123726800849306, \"y\": 2.7778022644069074, \"grupo\": 3}, {\"x\": -2.6700079178821117, \"y\": 8.353891395940183, \"grupo\": 4}, {\"x\": 1.2425880181937505, \"y\": 4.50399192387295, \"grupo\": 0}, {\"x\": -2.2278364904868475, \"y\": 6.894799381056522, \"grupo\": 4}, {\"x\": 1.455138312999139, \"y\": -0.029198998128630027, \"grupo\": 8}, {\"x\": 0.45379178903736606, \"y\": 3.956477528589741, \"grupo\": 6}, {\"x\": 1.0692385339646449, \"y\": 4.530684839209695, \"grupo\": 0}, {\"x\": 2.5693658885744926, \"y\": 0.5070483039578487, \"grupo\": 5}, {\"x\": -1.0669061042348538, \"y\": 3.131657951816496, \"grupo\": 7}, {\"x\": -1.0785910126991263, \"y\": 2.204515288210881, \"grupo\": 7}, {\"x\": 2.715063278965146, \"y\": 1.2908218983714956, \"grupo\": 5}, {\"x\": 1.7771099366452214, \"y\": 1.1865525442020142, \"grupo\": 1}, {\"x\": 0.7343639103625873, \"y\": 5.0372543696778465, \"grupo\": 0}, {\"x\": -1.9964815067184205, \"y\": 2.85164868191699, \"grupo\": 3}, {\"x\": -1.9182801731829169, \"y\": 2.6051686739524564, \"grupo\": 3}, {\"x\": -0.5555238109539522, \"y\": 4.695958484712606, \"grupo\": 0}, {\"x\": 1.6974790983625732, \"y\": 0.866123282176209, \"grupo\": 1}, {\"x\": 0.5947624315191664, \"y\": 4.70964730441629, \"grupo\": 0}, {\"x\": -2.880242550863219, \"y\": 2.3043781551517606, \"grupo\": 3}, {\"x\": 0.18672563223958238, \"y\": 4.026836564559565, \"grupo\": 6}, {\"x\": -0.5133334362299544, \"y\": 7.87437367944774, \"grupo\": 2}, {\"x\": -2.0570110283236227, \"y\": 7.3785159826876585, \"grupo\": 4}, {\"x\": 1.8727175224410586, \"y\": 4.180692369188909, \"grupo\": 6}, {\"x\": -1.1312139564553216, \"y\": 6.766522302218239, \"grupo\": 4}, {\"x\": -1.6442895668266, \"y\": 7.940951387619211, \"grupo\": 4}, {\"x\": -2.419338235635111, \"y\": 7.439524977803895, \"grupo\": 4}, {\"x\": -2.016069278668694, \"y\": 7.48420129307493, \"grupo\": 4}, {\"x\": -2.6214277987548673, \"y\": 7.986350664654516, \"grupo\": 4}, {\"x\": -2.2029994984759513, \"y\": 2.479475609614228, \"grupo\": 3}, {\"x\": 1.663822372000666, \"y\": 0.6630916348253761, \"grupo\": 1}, {\"x\": 0.6697869960051712, \"y\": 3.5954080169749427, \"grupo\": 6}, {\"x\": -1.9853903675657711, \"y\": 2.0552073770521755, \"grupo\": 3}, {\"x\": -0.04749203582851247, \"y\": 5.474252564587464, \"grupo\": 0}, {\"x\": 1.5446212592107438, \"y\": 4.2107812715938895, \"grupo\": 6}, {\"x\": -1.702006430870623, \"y\": 2.460986934246149, \"grupo\": 3}, {\"x\": -1.0219252547777236, \"y\": 2.7682071132365533, \"grupo\": 7}, {\"x\": -1.3784255167081396, \"y\": 8.102695966178473, \"grupo\": 2}, {\"x\": -1.5522068839962528, \"y\": 2.745749945899178, \"grupo\": 7}, {\"x\": -1.479043028631661, \"y\": 7.569158359748475, \"grupo\": 4}, {\"x\": 1.9889431270933944, \"y\": 1.5097672869674166, \"grupo\": 1}, {\"x\": -1.9497241787356456, \"y\": 3.4838386963148196, \"grupo\": 3}, {\"x\": 2.4550973706520267, \"y\": 0.6212317875048049, \"grupo\": 5}, {\"x\": -0.8943278823054386, \"y\": 7.61714472965912, \"grupo\": 2}, {\"x\": 1.6968778800536604, \"y\": 0.7549106220963326, \"grupo\": 1}, {\"x\": 1.756448051017495, \"y\": 2.0553828922281285, \"grupo\": 1}, {\"x\": -1.1106401216078259, \"y\": 2.8221381984453626, \"grupo\": 7}, {\"x\": -0.04150176586826815, \"y\": 7.80870275976808, \"grupo\": 2}, {\"x\": -1.1409153341841487, \"y\": 1.975508216153051, \"grupo\": 7}, {\"x\": -1.806349676260743, \"y\": 7.728306560389196, \"grupo\": 4}, {\"x\": 1.3926375177758077, \"y\": 0.9289627074945215, \"grupo\": 1}, {\"x\": -2.25698670404281, \"y\": 7.302077200784324, \"grupo\": 4}, {\"x\": 0.5716704821520695, \"y\": 4.322885662413, \"grupo\": 6}, {\"x\": -1.549945795131673, \"y\": 9.282932223367844, \"grupo\": 2}, {\"x\": -1.0381921197291857, \"y\": 2.953237614842101, \"grupo\": 7}, {\"x\": -2.109566755488596, \"y\": 3.1067725840426172, \"grupo\": 3}, {\"x\": -1.1865298465103038, \"y\": 2.78427720102403, \"grupo\": 7}, {\"x\": -2.4580997514260066, \"y\": 7.511787235616893, \"grupo\": 4}, {\"x\": 2.3696021357334014, \"y\": 0.9507169121647336, \"grupo\": 5}, {\"x\": -2.666760065030858, \"y\": 7.84766052466474, \"grupo\": 4}, {\"x\": -1.497207024231851, \"y\": 3.2141843271016968, \"grupo\": 7}, {\"x\": 1.3222245685154597, \"y\": 4.178808074101593, \"grupo\": 6}, {\"x\": -0.4872713010704255, \"y\": 3.328582925448637, \"grupo\": 7}, {\"x\": -1.0371877083373353, \"y\": 8.063001335762946, \"grupo\": 2}, {\"x\": -1.6049681857381277, \"y\": 2.974254198964464, \"grupo\": 7}, {\"x\": -1.5037256821177925, \"y\": 1.9238531999399506, \"grupo\": 3}, {\"x\": -0.785412205540043, \"y\": 8.453123312911254, \"grupo\": 2}, {\"x\": -1.7578318987306707, \"y\": 2.9744932149233674, \"grupo\": 3}, {\"x\": 1.1900899168511363, \"y\": 4.727731228363559, \"grupo\": 0}, {\"x\": 2.1404394194253458, \"y\": 0.7060666096508798, \"grupo\": 5}, {\"x\": -1.0354011588782195, \"y\": 8.205591948277561, \"grupo\": 2}, {\"x\": 1.254712438591226, \"y\": 0.08963315645940362, \"grupo\": 8}, {\"x\": 0.595676822337917, \"y\": 4.086142627856107, \"grupo\": 6}, {\"x\": 1.2795533755988089, \"y\": 1.0578941815474465, \"grupo\": 1}, {\"x\": 1.7295506358228474, \"y\": 1.1472936876947921, \"grupo\": 1}, {\"x\": -0.9490416098002538, \"y\": 8.464243309222425, \"grupo\": 2}, {\"x\": 0.9353251153517164, \"y\": 5.33179296043801, \"grupo\": 0}, {\"x\": 2.36923351775193, \"y\": 0.794735861204588, \"grupo\": 5}, {\"x\": 0.42857674327999995, \"y\": 4.973997100305902, \"grupo\": 0}, {\"x\": -2.0475827675028513, \"y\": 6.654285201769982, \"grupo\": 4}, {\"x\": -1.4567261662452882, \"y\": 7.486698929525399, \"grupo\": 4}, {\"x\": 0.5294171853174312, \"y\": 3.8079242042529815, \"grupo\": 6}, {\"x\": 1.781948019322472, \"y\": 0.9081511553529709, \"grupo\": 1}, {\"x\": -1.955750533128763, \"y\": 8.61631685864045, \"grupo\": 4}, {\"x\": -1.7457201398569167, \"y\": 3.0119045744965414, \"grupo\": 3}, {\"x\": -1.1797911145845783, \"y\": 3.127674935529027, \"grupo\": 7}, {\"x\": 1.1641106995370358, \"y\": 3.791329883867355, \"grupo\": 6}, {\"x\": 1.3615580623397303, \"y\": 1.3663825209639329, \"grupo\": 1}, {\"x\": 2.601374866288433, \"y\": 1.087994589052718, \"grupo\": 5}, {\"x\": 0.2723960354779992, \"y\": 5.469960038837965, \"grupo\": 0}, {\"x\": -3.12240735601995, \"y\": 3.281673975948751, \"grupo\": 3}, {\"x\": -0.588085171813926, \"y\": 8.614273199037326, \"grupo\": 2}, {\"x\": 1.6690964797331436, \"y\": -0.43637823139671905, \"grupo\": 8}, {\"x\": -0.682774903213914, \"y\": 7.674903167900386, \"grupo\": 2}, {\"x\": 2.367906447304533, \"y\": 0.5521908780500973, \"grupo\": 5}, {\"x\": 1.0524173341686671, \"y\": 4.544980945515211, \"grupo\": 0}, {\"x\": 2.2270737347682457, \"y\": 1.2629699606232072, \"grupo\": 5}, {\"x\": 2.4393464370914333, \"y\": -0.0725099666485638, \"grupo\": 8}, {\"x\": 1.3447177007541433, \"y\": 4.857111330388306, \"grupo\": 0}, {\"x\": -1.3145494177857069, \"y\": 6.839040128520036, \"grupo\": 4}, {\"x\": 0.9825700909789874, \"y\": 5.375309623791891, \"grupo\": 0}, {\"x\": -1.0629522267803457, \"y\": 2.207553877217132, \"grupo\": 7}, {\"x\": -1.6071249490229689, \"y\": 3.5645285449188804, \"grupo\": 7}, {\"x\": 1.5732217229285732, \"y\": 0.48393379328781655, \"grupo\": 8}, {\"x\": -2.1785133817962388, \"y\": 8.085851308260695, \"grupo\": 4}, {\"x\": 1.8337584186674118, \"y\": 0.754036153392381, \"grupo\": 1}, {\"x\": 2.1061604967802476, \"y\": 3.4951318907629223, \"grupo\": 6}, {\"x\": -1.6433875548291526, \"y\": 7.526919636077601, \"grupo\": 4}, {\"x\": 1.1055044830318288, \"y\": 1.2638912874022599, \"grupo\": 1}, {\"x\": 1.6115297235980899, \"y\": 1.8234724171819783, \"grupo\": 1}, {\"x\": 0.45953466751367356, \"y\": 5.44982629930781, \"grupo\": 0}, {\"x\": -0.5380230538973697, \"y\": 3.016418914625523, \"grupo\": 7}, {\"x\": 1.6784149856479307, \"y\": 0.6090473888614643, \"grupo\": 1}, {\"x\": -1.0121496586465035, \"y\": 3.602543381327667, \"grupo\": 7}, {\"x\": 1.3419519667624606, \"y\": 0.5935738473587243, \"grupo\": 1}, {\"x\": 1.4281155017447051, \"y\": 1.6243508337475574, \"grupo\": 1}, {\"x\": 2.0450552731160134, \"y\": 1.125154701270986, \"grupo\": 1}, {\"x\": 1.6728053061015404, \"y\": 0.6593005713406582, \"grupo\": 1}, {\"x\": -1.3586389900321278, \"y\": 2.3220080947753745, \"grupo\": 7}, {\"x\": 1.130789312766103, \"y\": 0.9356208564581359, \"grupo\": 1}, {\"x\": -1.738963062476225, \"y\": 1.9479977481425033, \"grupo\": 3}, {\"x\": -0.3402589252022272, \"y\": 8.167339254166144, \"grupo\": 2}, {\"x\": -1.6379362158275104, \"y\": 2.4332931687633095, \"grupo\": 3}, {\"x\": -1.6875441353582852, \"y\": 2.2410754624511187, \"grupo\": 3}, {\"x\": 2.4304063920491905, \"y\": -0.06357093342611164, \"grupo\": 8}, {\"x\": -1.379980391744878, \"y\": 7.185038043238434, \"grupo\": 4}, {\"x\": -1.252454649489311, \"y\": 2.3391150530928857, \"grupo\": 7}, {\"x\": -2.394824832959938, \"y\": 3.3980610309371393, \"grupo\": 3}, {\"x\": -2.0918335245068898, \"y\": 7.48142542811987, \"grupo\": 4}, {\"x\": 0.4883823093198226, \"y\": 3.268017766049384, \"grupo\": 6}, {\"x\": -0.5394286139731788, \"y\": 7.456317760838494, \"grupo\": 2}, {\"x\": -2.592018209943192, \"y\": 8.076359448695767, \"grupo\": 4}, {\"x\": -1.0465651311633073, \"y\": 2.9648383664301194, \"grupo\": 7}, {\"x\": 1.255667542384771, \"y\": 3.382041115682056, \"grupo\": 6}, {\"x\": -1.621504222920195, \"y\": 4.271916359712049, \"grupo\": 7}, {\"x\": 1.869221394823855, \"y\": 5.44132083306674, \"grupo\": 0}, {\"x\": -1.764041402814518, \"y\": 2.222229951493175, \"grupo\": 3}, {\"x\": -1.3818191833151425, \"y\": 7.287612484816516, \"grupo\": 4}, {\"x\": 0.00793137001172417, \"y\": 4.1761431593200085, \"grupo\": 6}, {\"x\": -1.1029849981550766, \"y\": 7.302227861229416, \"grupo\": 4}, {\"x\": -1.793513722321582, \"y\": 7.580869443054853, \"grupo\": 4}, {\"x\": -1.511769487827439, \"y\": 7.944263073172287, \"grupo\": 4}, {\"x\": 0.9593607415433021, \"y\": 4.56078644976664, \"grupo\": 0}, {\"x\": -0.6013373925176075, \"y\": 6.299949215835136, \"grupo\": 4}, {\"x\": 0.22459286251653932, \"y\": 4.770281540947536, \"grupo\": 0}, {\"x\": 1.5672489659103563, \"y\": 0.017809063256428503, \"grupo\": 8}, {\"x\": -1.033952585992028, \"y\": 2.9210578491127395, \"grupo\": 7}, {\"x\": -0.9222686399136384, \"y\": 8.09888579024482, \"grupo\": 2}, {\"x\": -1.886096375375697, \"y\": 2.248344069756886, \"grupo\": 3}, {\"x\": 1.868735818413795, \"y\": 0.9561037596992069, \"grupo\": 1}, {\"x\": 1.1012350653926113, \"y\": 4.889770749338617, \"grupo\": 0}, {\"x\": -1.9321372480022148, \"y\": 8.306434528385894, \"grupo\": 4}, {\"x\": 0.670478769495503, \"y\": 4.0409427464816785, \"grupo\": 6}, {\"x\": 0.7438739881017237, \"y\": 4.122405677103188, \"grupo\": 6}, {\"x\": 1.6400376127622431, \"y\": 1.8194898924854155, \"grupo\": 1}, {\"x\": 0.8154680559756669, \"y\": 4.785261164926227, \"grupo\": 0}, {\"x\": -2.6327457433158945, \"y\": 2.6310978589088307, \"grupo\": 3}, {\"x\": -0.9610763608283948, \"y\": 1.274075961019389, \"grupo\": 7}, {\"x\": 0.2139790794550549, \"y\": 4.885425352343197, \"grupo\": 0}, {\"x\": 1.4347218163621993, \"y\": 1.306620370906913, \"grupo\": 1}, {\"x\": 1.2138741061434821, \"y\": 3.6479504222100867, \"grupo\": 6}, {\"x\": 1.0827257638987469, \"y\": 4.0627187657234325, \"grupo\": 6}, {\"x\": -1.2260523416000606, \"y\": 8.296201460281216, \"grupo\": 2}, {\"x\": 1.4817005211372116, \"y\": 0.690074594518305, \"grupo\": 1}, {\"x\": 1.8959376071615694, \"y\": 5.185402589388561, \"grupo\": 0}, {\"x\": -1.3235615380923387, \"y\": 4.130508398224001, \"grupo\": 7}, {\"x\": -1.1498986312745982, \"y\": 7.893252829194312, \"grupo\": 2}, {\"x\": 2.469158420153751, \"y\": 1.6787713976769358, \"grupo\": 5}, {\"x\": 2.3110227598997386, \"y\": 1.3038084809560841, \"grupo\": 5}, {\"x\": 0.5727938098809244, \"y\": 4.088055430524065, \"grupo\": 6}, {\"x\": -0.9677949887533233, \"y\": 3.12186125161388, \"grupo\": 7}, {\"x\": 2.6249200055883346, \"y\": 0.9501944047690514, \"grupo\": 5}, {\"x\": 1.6835378212422856, \"y\": 4.19583242596098, \"grupo\": 6}, {\"x\": -2.2213171687364177, \"y\": 2.7305069106577067, \"grupo\": 3}, {\"x\": -1.5784624734048731, \"y\": 3.034458024160586, \"grupo\": 7}, {\"x\": 0.0815155229231318, \"y\": 4.567422348207112, \"grupo\": 0}, {\"x\": 1.4328927136346912, \"y\": 4.376792337344087, \"grupo\": 6}, {\"x\": 1.0626962212430218, \"y\": 5.176351431626175, \"grupo\": 0}, {\"x\": 0.7675227889508035, \"y\": 4.397596708910778, \"grupo\": 0}, {\"x\": 2.47019077207499, \"y\": 1.3145131461315405, \"grupo\": 5}, {\"x\": -1.7316316792697708, \"y\": 7.164472861048615, \"grupo\": 4}, {\"x\": 0.34713829950623953, \"y\": 3.451776565141005, \"grupo\": 6}, {\"x\": -1.0014043562695067, \"y\": 2.8488177802407866, \"grupo\": 7}, {\"x\": 1.0161804119763957, \"y\": 4.485270466092259, \"grupo\": 0}, {\"x\": 0.5595293627076758, \"y\": 4.2140066032517876, \"grupo\": 6}, {\"x\": -2.1182104558323958, \"y\": 2.034781256854971, \"grupo\": 3}, {\"x\": -1.3621941985875416, \"y\": 2.383333211535806, \"grupo\": 7}, {\"x\": -2.7836658559455922, \"y\": 2.9921154098732266, \"grupo\": 3}, {\"x\": 1.6522516318103992, \"y\": 3.655828422430336, \"grupo\": 6}, {\"x\": -1.9396065798391149, \"y\": 2.1894358194766506, \"grupo\": 3}, {\"x\": -1.8148768692407264, \"y\": 7.978321904340981, \"grupo\": 4}, {\"x\": 1.2021253972398727, \"y\": 3.6441468530978733, \"grupo\": 6}, {\"x\": -0.9692009463341885, \"y\": 3.267217016171877, \"grupo\": 7}, {\"x\": 1.8698597400046046, \"y\": -0.10793862386004904, \"grupo\": 8}, {\"x\": -1.8070113408535629, \"y\": 2.067738593457367, \"grupo\": 3}, {\"x\": 1.2176750632530244, \"y\": 3.892901272884202, \"grupo\": 6}, {\"x\": -1.4836891736359323, \"y\": 6.007774182761638, \"grupo\": 4}, {\"x\": -1.5638798544792938, \"y\": 2.853499095558418, \"grupo\": 7}, {\"x\": -0.686210296624996, \"y\": 8.68285663926406, \"grupo\": 2}, {\"x\": 1.0762741757700125, \"y\": 4.684806189583654, \"grupo\": 0}, {\"x\": -0.9759866271647398, \"y\": 6.737615769038875, \"grupo\": 4}, {\"x\": 1.3796469327539564, \"y\": 4.548264429193056, \"grupo\": 0}, {\"x\": -1.641296109370745, \"y\": 2.680972552913053, \"grupo\": 3}, {\"x\": -0.0018489296331316574, \"y\": 4.581456680763854, \"grupo\": 0}, {\"x\": 1.7144444869831275, \"y\": 5.025215236719037, \"grupo\": 0}, {\"x\": -1.4052430421726907, \"y\": 7.726113145367628, \"grupo\": 4}, {\"x\": -0.7081849043604226, \"y\": 2.5042127506031604, \"grupo\": 7}, {\"x\": -0.8857983736323, \"y\": 2.64585077902229, \"grupo\": 7}, {\"x\": 1.9843690943557362, \"y\": 0.48955673753982665, \"grupo\": 8}, {\"x\": 2.951958248127699, \"y\": -0.34432735507018264, \"grupo\": 8}, {\"x\": 0.43189105991654975, \"y\": 4.334954564926074, \"grupo\": 6}, {\"x\": -1.8662169447315362, \"y\": 7.625493996888132, \"grupo\": 4}, {\"x\": 2.5270642986982637, \"y\": 0.617812201896371, \"grupo\": 5}, {\"x\": 2.0406718467935168, \"y\": 0.45484511441452363, \"grupo\": 8}, {\"x\": -2.5804383632845367, \"y\": 3.1884429384166717, \"grupo\": 3}, {\"x\": 1.6199090943547274, \"y\": 0.06764528670090364, \"grupo\": 8}, {\"x\": -2.588027083628124, \"y\": 3.131171336979384, \"grupo\": 3}, {\"x\": 0.44359862996842747, \"y\": 3.1153094465140336, \"grupo\": 6}, {\"x\": -0.4567736489652049, \"y\": 7.306008724511643, \"grupo\": 2}, {\"x\": -1.1286756566082712, \"y\": 7.8050978910645945, \"grupo\": 2}, {\"x\": 2.130035294434726, \"y\": 5.1920962023090445, \"grupo\": 0}, {\"x\": 1.0037251889273626, \"y\": 4.19147701743289, \"grupo\": 6}, {\"x\": -1.393467672668282, \"y\": 8.746416717855018, \"grupo\": 2}, {\"x\": 0.7280986900906466, \"y\": 3.8553144405839355, \"grupo\": 6}, {\"x\": 0.8934996379249738, \"y\": 1.010930818014234, \"grupo\": 1}, {\"x\": -1.1078297237575039, \"y\": 2.920144794784884, \"grupo\": 7}, {\"x\": 0.7893385592700715, \"y\": 4.3374865327862375, \"grupo\": 6}, {\"x\": 1.9755391748807045, \"y\": 0.7189891322968999, \"grupo\": 1}, {\"x\": -1.2490258156307412, \"y\": 3.085339719968595, \"grupo\": 7}, {\"x\": -1.0776879722618216, \"y\": 8.881061284034972, \"grupo\": 2}, {\"x\": -1.8684912453040163, \"y\": 3.0798248742975796, \"grupo\": 3}, {\"x\": 2.768085396844259, \"y\": 1.0878292270928467, \"grupo\": 5}, {\"x\": 0.2771801740764812, \"y\": 4.844283219620902, \"grupo\": 0}, {\"x\": 3.410852891847389, \"y\": 0.8723093689415512, \"grupo\": 5}, {\"x\": -1.5808415506889308, \"y\": 7.5530774207487195, \"grupo\": 4}, {\"x\": -1.5302755043666751, \"y\": 7.705421133296271, \"grupo\": 4}, {\"x\": -1.824558403726039, \"y\": 7.359589598016991, \"grupo\": 4}, {\"x\": -1.6856825700229676, \"y\": 7.953394456078865, \"grupo\": 4}, {\"x\": -1.6510462189202884, \"y\": 3.445989608581592, \"grupo\": 7}, {\"x\": -1.3044090124532441, \"y\": 3.003119344445464, \"grupo\": 7}, {\"x\": -0.7306981679490796, \"y\": 6.242088559856635, \"grupo\": 4}, {\"x\": 2.40615694346486, \"y\": 4.8704750196426385, \"grupo\": 0}, {\"x\": -1.5363132801834383, \"y\": 3.0144391623120566, \"grupo\": 7}, {\"x\": 1.4885997678819276, \"y\": 0.6516338440164078, \"grupo\": 1}, {\"x\": 0.5143204338793053, \"y\": 4.62733684222348, \"grupo\": 0}, {\"x\": -1.814697501626674, \"y\": 3.29009724033923, \"grupo\": 3}, {\"x\": -1.9373105518642353, \"y\": 3.913612739047046, \"grupo\": 3}, {\"x\": -0.6149070967624418, \"y\": 3.9496358457828395, \"grupo\": 7}, {\"x\": 2.0316978304963804, \"y\": 0.1968075612932184, \"grupo\": 8}, {\"x\": 2.1491714442121035, \"y\": 1.0369722816581022, \"grupo\": 5}, {\"x\": -1.3699938792061506, \"y\": 7.769530348056006, \"grupo\": 4}, {\"x\": 0.9143387674703604, \"y\": 4.550146428611414, \"grupo\": 0}, {\"x\": 0.33381850564016957, \"y\": 4.936458363607072, \"grupo\": 0}, {\"x\": -2.1596810916129137, \"y\": 3.4100309637279316, \"grupo\": 3}, {\"x\": 1.3667863299862164, \"y\": 0.6349716330912765, \"grupo\": 1}, {\"x\": -0.5710993360374091, \"y\": 8.133060583447971, \"grupo\": 2}, {\"x\": -1.0055259210838283, \"y\": 3.0840054048407994, \"grupo\": 7}, {\"x\": 1.4949317978621983, \"y\": 3.858488315204525, \"grupo\": 6}, {\"x\": -0.5904476673466711, \"y\": 7.694930534834872, \"grupo\": 2}, {\"x\": 0.7151779475135126, \"y\": 5.413345564535995, \"grupo\": 0}, {\"x\": 2.113902502061791, \"y\": 1.247435867789913, \"grupo\": 5}, {\"x\": 1.2008309760433589, \"y\": 0.6016717299206205, \"grupo\": 1}, {\"x\": -2.5457675048812582, \"y\": 3.150250546570161, \"grupo\": 3}, {\"x\": -1.9586666463529812, \"y\": 2.4300864682006766, \"grupo\": 3}, {\"x\": 2.3381228529390596, \"y\": 3.431167922689131, \"grupo\": 6}, {\"x\": 3.3532090910012915, \"y\": 1.6995804295997718, \"grupo\": 5}, {\"x\": 1.8428711746807875, \"y\": 0.07269288388712558, \"grupo\": 8}, {\"x\": 1.3200062101347771, \"y\": 1.404281445778865, \"grupo\": 1}, {\"x\": 2.096805454802437, \"y\": 4.847414122413621, \"grupo\": 0}, {\"x\": -1.2430790353956045, \"y\": 8.15166254071439, \"grupo\": 2}, {\"x\": -1.859080899918569, \"y\": 7.788747162077084, \"grupo\": 4}, {\"x\": 2.74666646030275, \"y\": 1.5454348151600295, \"grupo\": 5}, {\"x\": 2.6077828157013694, \"y\": 1.0889002517037496, \"grupo\": 5}, {\"x\": 1.6599104892724754, \"y\": 3.5628918352361985, \"grupo\": 6}, {\"x\": 2.351512587842391, \"y\": 0.8280012965173169, \"grupo\": 5}, {\"x\": 2.223222280858821, \"y\": 0.8387734261521621, \"grupo\": 5}, {\"x\": 3.2288149063832945, \"y\": 1.1317196535506926, \"grupo\": 5}, {\"x\": -1.5587672002523922, \"y\": 7.248162100026332, \"grupo\": 4}, {\"x\": -0.6469567838773989, \"y\": 3.429413425009862, \"grupo\": 7}, {\"x\": -1.3268881816709976, \"y\": 8.515307943377428, \"grupo\": 2}, {\"x\": 0.9171985638912357, \"y\": 3.9057003556311254, \"grupo\": 6}, {\"x\": 2.294695328816956, \"y\": -0.7658919939180533, \"grupo\": 8}, {\"x\": 1.815598103875153, \"y\": 1.119697192646448, \"grupo\": 1}, {\"x\": -1.120167745400049, \"y\": 7.1103158234016615, \"grupo\": 4}, {\"x\": -1.6550712436848205, \"y\": 8.614167490032253, \"grupo\": 2}, {\"x\": -1.2756781511422912, \"y\": 7.967764609095898, \"grupo\": 2}, {\"x\": 1.9736977010258854, \"y\": 1.579798477499554, \"grupo\": 1}, {\"x\": 2.518341852161078, \"y\": 1.3917661523161757, \"grupo\": 5}, {\"x\": 0.4389901418302897, \"y\": 4.535928826163947, \"grupo\": 0}, {\"x\": 0.36947865679199743, \"y\": 7.791105215873345, \"grupo\": 2}, {\"x\": -1.7914575925974603, \"y\": 2.7496689642224172, \"grupo\": 3}]}}, {\"mode\": \"vega-lite\"});\n",
              "</script>"
            ]
          },
          "metadata": {
            "tags": []
          },
          "execution_count": 20
        }
      ]
    },
    {
      "cell_type": "markdown",
      "metadata": {
        "id": "mIMo4bevZZdA"
      },
      "source": [
        "\n",
        "\n",
        "---\n",
        "\n",
        "## Leia mais\n",
        "\n",
        "### Exemplos de agrupamentos\n",
        "\n",
        "Nossa análise de filmes foi inspirada [nas análises baseadas em agrupamento de filmes do FiveThirtyEight](https://fivethirtyeight.com/tag/hollywood-taxonomy/). Leia lá algumas pra ver como eles as usam. \n",
        "\n",
        "### Algoritmos de agrupamento \n",
        "\n",
        "Usamos um algoritmo popular aqui. Existem **muitos** outros. Eles variam em várias dimensões: cada ponto só pertence a um grupo no final? O analista precisa decidir o número de grupos? Existem pontos que não pertencem a nenhum grupo? A heurística funciona como?\n",
        "\n",
        "Normalmente, para **produzir** uma solução de agrupamento precisamos de: \n",
        "\n",
        "* Definição de proximidade/distância entre pontos\n",
        "* Definição de proximidade/distância entre grupos ou grupos e pontos\n",
        "* Processo de agrupamento \n",
        "* Decidir quantos grupos existem\n",
        "\n",
        "Depois vem o principal: **avaliar e interpretar** a solução. _Agrupamento sempre dá um resultado, mas nem sempre o resultado é útil_. \n",
        "\n",
        "Há duas maneiras principais de agrupar: aglomerativa ou baseada em partição. \n",
        "\n",
        "O algoritmo que usamos para agrupar é um algoritmo que: dado um número de grupos e uma função de distância entre os pontos, procura uma partição dos dados na qual os grupos são homogêneos dentro de si e diferentes entre si. O nome desse algoritmo é K-means.\n",
        "\n",
        "## Sobre o K-means\n",
        "\n",
        "O algoritmo é conceitualmente bem simples; é uma iteração com duas fases: dado um conjunto de *k* centros de grupos (i) atribui cada ponto ao grupo cujo centro está mais próximo e (ii) move os centros para o meio dos pontos que compõem seu grupo. \n",
        "\n",
        "Há [uma boa visualização de como o algoritmo funciona aqui](http://tech.nitoyon.com/en/blog/2013/11/07/k-means/). E uma mais interativa [nesse outro link](https://www.naftaliharris.com/blog/visualizing-k-means-clustering/).\n",
        "\n"
      ]
    }
  ]
}