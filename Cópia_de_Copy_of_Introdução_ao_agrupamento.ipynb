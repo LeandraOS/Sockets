{
  "nbformat": 4,
  "nbformat_minor": 0,
  "metadata": {
    "colab": {
      "name": "Cópia de Copy of Introdução ao agrupamento.ipynb",
      "provenance": [],
      "collapsed_sections": [],
      "include_colab_link": true
    },
    "kernelspec": {
      "name": "python3",
      "display_name": "Python 3"
    }
  },
  "cells": [
    {
      "cell_type": "markdown",
      "metadata": {
        "id": "view-in-github",
        "colab_type": "text"
      },
      "source": [
        "<a href=\"https://colab.research.google.com/github/LeandraOS/Sockets/blob/master/C%C3%B3pia_de_Copy_of_Introdu%C3%A7%C3%A3o_ao_agrupamento.ipynb\" target=\"_parent\"><img src=\"https://colab.research.google.com/assets/colab-badge.svg\" alt=\"Open In Colab\"/></a>"
      ]
    },
    {
      "cell_type": "code",
      "metadata": {
        "id": "vn56Wbgn1_6H"
      },
      "source": [
        "import pandas as pd\n",
        "import numpy as np\n",
        "import altair as alt"
      ],
      "execution_count": 10,
      "outputs": []
    },
    {
      "cell_type": "markdown",
      "metadata": {
        "id": "yXN5TKA82C7r"
      },
      "source": [
        "# Agrupamento: conceito e exemplos\n",
        "\n",
        "Um dos padrões importantes que percebemos e usamos para entender/descrever dados é o de *subconjuntoso dos dados com alta semelhança* entre si. No jargão que usaremos aqui, **grupos de dados** semelhantes entre si.\n",
        "\n",
        "Algoritmos de agrupamento servem principalmente para ajudar um analista a reduzir um conjunto de dados a um conjunto menor de grupos. Isso facilita compreensão e comunicação."
      ]
    },
    {
      "cell_type": "markdown",
      "metadata": {
        "id": "bB38Vty02J0L"
      },
      "source": [
        "Para exemplificar, primeiro usaremos dados do Rotten Tomatoes sobre avaliação da crítica e bilheteria dos filmes de Scarlett Johansson. Os dados foram raspados [daqui](https://www.rottentomatoes.com/celebrity/scarlett_johansson). Se você quiser, você pode raspar para outros atores/diretores com o código [desse repo](https://github.com/cienciadedados-ufcg/agrupamento-filmes).\n"
      ]
    },
    {
      "cell_type": "code",
      "metadata": {
        "id": "D74viswF3DjL",
        "colab": {
          "base_uri": "https://localhost:8080/",
          "height": 204
        },
        "outputId": "513683c5-8894-414b-aa0e-4580e8f5a9e5"
      },
      "source": [
        "filmes = pd.read_csv(\"https://raw.githubusercontent.com/cienciadedados-ufcg/agrupamento-filmes/master/data/movies.csv\")\n",
        "filmes.head()"
      ],
      "execution_count": 11,
      "outputs": [
        {
          "output_type": "execute_result",
          "data": {
            "text/html": [
              "<div>\n",
              "<style scoped>\n",
              "    .dataframe tbody tr th:only-of-type {\n",
              "        vertical-align: middle;\n",
              "    }\n",
              "\n",
              "    .dataframe tbody tr th {\n",
              "        vertical-align: top;\n",
              "    }\n",
              "\n",
              "    .dataframe thead th {\n",
              "        text-align: right;\n",
              "    }\n",
              "</style>\n",
              "<table border=\"1\" class=\"dataframe\">\n",
              "  <thead>\n",
              "    <tr style=\"text-align: right;\">\n",
              "      <th></th>\n",
              "      <th>RATING</th>\n",
              "      <th>TITLE</th>\n",
              "      <th>CREDIT</th>\n",
              "      <th>BOXOFFICE</th>\n",
              "      <th>YEAR</th>\n",
              "    </tr>\n",
              "  </thead>\n",
              "  <tbody>\n",
              "    <tr>\n",
              "      <th>0</th>\n",
              "      <td>85</td>\n",
              "      <td>Avengers: Infinity War</td>\n",
              "      <td>Natasha Romanoff/Black Widow</td>\n",
              "      <td>665.0</td>\n",
              "      <td>2018</td>\n",
              "    </tr>\n",
              "    <tr>\n",
              "      <th>1</th>\n",
              "      <td>44</td>\n",
              "      <td>Rough Night</td>\n",
              "      <td>Jess</td>\n",
              "      <td>22.1</td>\n",
              "      <td>2017</td>\n",
              "    </tr>\n",
              "    <tr>\n",
              "      <th>2</th>\n",
              "      <td>43</td>\n",
              "      <td>Ghost in the Shell</td>\n",
              "      <td>Major</td>\n",
              "      <td>40.6</td>\n",
              "      <td>2017</td>\n",
              "    </tr>\n",
              "    <tr>\n",
              "      <th>3</th>\n",
              "      <td>72</td>\n",
              "      <td>Sing</td>\n",
              "      <td>Ash</td>\n",
              "      <td>270.4</td>\n",
              "      <td>2016</td>\n",
              "    </tr>\n",
              "    <tr>\n",
              "      <th>4</th>\n",
              "      <td>91</td>\n",
              "      <td>Captain America: Civil War</td>\n",
              "      <td>Natasha Romanoff/Black Widow</td>\n",
              "      <td>408.1</td>\n",
              "      <td>2016</td>\n",
              "    </tr>\n",
              "  </tbody>\n",
              "</table>\n",
              "</div>"
            ],
            "text/plain": [
              "   RATING                       TITLE  ... BOXOFFICE  YEAR\n",
              "0      85      Avengers: Infinity War  ...     665.0  2018\n",
              "1      44                 Rough Night  ...      22.1  2017\n",
              "2      43          Ghost in the Shell  ...      40.6  2017\n",
              "3      72                        Sing  ...     270.4  2016\n",
              "4      91  Captain America: Civil War  ...     408.1  2016\n",
              "\n",
              "[5 rows x 5 columns]"
            ]
          },
          "metadata": {
            "tags": []
          },
          "execution_count": 11
        }
      ]
    },
    {
      "cell_type": "markdown",
      "metadata": {
        "id": "GC58Fd-XDico"
      },
      "source": [
        "## Estrutura de grupos em 1d"
      ]
    },
    {
      "cell_type": "code",
      "metadata": {
        "id": "42ZFC71h8oCP",
        "colab": {
          "base_uri": "https://localhost:8080/",
          "height": 313
        },
        "outputId": "4867b464-0fba-44ad-dda5-45e941e87af0"
      },
      "source": [
        "alt.Chart(filmes).mark_point(\n",
        "    size = 70\n",
        ").encode(\n",
        "    x = 'RATING',\n",
        "    tooltip = ['TITLE', 'RATING']\n",
        ").properties(\n",
        "    width=600,\n",
        "    height=250\n",
        ").interactive()"
      ],
      "execution_count": 12,
      "outputs": [
        {
          "output_type": "execute_result",
          "data": {
            "text/plain": [
              "alt.Chart(...)"
            ],
            "text/html": [
              "\n",
              "<div id=\"altair-viz-4807d417d0d1436480f41eafc5b765aa\"></div>\n",
              "<script type=\"text/javascript\">\n",
              "  (function(spec, embedOpt){\n",
              "    let outputDiv = document.currentScript.previousElementSibling;\n",
              "    if (outputDiv.id !== \"altair-viz-4807d417d0d1436480f41eafc5b765aa\") {\n",
              "      outputDiv = document.getElementById(\"altair-viz-4807d417d0d1436480f41eafc5b765aa\");\n",
              "    }\n",
              "    const paths = {\n",
              "      \"vega\": \"https://cdn.jsdelivr.net/npm//vega@5?noext\",\n",
              "      \"vega-lib\": \"https://cdn.jsdelivr.net/npm//vega-lib?noext\",\n",
              "      \"vega-lite\": \"https://cdn.jsdelivr.net/npm//vega-lite@4.8.1?noext\",\n",
              "      \"vega-embed\": \"https://cdn.jsdelivr.net/npm//vega-embed@6?noext\",\n",
              "    };\n",
              "\n",
              "    function loadScript(lib) {\n",
              "      return new Promise(function(resolve, reject) {\n",
              "        var s = document.createElement('script');\n",
              "        s.src = paths[lib];\n",
              "        s.async = true;\n",
              "        s.onload = () => resolve(paths[lib]);\n",
              "        s.onerror = () => reject(`Error loading script: ${paths[lib]}`);\n",
              "        document.getElementsByTagName(\"head\")[0].appendChild(s);\n",
              "      });\n",
              "    }\n",
              "\n",
              "    function showError(err) {\n",
              "      outputDiv.innerHTML = `<div class=\"error\" style=\"color:red;\">${err}</div>`;\n",
              "      throw err;\n",
              "    }\n",
              "\n",
              "    function displayChart(vegaEmbed) {\n",
              "      vegaEmbed(outputDiv, spec, embedOpt)\n",
              "        .catch(err => showError(`Javascript Error: ${err.message}<br>This usually means there's a typo in your chart specification. See the javascript console for the full traceback.`));\n",
              "    }\n",
              "\n",
              "    if(typeof define === \"function\" && define.amd) {\n",
              "      requirejs.config({paths});\n",
              "      require([\"vega-embed\"], displayChart, err => showError(`Error loading script: ${err.message}`));\n",
              "    } else if (typeof vegaEmbed === \"function\") {\n",
              "      displayChart(vegaEmbed);\n",
              "    } else {\n",
              "      loadScript(\"vega\")\n",
              "        .then(() => loadScript(\"vega-lite\"))\n",
              "        .then(() => loadScript(\"vega-embed\"))\n",
              "        .catch(showError)\n",
              "        .then(() => displayChart(vegaEmbed));\n",
              "    }\n",
              "  })({\"config\": {\"view\": {\"continuousWidth\": 400, \"continuousHeight\": 300}}, \"data\": {\"name\": \"data-5a194466983f6bcbb5daf8b7f2d28493\"}, \"mark\": {\"type\": \"point\", \"size\": 70}, \"encoding\": {\"tooltip\": [{\"type\": \"nominal\", \"field\": \"TITLE\"}, {\"type\": \"quantitative\", \"field\": \"RATING\"}], \"x\": {\"type\": \"quantitative\", \"field\": \"RATING\"}}, \"height\": 250, \"selection\": {\"selector005\": {\"type\": \"interval\", \"bind\": \"scales\", \"encodings\": [\"x\", \"y\"]}}, \"width\": 600, \"$schema\": \"https://vega.github.io/schema/vega-lite/v4.8.1.json\", \"datasets\": {\"data-5a194466983f6bcbb5daf8b7f2d28493\": [{\"RATING\": 85, \"TITLE\": \"Avengers: Infinity War\", \"CREDIT\": \"Natasha Romanoff/Black Widow\", \"BOXOFFICE\": 665.0, \"YEAR\": 2018}, {\"RATING\": 44, \"TITLE\": \"Rough Night\", \"CREDIT\": \"Jess\", \"BOXOFFICE\": 22.1, \"YEAR\": 2017}, {\"RATING\": 43, \"TITLE\": \"Ghost in the Shell\", \"CREDIT\": \"Major\", \"BOXOFFICE\": 40.6, \"YEAR\": 2017}, {\"RATING\": 72, \"TITLE\": \"Sing\", \"CREDIT\": \"Ash\", \"BOXOFFICE\": 270.4, \"YEAR\": 2016}, {\"RATING\": 91, \"TITLE\": \"Captain America: Civil War\", \"CREDIT\": \"Natasha Romanoff/Black Widow\", \"BOXOFFICE\": 408.1, \"YEAR\": 2016}, {\"RATING\": 95, \"TITLE\": \"The Jungle Book\", \"CREDIT\": \"Kaa\", \"BOXOFFICE\": 364.0, \"YEAR\": 2016}, {\"RATING\": 86, \"TITLE\": \"Hail, Caesar!\", \"CREDIT\": \"DeeAnna Moran\", \"BOXOFFICE\": 28.0, \"YEAR\": 2016}, {\"RATING\": 75, \"TITLE\": \"Avengers: Age of Ultron\", \"CREDIT\": \"Natasha Romanoff/Black Widow\", \"BOXOFFICE\": 429.2, \"YEAR\": 2015}, {\"RATING\": 67, \"TITLE\": \"Lucy\", \"CREDIT\": \"Lucy\", \"BOXOFFICE\": 108.6, \"YEAR\": 2014}, {\"RATING\": 87, \"TITLE\": \"Chef\", \"CREDIT\": \"Molly\", \"BOXOFFICE\": 23.7, \"YEAR\": 2014}, {\"RATING\": 90, \"TITLE\": \"Captain America: The Winter Soldier\", \"CREDIT\": \"Natasha Romanoff/Black Widow\", \"BOXOFFICE\": 228.7, \"YEAR\": 2014}, {\"RATING\": 84, \"TITLE\": \"Under the Skin\", \"CREDIT\": \"Laura\", \"BOXOFFICE\": 2.4, \"YEAR\": 2014}, {\"RATING\": 94, \"TITLE\": \"Her\", \"CREDIT\": \"Samantha\", \"BOXOFFICE\": 18.0, \"YEAR\": 2013}, {\"RATING\": 60, \"TITLE\": \"Hitchcock\", \"CREDIT\": \"Janet Leigh\", \"BOXOFFICE\": 6.1, \"YEAR\": 2012}, {\"RATING\": 96, \"TITLE\": \"Chasing Ice\", \"CREDIT\": \"Actor\", \"BOXOFFICE\": 1.4, \"YEAR\": 2012}, {\"RATING\": 92, \"TITLE\": \"Marvel's The Avengers\", \"CREDIT\": \"Natasha Romanoff/Black Widow\", \"BOXOFFICE\": 623.3, \"YEAR\": 2012}, {\"RATING\": 64, \"TITLE\": \"We Bought a Zoo\", \"CREDIT\": \"Kelly Foster\", \"BOXOFFICE\": 72.8, \"YEAR\": 2011}, {\"RATING\": 73, \"TITLE\": \"Iron Man 2\", \"CREDIT\": \"Natalie Rushman/Black Widow\", \"BOXOFFICE\": 312.1, \"YEAR\": 2010}, {\"RATING\": 40, \"TITLE\": \"He's Just Not That Into You\", \"CREDIT\": \"Anna\", \"BOXOFFICE\": 93.9, \"YEAR\": 2009}, {\"RATING\": 14, \"TITLE\": \"The Spirit\", \"CREDIT\": \"Silken Floss\", \"BOXOFFICE\": 19.8, \"YEAR\": 2008}, {\"RATING\": 81, \"TITLE\": \"Vicky Cristina Barcelona\", \"CREDIT\": \"Cristina\", \"BOXOFFICE\": 23.2, \"YEAR\": 2008}, {\"RATING\": 42, \"TITLE\": \"The Other Boleyn Girl\", \"CREDIT\": \"Mary Boleyn\", \"BOXOFFICE\": 26.9, \"YEAR\": 2008}, {\"RATING\": 34, \"TITLE\": \"The Nanny Diaries\", \"CREDIT\": \"Annie Braddock\", \"BOXOFFICE\": 25.9, \"YEAR\": 2007}, {\"RATING\": 76, \"TITLE\": \"The Prestige\", \"CREDIT\": \"Olivia Wenscombe\", \"BOXOFFICE\": 53.2, \"YEAR\": 2006}, {\"RATING\": 33, \"TITLE\": \"The Black Dahlia\", \"CREDIT\": \"Kay Lake\", \"BOXOFFICE\": 22.6, \"YEAR\": 2006}, {\"RATING\": 41, \"TITLE\": \"Scoop\", \"CREDIT\": \"Sondra Pransky\", \"BOXOFFICE\": 10.5, \"YEAR\": 2006}, {\"RATING\": 76, \"TITLE\": \"Match Point\", \"CREDIT\": \"Nola Rice\", \"BOXOFFICE\": 23.2, \"YEAR\": 2005}, {\"RATING\": 40, \"TITLE\": \"The Island\", \"CREDIT\": \"Jordan Two Delta/Sarah Jordan\", \"BOXOFFICE\": 35.9, \"YEAR\": 2005}, {\"RATING\": 82, \"TITLE\": \"In Good Company\", \"CREDIT\": \"Alex Foreman\", \"BOXOFFICE\": 45.5, \"YEAR\": 2004}, {\"RATING\": 16, \"TITLE\": \"The Perfect Score\", \"CREDIT\": \"Francesca\", \"BOXOFFICE\": 10.3, \"YEAR\": 2004}, {\"RATING\": 72, \"TITLE\": \"Girl With a Pearl Earring\", \"CREDIT\": \"Griet\", \"BOXOFFICE\": 11.6, \"YEAR\": 2004}, {\"RATING\": 95, \"TITLE\": \"Lost In Translation\", \"CREDIT\": \"Charlotte\", \"BOXOFFICE\": 44.6, \"YEAR\": 2003}, {\"RATING\": 48, \"TITLE\": \"Eight Legged Freaks\", \"CREDIT\": \"Ashley Parker\", \"BOXOFFICE\": 17.3, \"YEAR\": 2002}, {\"RATING\": 81, \"TITLE\": \"The Man Who Wasn't There\", \"CREDIT\": \"Birdy Abundas\", \"BOXOFFICE\": 7.5, \"YEAR\": 2001}, {\"RATING\": 92, \"TITLE\": \"Ghost World\", \"CREDIT\": \"Rebecca\", \"BOXOFFICE\": 4.7, \"YEAR\": 2001}]}}, {\"mode\": \"vega-lite\"});\n",
              "</script>"
            ]
          },
          "metadata": {
            "tags": []
          },
          "execution_count": 12
        }
      ]
    },
    {
      "cell_type": "code",
      "metadata": {
        "id": "X1i0iHKu7RNJ",
        "colab": {
          "base_uri": "https://localhost:8080/",
          "height": 213
        },
        "outputId": "62131a5b-805e-4932-dc40-f4c4139b3b36"
      },
      "source": [
        "alt.Chart(filmes).mark_point(\n",
        "    size = 70\n",
        ").encode(\n",
        "    x = alt.X('BOXOFFICE', scale=alt.Scale(type='log')),\n",
        "    tooltip = ['TITLE', 'RATING', 'BOXOFFICE']\n",
        ").properties(\n",
        "    width=600,\n",
        "    height=150\n",
        ").interactive()"
      ],
      "execution_count": 13,
      "outputs": [
        {
          "output_type": "execute_result",
          "data": {
            "text/plain": [
              "alt.Chart(...)"
            ],
            "text/html": [
              "\n",
              "<div id=\"altair-viz-3759bbc20f234181a938f790420116f5\"></div>\n",
              "<script type=\"text/javascript\">\n",
              "  (function(spec, embedOpt){\n",
              "    let outputDiv = document.currentScript.previousElementSibling;\n",
              "    if (outputDiv.id !== \"altair-viz-3759bbc20f234181a938f790420116f5\") {\n",
              "      outputDiv = document.getElementById(\"altair-viz-3759bbc20f234181a938f790420116f5\");\n",
              "    }\n",
              "    const paths = {\n",
              "      \"vega\": \"https://cdn.jsdelivr.net/npm//vega@5?noext\",\n",
              "      \"vega-lib\": \"https://cdn.jsdelivr.net/npm//vega-lib?noext\",\n",
              "      \"vega-lite\": \"https://cdn.jsdelivr.net/npm//vega-lite@4.8.1?noext\",\n",
              "      \"vega-embed\": \"https://cdn.jsdelivr.net/npm//vega-embed@6?noext\",\n",
              "    };\n",
              "\n",
              "    function loadScript(lib) {\n",
              "      return new Promise(function(resolve, reject) {\n",
              "        var s = document.createElement('script');\n",
              "        s.src = paths[lib];\n",
              "        s.async = true;\n",
              "        s.onload = () => resolve(paths[lib]);\n",
              "        s.onerror = () => reject(`Error loading script: ${paths[lib]}`);\n",
              "        document.getElementsByTagName(\"head\")[0].appendChild(s);\n",
              "      });\n",
              "    }\n",
              "\n",
              "    function showError(err) {\n",
              "      outputDiv.innerHTML = `<div class=\"error\" style=\"color:red;\">${err}</div>`;\n",
              "      throw err;\n",
              "    }\n",
              "\n",
              "    function displayChart(vegaEmbed) {\n",
              "      vegaEmbed(outputDiv, spec, embedOpt)\n",
              "        .catch(err => showError(`Javascript Error: ${err.message}<br>This usually means there's a typo in your chart specification. See the javascript console for the full traceback.`));\n",
              "    }\n",
              "\n",
              "    if(typeof define === \"function\" && define.amd) {\n",
              "      requirejs.config({paths});\n",
              "      require([\"vega-embed\"], displayChart, err => showError(`Error loading script: ${err.message}`));\n",
              "    } else if (typeof vegaEmbed === \"function\") {\n",
              "      displayChart(vegaEmbed);\n",
              "    } else {\n",
              "      loadScript(\"vega\")\n",
              "        .then(() => loadScript(\"vega-lite\"))\n",
              "        .then(() => loadScript(\"vega-embed\"))\n",
              "        .catch(showError)\n",
              "        .then(() => displayChart(vegaEmbed));\n",
              "    }\n",
              "  })({\"config\": {\"view\": {\"continuousWidth\": 400, \"continuousHeight\": 300}}, \"data\": {\"name\": \"data-5a194466983f6bcbb5daf8b7f2d28493\"}, \"mark\": {\"type\": \"point\", \"size\": 70}, \"encoding\": {\"tooltip\": [{\"type\": \"nominal\", \"field\": \"TITLE\"}, {\"type\": \"quantitative\", \"field\": \"RATING\"}, {\"type\": \"quantitative\", \"field\": \"BOXOFFICE\"}], \"x\": {\"type\": \"quantitative\", \"field\": \"BOXOFFICE\", \"scale\": {\"type\": \"log\"}}}, \"height\": 150, \"selection\": {\"selector006\": {\"type\": \"interval\", \"bind\": \"scales\", \"encodings\": [\"x\", \"y\"]}}, \"width\": 600, \"$schema\": \"https://vega.github.io/schema/vega-lite/v4.8.1.json\", \"datasets\": {\"data-5a194466983f6bcbb5daf8b7f2d28493\": [{\"RATING\": 85, \"TITLE\": \"Avengers: Infinity War\", \"CREDIT\": \"Natasha Romanoff/Black Widow\", \"BOXOFFICE\": 665.0, \"YEAR\": 2018}, {\"RATING\": 44, \"TITLE\": \"Rough Night\", \"CREDIT\": \"Jess\", \"BOXOFFICE\": 22.1, \"YEAR\": 2017}, {\"RATING\": 43, \"TITLE\": \"Ghost in the Shell\", \"CREDIT\": \"Major\", \"BOXOFFICE\": 40.6, \"YEAR\": 2017}, {\"RATING\": 72, \"TITLE\": \"Sing\", \"CREDIT\": \"Ash\", \"BOXOFFICE\": 270.4, \"YEAR\": 2016}, {\"RATING\": 91, \"TITLE\": \"Captain America: Civil War\", \"CREDIT\": \"Natasha Romanoff/Black Widow\", \"BOXOFFICE\": 408.1, \"YEAR\": 2016}, {\"RATING\": 95, \"TITLE\": \"The Jungle Book\", \"CREDIT\": \"Kaa\", \"BOXOFFICE\": 364.0, \"YEAR\": 2016}, {\"RATING\": 86, \"TITLE\": \"Hail, Caesar!\", \"CREDIT\": \"DeeAnna Moran\", \"BOXOFFICE\": 28.0, \"YEAR\": 2016}, {\"RATING\": 75, \"TITLE\": \"Avengers: Age of Ultron\", \"CREDIT\": \"Natasha Romanoff/Black Widow\", \"BOXOFFICE\": 429.2, \"YEAR\": 2015}, {\"RATING\": 67, \"TITLE\": \"Lucy\", \"CREDIT\": \"Lucy\", \"BOXOFFICE\": 108.6, \"YEAR\": 2014}, {\"RATING\": 87, \"TITLE\": \"Chef\", \"CREDIT\": \"Molly\", \"BOXOFFICE\": 23.7, \"YEAR\": 2014}, {\"RATING\": 90, \"TITLE\": \"Captain America: The Winter Soldier\", \"CREDIT\": \"Natasha Romanoff/Black Widow\", \"BOXOFFICE\": 228.7, \"YEAR\": 2014}, {\"RATING\": 84, \"TITLE\": \"Under the Skin\", \"CREDIT\": \"Laura\", \"BOXOFFICE\": 2.4, \"YEAR\": 2014}, {\"RATING\": 94, \"TITLE\": \"Her\", \"CREDIT\": \"Samantha\", \"BOXOFFICE\": 18.0, \"YEAR\": 2013}, {\"RATING\": 60, \"TITLE\": \"Hitchcock\", \"CREDIT\": \"Janet Leigh\", \"BOXOFFICE\": 6.1, \"YEAR\": 2012}, {\"RATING\": 96, \"TITLE\": \"Chasing Ice\", \"CREDIT\": \"Actor\", \"BOXOFFICE\": 1.4, \"YEAR\": 2012}, {\"RATING\": 92, \"TITLE\": \"Marvel's The Avengers\", \"CREDIT\": \"Natasha Romanoff/Black Widow\", \"BOXOFFICE\": 623.3, \"YEAR\": 2012}, {\"RATING\": 64, \"TITLE\": \"We Bought a Zoo\", \"CREDIT\": \"Kelly Foster\", \"BOXOFFICE\": 72.8, \"YEAR\": 2011}, {\"RATING\": 73, \"TITLE\": \"Iron Man 2\", \"CREDIT\": \"Natalie Rushman/Black Widow\", \"BOXOFFICE\": 312.1, \"YEAR\": 2010}, {\"RATING\": 40, \"TITLE\": \"He's Just Not That Into You\", \"CREDIT\": \"Anna\", \"BOXOFFICE\": 93.9, \"YEAR\": 2009}, {\"RATING\": 14, \"TITLE\": \"The Spirit\", \"CREDIT\": \"Silken Floss\", \"BOXOFFICE\": 19.8, \"YEAR\": 2008}, {\"RATING\": 81, \"TITLE\": \"Vicky Cristina Barcelona\", \"CREDIT\": \"Cristina\", \"BOXOFFICE\": 23.2, \"YEAR\": 2008}, {\"RATING\": 42, \"TITLE\": \"The Other Boleyn Girl\", \"CREDIT\": \"Mary Boleyn\", \"BOXOFFICE\": 26.9, \"YEAR\": 2008}, {\"RATING\": 34, \"TITLE\": \"The Nanny Diaries\", \"CREDIT\": \"Annie Braddock\", \"BOXOFFICE\": 25.9, \"YEAR\": 2007}, {\"RATING\": 76, \"TITLE\": \"The Prestige\", \"CREDIT\": \"Olivia Wenscombe\", \"BOXOFFICE\": 53.2, \"YEAR\": 2006}, {\"RATING\": 33, \"TITLE\": \"The Black Dahlia\", \"CREDIT\": \"Kay Lake\", \"BOXOFFICE\": 22.6, \"YEAR\": 2006}, {\"RATING\": 41, \"TITLE\": \"Scoop\", \"CREDIT\": \"Sondra Pransky\", \"BOXOFFICE\": 10.5, \"YEAR\": 2006}, {\"RATING\": 76, \"TITLE\": \"Match Point\", \"CREDIT\": \"Nola Rice\", \"BOXOFFICE\": 23.2, \"YEAR\": 2005}, {\"RATING\": 40, \"TITLE\": \"The Island\", \"CREDIT\": \"Jordan Two Delta/Sarah Jordan\", \"BOXOFFICE\": 35.9, \"YEAR\": 2005}, {\"RATING\": 82, \"TITLE\": \"In Good Company\", \"CREDIT\": \"Alex Foreman\", \"BOXOFFICE\": 45.5, \"YEAR\": 2004}, {\"RATING\": 16, \"TITLE\": \"The Perfect Score\", \"CREDIT\": \"Francesca\", \"BOXOFFICE\": 10.3, \"YEAR\": 2004}, {\"RATING\": 72, \"TITLE\": \"Girl With a Pearl Earring\", \"CREDIT\": \"Griet\", \"BOXOFFICE\": 11.6, \"YEAR\": 2004}, {\"RATING\": 95, \"TITLE\": \"Lost In Translation\", \"CREDIT\": \"Charlotte\", \"BOXOFFICE\": 44.6, \"YEAR\": 2003}, {\"RATING\": 48, \"TITLE\": \"Eight Legged Freaks\", \"CREDIT\": \"Ashley Parker\", \"BOXOFFICE\": 17.3, \"YEAR\": 2002}, {\"RATING\": 81, \"TITLE\": \"The Man Who Wasn't There\", \"CREDIT\": \"Birdy Abundas\", \"BOXOFFICE\": 7.5, \"YEAR\": 2001}, {\"RATING\": 92, \"TITLE\": \"Ghost World\", \"CREDIT\": \"Rebecca\", \"BOXOFFICE\": 4.7, \"YEAR\": 2001}]}}, {\"mode\": \"vega-lite\"});\n",
              "</script>"
            ]
          },
          "metadata": {
            "tags": []
          },
          "execution_count": 13
        }
      ]
    },
    {
      "cell_type": "markdown",
      "metadata": {
        "id": "u-TGSMzkDmN8"
      },
      "source": [
        "## Estrutura em 2d"
      ]
    },
    {
      "cell_type": "code",
      "metadata": {
        "id": "MP1VS7pj9vnc",
        "colab": {
          "base_uri": "https://localhost:8080/",
          "height": 368
        },
        "outputId": "b39f5b50-2b2e-4f58-ee92-dccac5399d57"
      },
      "source": [
        "alt.Chart(filmes).mark_circle(\n",
        "    size = 70\n",
        ").encode(\n",
        "    y = alt.Y('BOXOFFICE', scale=alt.Scale(type='log')),\n",
        "    x = 'RATING',\n",
        "    tooltip = ['TITLE', 'RATING', 'BOXOFFICE']\n",
        ").interactive()"
      ],
      "execution_count": 14,
      "outputs": [
        {
          "output_type": "execute_result",
          "data": {
            "text/plain": [
              "alt.Chart(...)"
            ],
            "text/html": [
              "\n",
              "<div id=\"altair-viz-99237465d00d4ba48a7baec3dd6ef9ad\"></div>\n",
              "<script type=\"text/javascript\">\n",
              "  (function(spec, embedOpt){\n",
              "    let outputDiv = document.currentScript.previousElementSibling;\n",
              "    if (outputDiv.id !== \"altair-viz-99237465d00d4ba48a7baec3dd6ef9ad\") {\n",
              "      outputDiv = document.getElementById(\"altair-viz-99237465d00d4ba48a7baec3dd6ef9ad\");\n",
              "    }\n",
              "    const paths = {\n",
              "      \"vega\": \"https://cdn.jsdelivr.net/npm//vega@5?noext\",\n",
              "      \"vega-lib\": \"https://cdn.jsdelivr.net/npm//vega-lib?noext\",\n",
              "      \"vega-lite\": \"https://cdn.jsdelivr.net/npm//vega-lite@4.8.1?noext\",\n",
              "      \"vega-embed\": \"https://cdn.jsdelivr.net/npm//vega-embed@6?noext\",\n",
              "    };\n",
              "\n",
              "    function loadScript(lib) {\n",
              "      return new Promise(function(resolve, reject) {\n",
              "        var s = document.createElement('script');\n",
              "        s.src = paths[lib];\n",
              "        s.async = true;\n",
              "        s.onload = () => resolve(paths[lib]);\n",
              "        s.onerror = () => reject(`Error loading script: ${paths[lib]}`);\n",
              "        document.getElementsByTagName(\"head\")[0].appendChild(s);\n",
              "      });\n",
              "    }\n",
              "\n",
              "    function showError(err) {\n",
              "      outputDiv.innerHTML = `<div class=\"error\" style=\"color:red;\">${err}</div>`;\n",
              "      throw err;\n",
              "    }\n",
              "\n",
              "    function displayChart(vegaEmbed) {\n",
              "      vegaEmbed(outputDiv, spec, embedOpt)\n",
              "        .catch(err => showError(`Javascript Error: ${err.message}<br>This usually means there's a typo in your chart specification. See the javascript console for the full traceback.`));\n",
              "    }\n",
              "\n",
              "    if(typeof define === \"function\" && define.amd) {\n",
              "      requirejs.config({paths});\n",
              "      require([\"vega-embed\"], displayChart, err => showError(`Error loading script: ${err.message}`));\n",
              "    } else if (typeof vegaEmbed === \"function\") {\n",
              "      displayChart(vegaEmbed);\n",
              "    } else {\n",
              "      loadScript(\"vega\")\n",
              "        .then(() => loadScript(\"vega-lite\"))\n",
              "        .then(() => loadScript(\"vega-embed\"))\n",
              "        .catch(showError)\n",
              "        .then(() => displayChart(vegaEmbed));\n",
              "    }\n",
              "  })({\"config\": {\"view\": {\"continuousWidth\": 400, \"continuousHeight\": 300}}, \"data\": {\"name\": \"data-5a194466983f6bcbb5daf8b7f2d28493\"}, \"mark\": {\"type\": \"circle\", \"size\": 70}, \"encoding\": {\"tooltip\": [{\"type\": \"nominal\", \"field\": \"TITLE\"}, {\"type\": \"quantitative\", \"field\": \"RATING\"}, {\"type\": \"quantitative\", \"field\": \"BOXOFFICE\"}], \"x\": {\"type\": \"quantitative\", \"field\": \"RATING\"}, \"y\": {\"type\": \"quantitative\", \"field\": \"BOXOFFICE\", \"scale\": {\"type\": \"log\"}}}, \"selection\": {\"selector007\": {\"type\": \"interval\", \"bind\": \"scales\", \"encodings\": [\"x\", \"y\"]}}, \"$schema\": \"https://vega.github.io/schema/vega-lite/v4.8.1.json\", \"datasets\": {\"data-5a194466983f6bcbb5daf8b7f2d28493\": [{\"RATING\": 85, \"TITLE\": \"Avengers: Infinity War\", \"CREDIT\": \"Natasha Romanoff/Black Widow\", \"BOXOFFICE\": 665.0, \"YEAR\": 2018}, {\"RATING\": 44, \"TITLE\": \"Rough Night\", \"CREDIT\": \"Jess\", \"BOXOFFICE\": 22.1, \"YEAR\": 2017}, {\"RATING\": 43, \"TITLE\": \"Ghost in the Shell\", \"CREDIT\": \"Major\", \"BOXOFFICE\": 40.6, \"YEAR\": 2017}, {\"RATING\": 72, \"TITLE\": \"Sing\", \"CREDIT\": \"Ash\", \"BOXOFFICE\": 270.4, \"YEAR\": 2016}, {\"RATING\": 91, \"TITLE\": \"Captain America: Civil War\", \"CREDIT\": \"Natasha Romanoff/Black Widow\", \"BOXOFFICE\": 408.1, \"YEAR\": 2016}, {\"RATING\": 95, \"TITLE\": \"The Jungle Book\", \"CREDIT\": \"Kaa\", \"BOXOFFICE\": 364.0, \"YEAR\": 2016}, {\"RATING\": 86, \"TITLE\": \"Hail, Caesar!\", \"CREDIT\": \"DeeAnna Moran\", \"BOXOFFICE\": 28.0, \"YEAR\": 2016}, {\"RATING\": 75, \"TITLE\": \"Avengers: Age of Ultron\", \"CREDIT\": \"Natasha Romanoff/Black Widow\", \"BOXOFFICE\": 429.2, \"YEAR\": 2015}, {\"RATING\": 67, \"TITLE\": \"Lucy\", \"CREDIT\": \"Lucy\", \"BOXOFFICE\": 108.6, \"YEAR\": 2014}, {\"RATING\": 87, \"TITLE\": \"Chef\", \"CREDIT\": \"Molly\", \"BOXOFFICE\": 23.7, \"YEAR\": 2014}, {\"RATING\": 90, \"TITLE\": \"Captain America: The Winter Soldier\", \"CREDIT\": \"Natasha Romanoff/Black Widow\", \"BOXOFFICE\": 228.7, \"YEAR\": 2014}, {\"RATING\": 84, \"TITLE\": \"Under the Skin\", \"CREDIT\": \"Laura\", \"BOXOFFICE\": 2.4, \"YEAR\": 2014}, {\"RATING\": 94, \"TITLE\": \"Her\", \"CREDIT\": \"Samantha\", \"BOXOFFICE\": 18.0, \"YEAR\": 2013}, {\"RATING\": 60, \"TITLE\": \"Hitchcock\", \"CREDIT\": \"Janet Leigh\", \"BOXOFFICE\": 6.1, \"YEAR\": 2012}, {\"RATING\": 96, \"TITLE\": \"Chasing Ice\", \"CREDIT\": \"Actor\", \"BOXOFFICE\": 1.4, \"YEAR\": 2012}, {\"RATING\": 92, \"TITLE\": \"Marvel's The Avengers\", \"CREDIT\": \"Natasha Romanoff/Black Widow\", \"BOXOFFICE\": 623.3, \"YEAR\": 2012}, {\"RATING\": 64, \"TITLE\": \"We Bought a Zoo\", \"CREDIT\": \"Kelly Foster\", \"BOXOFFICE\": 72.8, \"YEAR\": 2011}, {\"RATING\": 73, \"TITLE\": \"Iron Man 2\", \"CREDIT\": \"Natalie Rushman/Black Widow\", \"BOXOFFICE\": 312.1, \"YEAR\": 2010}, {\"RATING\": 40, \"TITLE\": \"He's Just Not That Into You\", \"CREDIT\": \"Anna\", \"BOXOFFICE\": 93.9, \"YEAR\": 2009}, {\"RATING\": 14, \"TITLE\": \"The Spirit\", \"CREDIT\": \"Silken Floss\", \"BOXOFFICE\": 19.8, \"YEAR\": 2008}, {\"RATING\": 81, \"TITLE\": \"Vicky Cristina Barcelona\", \"CREDIT\": \"Cristina\", \"BOXOFFICE\": 23.2, \"YEAR\": 2008}, {\"RATING\": 42, \"TITLE\": \"The Other Boleyn Girl\", \"CREDIT\": \"Mary Boleyn\", \"BOXOFFICE\": 26.9, \"YEAR\": 2008}, {\"RATING\": 34, \"TITLE\": \"The Nanny Diaries\", \"CREDIT\": \"Annie Braddock\", \"BOXOFFICE\": 25.9, \"YEAR\": 2007}, {\"RATING\": 76, \"TITLE\": \"The Prestige\", \"CREDIT\": \"Olivia Wenscombe\", \"BOXOFFICE\": 53.2, \"YEAR\": 2006}, {\"RATING\": 33, \"TITLE\": \"The Black Dahlia\", \"CREDIT\": \"Kay Lake\", \"BOXOFFICE\": 22.6, \"YEAR\": 2006}, {\"RATING\": 41, \"TITLE\": \"Scoop\", \"CREDIT\": \"Sondra Pransky\", \"BOXOFFICE\": 10.5, \"YEAR\": 2006}, {\"RATING\": 76, \"TITLE\": \"Match Point\", \"CREDIT\": \"Nola Rice\", \"BOXOFFICE\": 23.2, \"YEAR\": 2005}, {\"RATING\": 40, \"TITLE\": \"The Island\", \"CREDIT\": \"Jordan Two Delta/Sarah Jordan\", \"BOXOFFICE\": 35.9, \"YEAR\": 2005}, {\"RATING\": 82, \"TITLE\": \"In Good Company\", \"CREDIT\": \"Alex Foreman\", \"BOXOFFICE\": 45.5, \"YEAR\": 2004}, {\"RATING\": 16, \"TITLE\": \"The Perfect Score\", \"CREDIT\": \"Francesca\", \"BOXOFFICE\": 10.3, \"YEAR\": 2004}, {\"RATING\": 72, \"TITLE\": \"Girl With a Pearl Earring\", \"CREDIT\": \"Griet\", \"BOXOFFICE\": 11.6, \"YEAR\": 2004}, {\"RATING\": 95, \"TITLE\": \"Lost In Translation\", \"CREDIT\": \"Charlotte\", \"BOXOFFICE\": 44.6, \"YEAR\": 2003}, {\"RATING\": 48, \"TITLE\": \"Eight Legged Freaks\", \"CREDIT\": \"Ashley Parker\", \"BOXOFFICE\": 17.3, \"YEAR\": 2002}, {\"RATING\": 81, \"TITLE\": \"The Man Who Wasn't There\", \"CREDIT\": \"Birdy Abundas\", \"BOXOFFICE\": 7.5, \"YEAR\": 2001}, {\"RATING\": 92, \"TITLE\": \"Ghost World\", \"CREDIT\": \"Rebecca\", \"BOXOFFICE\": 4.7, \"YEAR\": 2001}]}}, {\"mode\": \"vega-lite\"});\n",
              "</script>"
            ]
          },
          "metadata": {
            "tags": []
          },
          "execution_count": 14
        }
      ]
    },
    {
      "cell_type": "markdown",
      "metadata": {
        "id": "JOA9eXo9nika"
      },
      "source": [
        "Aliás, se você quiser já ver a análise dos grupos nesses filmes feita por um jornalista, [basta ir aqui](https://fivethirtyeight.com/features/the-four-types-of-scarlett-johansson-movies/). "
      ]
    },
    {
      "cell_type": "markdown",
      "metadata": {
        "id": "7MZpc45fENlw"
      },
      "source": [
        "## Encontrando agrupamentos\n",
        "\n",
        "Uma forma de descrever estrutura nos dados é percebendo grupos de observações mais semelhantes entre si que com o restante dos dados.\n",
        "\n",
        "O tipo de pergunta que queremos responder com agrupamento é _existem grupos de dados claramente diferentes em termos de var_1, var_2... e var_n?_\n",
        "\n",
        "### Sempre há grupos?\n",
        "\n",
        "Não. Para ilustrar, podemos gerar dados sintéticos com e sem tendência de grupos e compará-los "
      ]
    },
    {
      "cell_type": "code",
      "metadata": {
        "id": "B703qzjrEgwk",
        "colab": {
          "base_uri": "https://localhost:8080/",
          "height": 204
        },
        "outputId": "23214569-cafa-486f-831b-ac5e8cf701ec"
      },
      "source": [
        "from sklearn.datasets.samples_generator import make_blobs\n",
        "\n",
        "def cria_df_exemplo(ngrupos, random_state=None): \n",
        "  X, y = make_blobs(n_samples=300, centers=ngrupos,\n",
        "                    cluster_std=0.60, random_state = random_state)\n",
        "  return pd.DataFrame(dict(x=X[:,0], y=X[:,1]))\n",
        " \n",
        "df1 = cria_df_exemplo(4)\n",
        "df1.head()"
      ],
      "execution_count": 15,
      "outputs": [
        {
          "output_type": "execute_result",
          "data": {
            "text/html": [
              "<div>\n",
              "<style scoped>\n",
              "    .dataframe tbody tr th:only-of-type {\n",
              "        vertical-align: middle;\n",
              "    }\n",
              "\n",
              "    .dataframe tbody tr th {\n",
              "        vertical-align: top;\n",
              "    }\n",
              "\n",
              "    .dataframe thead th {\n",
              "        text-align: right;\n",
              "    }\n",
              "</style>\n",
              "<table border=\"1\" class=\"dataframe\">\n",
              "  <thead>\n",
              "    <tr style=\"text-align: right;\">\n",
              "      <th></th>\n",
              "      <th>x</th>\n",
              "      <th>y</th>\n",
              "    </tr>\n",
              "  </thead>\n",
              "  <tbody>\n",
              "    <tr>\n",
              "      <th>0</th>\n",
              "      <td>-0.325667</td>\n",
              "      <td>-4.470159</td>\n",
              "    </tr>\n",
              "    <tr>\n",
              "      <th>1</th>\n",
              "      <td>-8.441421</td>\n",
              "      <td>8.381118</td>\n",
              "    </tr>\n",
              "    <tr>\n",
              "      <th>2</th>\n",
              "      <td>-6.484716</td>\n",
              "      <td>-5.509827</td>\n",
              "    </tr>\n",
              "    <tr>\n",
              "      <th>3</th>\n",
              "      <td>-7.595721</td>\n",
              "      <td>9.442472</td>\n",
              "    </tr>\n",
              "    <tr>\n",
              "      <th>4</th>\n",
              "      <td>8.140929</td>\n",
              "      <td>3.659936</td>\n",
              "    </tr>\n",
              "  </tbody>\n",
              "</table>\n",
              "</div>"
            ],
            "text/plain": [
              "          x         y\n",
              "0 -0.325667 -4.470159\n",
              "1 -8.441421  8.381118\n",
              "2 -6.484716 -5.509827\n",
              "3 -7.595721  9.442472\n",
              "4  8.140929  3.659936"
            ]
          },
          "metadata": {
            "tags": []
          },
          "execution_count": 15
        }
      ]
    },
    {
      "cell_type": "markdown",
      "metadata": {
        "id": "Pr2mgjHOGVKY"
      },
      "source": [
        "Rode várias vezes as células seguintes. A primeira quase sempre mostrará uma estrutura com 4 grupos. A segunda deve dificultar vermos grupos."
      ]
    },
    {
      "cell_type": "code",
      "metadata": {
        "id": "Q4T_sNTHF9KN",
        "colab": {
          "base_uri": "https://localhost:8080/",
          "height": 368
        },
        "outputId": "194cb2b4-f1a8-46ae-d6bc-cd8d85deea09"
      },
      "source": [
        "alt.Chart(cria_df_exemplo(4)).mark_point(\n",
        "    size = 70\n",
        ").encode(\n",
        "    x = 'x',\n",
        "    y = 'y'\n",
        ").interactive()"
      ],
      "execution_count": 18,
      "outputs": [
        {
          "output_type": "execute_result",
          "data": {
            "text/plain": [
              "alt.Chart(...)"
            ],
            "text/html": [
              "\n",
              "<div id=\"altair-viz-148c37d0f3ae4c438723b2e5672e279a\"></div>\n",
              "<script type=\"text/javascript\">\n",
              "  (function(spec, embedOpt){\n",
              "    let outputDiv = document.currentScript.previousElementSibling;\n",
              "    if (outputDiv.id !== \"altair-viz-148c37d0f3ae4c438723b2e5672e279a\") {\n",
              "      outputDiv = document.getElementById(\"altair-viz-148c37d0f3ae4c438723b2e5672e279a\");\n",
              "    }\n",
              "    const paths = {\n",
              "      \"vega\": \"https://cdn.jsdelivr.net/npm//vega@5?noext\",\n",
              "      \"vega-lib\": \"https://cdn.jsdelivr.net/npm//vega-lib?noext\",\n",
              "      \"vega-lite\": \"https://cdn.jsdelivr.net/npm//vega-lite@4.8.1?noext\",\n",
              "      \"vega-embed\": \"https://cdn.jsdelivr.net/npm//vega-embed@6?noext\",\n",
              "    };\n",
              "\n",
              "    function loadScript(lib) {\n",
              "      return new Promise(function(resolve, reject) {\n",
              "        var s = document.createElement('script');\n",
              "        s.src = paths[lib];\n",
              "        s.async = true;\n",
              "        s.onload = () => resolve(paths[lib]);\n",
              "        s.onerror = () => reject(`Error loading script: ${paths[lib]}`);\n",
              "        document.getElementsByTagName(\"head\")[0].appendChild(s);\n",
              "      });\n",
              "    }\n",
              "\n",
              "    function showError(err) {\n",
              "      outputDiv.innerHTML = `<div class=\"error\" style=\"color:red;\">${err}</div>`;\n",
              "      throw err;\n",
              "    }\n",
              "\n",
              "    function displayChart(vegaEmbed) {\n",
              "      vegaEmbed(outputDiv, spec, embedOpt)\n",
              "        .catch(err => showError(`Javascript Error: ${err.message}<br>This usually means there's a typo in your chart specification. See the javascript console for the full traceback.`));\n",
              "    }\n",
              "\n",
              "    if(typeof define === \"function\" && define.amd) {\n",
              "      requirejs.config({paths});\n",
              "      require([\"vega-embed\"], displayChart, err => showError(`Error loading script: ${err.message}`));\n",
              "    } else if (typeof vegaEmbed === \"function\") {\n",
              "      displayChart(vegaEmbed);\n",
              "    } else {\n",
              "      loadScript(\"vega\")\n",
              "        .then(() => loadScript(\"vega-lite\"))\n",
              "        .then(() => loadScript(\"vega-embed\"))\n",
              "        .catch(showError)\n",
              "        .then(() => displayChart(vegaEmbed));\n",
              "    }\n",
              "  })({\"config\": {\"view\": {\"continuousWidth\": 400, \"continuousHeight\": 300}}, \"data\": {\"name\": \"data-322ceeb32a4f747f42901ac4aacac5f3\"}, \"mark\": {\"type\": \"point\", \"size\": 70}, \"encoding\": {\"x\": {\"type\": \"quantitative\", \"field\": \"x\"}, \"y\": {\"type\": \"quantitative\", \"field\": \"y\"}}, \"selection\": {\"selector009\": {\"type\": \"interval\", \"bind\": \"scales\", \"encodings\": [\"x\", \"y\"]}}, \"$schema\": \"https://vega.github.io/schema/vega-lite/v4.8.1.json\", \"datasets\": {\"data-322ceeb32a4f747f42901ac4aacac5f3\": [{\"x\": -3.778780453317284, \"y\": 8.06196451387483}, {\"x\": -2.605823947209284, \"y\": 8.867526829189549}, {\"x\": -4.192863130475985, \"y\": -5.6587528846521025}, {\"x\": 2.575607276613685, \"y\": 4.457976396526313}, {\"x\": -2.558846454291231, \"y\": 7.9014033929868}, {\"x\": -4.088177800906827, \"y\": -5.3419460041793005}, {\"x\": -4.338404656977299, \"y\": -5.233720442349415}, {\"x\": 9.180662272259148, \"y\": 7.966176024007826}, {\"x\": 8.570273900550827, \"y\": 7.769919116078253}, {\"x\": 3.2982846049877974, \"y\": 5.1008991729494415}, {\"x\": 3.3573908808341284, \"y\": 4.455035060823584}, {\"x\": -3.0336900371133764, \"y\": 10.341341480800601}, {\"x\": 8.365449333343719, \"y\": 8.283701312494408}, {\"x\": -4.34620370549935, \"y\": -6.059696829988518}, {\"x\": -3.530054169258586, \"y\": 8.787997804826073}, {\"x\": -4.245579983975658, \"y\": -5.872704636941622}, {\"x\": 7.6090815985194675, \"y\": 8.021286216990617}, {\"x\": -5.178901918251154, \"y\": -5.630811335990218}, {\"x\": -3.850653096779693, \"y\": 8.176646824894487}, {\"x\": 2.1156415921833114, \"y\": 2.5645998869314806}, {\"x\": 9.041439561655908, \"y\": 6.978388193717184}, {\"x\": -3.83285986575733, \"y\": 10.05505786302192}, {\"x\": -4.7277676238564705, \"y\": 9.144361338577268}, {\"x\": -3.2412871396449128, \"y\": 9.079435737148225}, {\"x\": -3.295163886210195, \"y\": 8.717852096923822}, {\"x\": 2.493916930582989, \"y\": 3.859089345757708}, {\"x\": -2.8194713360633994, \"y\": 9.41232519599893}, {\"x\": 9.699960623820218, \"y\": 7.9151590689868545}, {\"x\": -3.546392401700268, \"y\": -6.016333891346477}, {\"x\": 7.759777005143008, \"y\": 7.103708973802934}, {\"x\": 8.076734886264186, \"y\": 7.9531857693756995}, {\"x\": 8.56080756423199, \"y\": 8.838992926024467}, {\"x\": 8.65418935628593, \"y\": 7.817906909231906}, {\"x\": -2.6460546526865443, \"y\": 8.895213021502022}, {\"x\": -3.470049204743654, \"y\": 7.860967206741098}, {\"x\": 8.32436602723134, \"y\": 6.938655666158408}, {\"x\": 2.4738586759139753, \"y\": 5.551311822567062}, {\"x\": 9.706820860313773, \"y\": 8.469681552351968}, {\"x\": -5.321791649954849, \"y\": -6.020735896301976}, {\"x\": 3.2744063128166516, \"y\": 3.4062963449488706}, {\"x\": 6.935580663682464, \"y\": 9.4843989939548}, {\"x\": -5.20330913679705, \"y\": -5.375498392684987}, {\"x\": 8.833771257055648, \"y\": 8.453815750140276}, {\"x\": -2.900198988278272, \"y\": 7.983783149193412}, {\"x\": -4.632233179844268, \"y\": 8.998637958350383}, {\"x\": 8.645856446030862, \"y\": 8.06962521458871}, {\"x\": 8.722990795525009, \"y\": 7.749365260921126}, {\"x\": 2.7277903637879883, \"y\": 5.219023702220677}, {\"x\": 9.090018735118074, \"y\": 6.973216750521855}, {\"x\": 2.154427724949856, \"y\": 3.4643263694207835}, {\"x\": 1.5948479588797584, \"y\": 3.2038116699235513}, {\"x\": 7.455661746307855, \"y\": 8.6184101166133}, {\"x\": -3.3193008631246195, \"y\": 9.442387252771903}, {\"x\": -3.26836743049897, \"y\": 9.446403029157782}, {\"x\": -5.129732395158382, \"y\": -5.518014754877044}, {\"x\": 2.468583374101697, \"y\": 4.187138925847167}, {\"x\": -3.4133023648502014, \"y\": 8.898393765125892}, {\"x\": 8.224699047770901, \"y\": 8.695014954362174}, {\"x\": 2.8598213261220993, \"y\": 3.2811149560727944}, {\"x\": 9.247589652283283, \"y\": 7.49045615959387}, {\"x\": 8.79404605858283, \"y\": 7.912886580023713}, {\"x\": 2.4382438113806906, \"y\": 3.4479351594996355}, {\"x\": 8.638644338005552, \"y\": 7.748764699504155}, {\"x\": 2.8960931839675794, \"y\": 3.691078267858739}, {\"x\": -3.8319455186084364, \"y\": 8.903642972522231}, {\"x\": 4.446084702311543, \"y\": 4.177310548527594}, {\"x\": -3.5195450619630635, \"y\": 8.420438630724949}, {\"x\": 4.031001672570921, \"y\": 3.959158558823382}, {\"x\": -2.9068850175314322, \"y\": 8.68750973117587}, {\"x\": -4.329898546793476, \"y\": -5.625153153280377}, {\"x\": -3.2549302673733718, \"y\": 8.283356534389767}, {\"x\": 3.673855093073339, \"y\": 3.0251158990703635}, {\"x\": 2.8036866980120774, \"y\": 3.6626395628219717}, {\"x\": 8.240871681537323, \"y\": 8.303501246729095}, {\"x\": 8.488398915845291, \"y\": 8.371480469432736}, {\"x\": 3.1604393572143206, \"y\": 3.7554910623111026}, {\"x\": 2.879997378179054, \"y\": 3.81246589573864}, {\"x\": 8.439023809678257, \"y\": 7.344344680594764}, {\"x\": -3.9924751363023248, \"y\": 8.062606379519213}, {\"x\": -5.006298530322427, \"y\": -6.3610507890673125}, {\"x\": 3.669412200660199, \"y\": 3.4241632115134064}, {\"x\": 2.4177173771806495, \"y\": 4.51174799136191}, {\"x\": 8.404760988553683, \"y\": 7.397031657702661}, {\"x\": -3.5641968061199605, \"y\": 8.182703616881824}, {\"x\": 8.333141498733458, \"y\": 7.393375398970536}, {\"x\": 2.3464860426510947, \"y\": 3.4195450369373432}, {\"x\": 9.755175293322251, \"y\": 7.261136967980094}, {\"x\": 2.2844236877288373, \"y\": 3.491194219258972}, {\"x\": -2.4600773960932028, \"y\": -6.074289060521147}, {\"x\": -4.463072236087158, \"y\": -5.909646254735082}, {\"x\": 2.0218301245589823, \"y\": 3.879408267453487}, {\"x\": 8.844925696447918, \"y\": 8.3098458307174}, {\"x\": -5.628637751377671, \"y\": -6.379114305403056}, {\"x\": -4.686739698799769, \"y\": -5.979103707647564}, {\"x\": -4.525061701564185, \"y\": -5.382575507902403}, {\"x\": -3.3497314674497605, \"y\": 8.203232464898566}, {\"x\": -2.138215050125374, \"y\": 8.435452131889237}, {\"x\": 9.231721084976071, \"y\": 7.30934277141865}, {\"x\": -5.336206607644497, \"y\": -5.629937073215182}, {\"x\": 8.8005125549185, \"y\": 8.594391151744043}, {\"x\": 7.958912432884679, \"y\": 8.643888532552674}, {\"x\": 9.2406100273563, \"y\": 8.751448243281585}, {\"x\": -3.743349196347726, \"y\": -4.622271022551628}, {\"x\": 3.57655237655439, \"y\": 3.419869547557745}, {\"x\": -4.234031721926667, \"y\": -5.519297298770881}, {\"x\": -3.60989280719944, \"y\": 8.196650717355038}, {\"x\": -3.849947386965849, \"y\": -5.759415497608021}, {\"x\": -4.061661329556035, \"y\": 9.937330994928315}, {\"x\": 8.841083134404421, \"y\": 8.36463357259134}, {\"x\": 2.6183092581623595, \"y\": 3.9712703857466614}, {\"x\": -3.0967698824685495, \"y\": 8.335866651647759}, {\"x\": 9.492766482522143, \"y\": 8.56874441474958}, {\"x\": 2.577086086025959, \"y\": 3.460417767387071}, {\"x\": -3.761383131155546, \"y\": 9.850630873998075}, {\"x\": -4.215902912629933, \"y\": -4.868831929505707}, {\"x\": 1.446405019803536, \"y\": 3.314632526300164}, {\"x\": 2.739046412441361, \"y\": 4.481928824860116}, {\"x\": 2.591905187088148, \"y\": 2.5276525829540692}, {\"x\": 3.1392033946053934, \"y\": 2.8407599593767094}, {\"x\": 3.0333792512710027, \"y\": 3.6284304399557366}, {\"x\": 2.782763482602618, \"y\": 3.595861671616049}, {\"x\": -5.117138008401614, \"y\": -6.4057825845066}, {\"x\": -2.7954759264684874, \"y\": 8.788357443138468}, {\"x\": 8.532099306303797, \"y\": 8.150526903776488}, {\"x\": 8.67183805228874, \"y\": 6.946666930535811}, {\"x\": -3.860788016370106, \"y\": 9.500247172443745}, {\"x\": 1.6236493109293426, \"y\": 3.8233404202302634}, {\"x\": -2.7102938869953688, \"y\": -6.275680754393182}, {\"x\": -4.848393270836959, \"y\": -5.106634614590498}, {\"x\": -3.454490619911228, \"y\": -5.236378619393747}, {\"x\": -3.479953737860203, \"y\": 8.66457387849683}, {\"x\": -4.786523102368645, \"y\": -5.299023487269269}, {\"x\": -4.680862171276853, \"y\": -4.902196395674025}, {\"x\": 7.774288064486485, \"y\": 8.062170748862009}, {\"x\": 8.242251395268344, \"y\": 8.218393962405164}, {\"x\": 8.927622278531095, \"y\": 9.032269446056421}, {\"x\": 2.2560091763497123, \"y\": 4.314622070686102}, {\"x\": 3.276116552605098, \"y\": 4.482295697732857}, {\"x\": 2.6698437519695957, \"y\": 3.7460355862404398}, {\"x\": -3.4896190912374605, \"y\": 8.072744948942933}, {\"x\": 9.080667623391824, \"y\": 8.767506848622741}, {\"x\": 2.6821652952665307, \"y\": 3.258218139375668}, {\"x\": -5.056893996336475, \"y\": -4.557586488036869}, {\"x\": -4.955004910642078, \"y\": -5.255687665152102}, {\"x\": 2.2897300865219314, \"y\": 3.186672992831268}, {\"x\": -4.394847125814633, \"y\": -6.274802959614616}, {\"x\": 3.3732511035442223, \"y\": 3.8409392249912817}, {\"x\": -3.362202757242744, \"y\": 9.343797364248843}, {\"x\": -5.66845004976195, \"y\": -4.761780741108622}, {\"x\": -4.350886418483112, \"y\": -4.3465424475709495}, {\"x\": 7.691503735355898, \"y\": 8.800680812908928}, {\"x\": 3.303292632379465, \"y\": 5.554894476597359}, {\"x\": 3.8268163843578633, \"y\": 2.9672077519499744}, {\"x\": -4.19674682798721, \"y\": 8.947262857805827}, {\"x\": -3.2792602279505974, \"y\": 8.291905920865796}, {\"x\": 2.3427121313507526, \"y\": 3.2845827559046143}, {\"x\": 3.100668806603877, \"y\": 4.353304114285623}, {\"x\": 8.355666104041088, \"y\": 7.219451234215854}, {\"x\": -3.290562210637929, \"y\": -6.285686107223677}, {\"x\": 2.775347115716965, \"y\": 4.256451111116636}, {\"x\": -2.6279538680671406, \"y\": 10.155618148303697}, {\"x\": 2.446628009233275, \"y\": 4.081508248548678}, {\"x\": -2.778214315055855, \"y\": 8.65274291360107}, {\"x\": -3.73857182125534, \"y\": 8.82858901476325}, {\"x\": 8.90484869045258, \"y\": 9.08865307227272}, {\"x\": 8.456460379955098, \"y\": 7.346433856588309}, {\"x\": -4.886809460246868, \"y\": -6.024021731724954}, {\"x\": -3.2086061002554294, \"y\": 7.958344518776361}, {\"x\": -3.179328807956973, \"y\": 7.5884500871305525}, {\"x\": 9.045902196651117, \"y\": 7.9991886600571025}, {\"x\": -3.7040496673117422, \"y\": -6.140036082703025}, {\"x\": -2.956957725723396, \"y\": 8.218643609639138}, {\"x\": -3.148098830719675, \"y\": 8.978873017052756}, {\"x\": 8.766666430858177, \"y\": 7.8072188539745175}, {\"x\": -4.064861934473512, \"y\": -5.386741172387996}, {\"x\": -3.8870203459923607, \"y\": -5.101618468936572}, {\"x\": -3.5764041471718566, \"y\": 7.659098836759896}, {\"x\": 8.235268481591469, \"y\": 8.79899767454981}, {\"x\": -4.481623299153275, \"y\": -6.188483894083578}, {\"x\": -3.3128828238393764, \"y\": 8.325886889582007}, {\"x\": -4.778199157274589, \"y\": -5.057711847913935}, {\"x\": 8.953209396824326, \"y\": 7.16214327228287}, {\"x\": 8.865570209590409, \"y\": 7.370230101999132}, {\"x\": -4.636921268658093, \"y\": -5.626220649493699}, {\"x\": -3.387044520136218, \"y\": 8.969601200536673}, {\"x\": 8.714820000048384, \"y\": 8.528950326411422}, {\"x\": -4.886227269105254, \"y\": -5.903633261143392}, {\"x\": -5.415815932070881, \"y\": -5.395939168424891}, {\"x\": 7.9797449336370025, \"y\": 9.917700567577407}, {\"x\": 8.503038021330873, \"y\": 7.927897510902312}, {\"x\": -2.7386232829679114, \"y\": 7.937244127811119}, {\"x\": 3.968989888291659, \"y\": 3.9543902707478145}, {\"x\": -3.5119012032856602, \"y\": -5.9470581871652675}, {\"x\": -4.113651821461777, \"y\": 7.795880689700442}, {\"x\": -5.481217100272329, \"y\": -5.812038823446506}, {\"x\": 2.985380118226581, \"y\": 4.5403373206099396}, {\"x\": 3.317618074897986, \"y\": 4.407986032061682}, {\"x\": -4.155901061398936, \"y\": 7.476284170900713}, {\"x\": 2.7982670768759816, \"y\": 3.539030346808154}, {\"x\": 3.574632158146332, \"y\": 3.1667729949076233}, {\"x\": 7.9207062459851505, \"y\": 8.381402659699306}, {\"x\": 3.2283750757020426, \"y\": 3.498861403761458}, {\"x\": -2.6972076771837825, \"y\": 9.012874495813815}, {\"x\": 9.085009342630377, \"y\": 8.245738618029225}, {\"x\": -3.643866117994777, \"y\": 9.13194691543548}, {\"x\": -3.4811051731086473, \"y\": 8.79894580432957}, {\"x\": -4.8016283117742855, \"y\": -5.676780421763447}, {\"x\": 3.6820309400652134, \"y\": 3.701624349596426}, {\"x\": -4.288368946392774, \"y\": -6.806140457825704}, {\"x\": -3.8186385439689454, \"y\": 9.854400186335042}, {\"x\": -3.931540463529269, \"y\": 8.753340891127873}, {\"x\": 3.0535940354910656, \"y\": 5.213620068296141}, {\"x\": -3.2658008482176593, \"y\": 8.299406635076615}, {\"x\": 3.279131480133935, \"y\": 4.080938549816506}, {\"x\": -3.628159525380925, \"y\": 8.44134793954957}, {\"x\": -3.6126515085317426, \"y\": -5.113452950508863}, {\"x\": -3.2651248216162974, \"y\": 9.441478797383697}, {\"x\": 2.9972691594973964, \"y\": 3.2724706253278364}, {\"x\": 8.91688562319105, \"y\": 7.170676969314451}, {\"x\": -5.154545379540686, \"y\": -6.1405233095460785}, {\"x\": -3.6779707773665495, \"y\": 9.772982148187328}, {\"x\": 8.176586123237884, \"y\": 7.846615840180921}, {\"x\": -2.0847739250471786, \"y\": 7.858174840758822}, {\"x\": 2.224130735811464, \"y\": 3.500489942789662}, {\"x\": -2.4346458052573405, \"y\": 9.377560953963034}, {\"x\": 2.9064295397761337, \"y\": 4.600478254449765}, {\"x\": 7.968819127132893, \"y\": 7.948318845987087}, {\"x\": -5.137726404351353, \"y\": -6.20796369373841}, {\"x\": 7.82412818532044, \"y\": 8.006571572481054}, {\"x\": 2.528303215025467, \"y\": 4.221803222424066}, {\"x\": -4.302459629333568, \"y\": -7.171370007602778}, {\"x\": 2.4266890856717573, \"y\": 3.4694970843495305}, {\"x\": 8.507594119043043, \"y\": 9.27922010730382}, {\"x\": 8.061227555743635, \"y\": 9.376822419535669}, {\"x\": 8.526449857848927, \"y\": 7.416939749280562}, {\"x\": -3.858050439848504, \"y\": -5.5045439261402604}, {\"x\": -3.8985553421660946, \"y\": -5.268811052689586}, {\"x\": 9.069001648124832, \"y\": 8.880157858417821}, {\"x\": 8.228271250692769, \"y\": 7.849586643522871}, {\"x\": 2.564146320966504, \"y\": 3.821698987890349}, {\"x\": 9.246050145808763, \"y\": 8.301175062903347}, {\"x\": 3.105665559427969, \"y\": 4.252899764580992}, {\"x\": -3.6042984332405963, \"y\": 8.197433498406834}, {\"x\": -3.730788245045953, \"y\": 9.014498242831829}, {\"x\": -5.053725497219739, \"y\": -6.127202301626505}, {\"x\": 3.077747710213112, \"y\": 4.4192443995650095}, {\"x\": -5.330634736409705, \"y\": -6.109386252574384}, {\"x\": -3.271914476271669, \"y\": 8.937980798028674}, {\"x\": 8.733151358134238, \"y\": 8.726273024961849}, {\"x\": -4.109695906511447, \"y\": -5.6745025874075825}, {\"x\": 3.4996756675529204, \"y\": 4.150449550268986}, {\"x\": 9.315962597631357, \"y\": 9.40977839574306}, {\"x\": 8.435634130745031, \"y\": 8.314753755866713}, {\"x\": -2.9320114192689095, \"y\": -5.709985937884628}, {\"x\": -3.8811922289307885, \"y\": 8.48051579283856}, {\"x\": 2.928902706793844, \"y\": 3.5580271165533373}, {\"x\": 7.699205575618425, \"y\": 7.620562749208956}, {\"x\": 9.402393299061044, \"y\": 8.691232370584055}, {\"x\": -4.750122037892769, \"y\": -6.504874344977376}, {\"x\": -2.0256522108646844, \"y\": 9.48860352296594}, {\"x\": -3.152152085865937, \"y\": 9.260818526998042}, {\"x\": 3.0432347096237016, \"y\": 3.457464751839595}, {\"x\": 3.178188730420998, \"y\": 4.510028951643065}, {\"x\": 8.72792711184466, \"y\": 7.375672589924686}, {\"x\": -5.321993263758236, \"y\": 8.189950962998608}, {\"x\": 7.437646105354132, \"y\": 8.957123636872755}, {\"x\": 1.8167095670368922, \"y\": 2.5925242690347714}, {\"x\": -5.090967328312703, \"y\": -6.131930374762805}, {\"x\": -4.564216235099036, \"y\": -5.467770618971621}, {\"x\": -2.3281571527293803, \"y\": 9.732248807393493}, {\"x\": 3.4754423211801386, \"y\": 4.63408220839941}, {\"x\": -5.0111064546576145, \"y\": -6.044340410545682}, {\"x\": -4.748074879305729, \"y\": -4.777139521111728}, {\"x\": 3.5601888929444887, \"y\": 2.842727747695931}, {\"x\": 2.946806658015107, \"y\": 4.008598180679337}, {\"x\": -4.741034321199508, \"y\": -7.681844619110603}, {\"x\": -4.85482098715305, \"y\": -6.57341670737144}, {\"x\": -4.292000860015268, \"y\": 8.162434376570623}, {\"x\": 1.9009498079200395, \"y\": 4.6466273946877354}, {\"x\": -2.3082686520704034, \"y\": 8.713897436842332}, {\"x\": 7.977325049264226, \"y\": 8.507616163022163}, {\"x\": 2.763382594471822, \"y\": 3.890855373134757}, {\"x\": -4.839415619496323, \"y\": -4.988353750352156}, {\"x\": -4.172342523692595, \"y\": -5.589773126632867}, {\"x\": -5.090793055407135, \"y\": -6.348744199107781}, {\"x\": 3.309214434736307, \"y\": 2.9697751613235908}, {\"x\": -5.48670289806476, \"y\": -5.891543701906016}, {\"x\": -4.3208463732048, \"y\": -6.12934243795251}, {\"x\": -4.553517300929885, \"y\": -6.120662671267272}, {\"x\": -4.380459607015388, \"y\": -5.948341127543293}, {\"x\": -1.9738246348913906, \"y\": 9.041579107887793}, {\"x\": 9.075071286448054, \"y\": 8.239470972357088}, {\"x\": -4.060901570477785, \"y\": -6.708232212264183}, {\"x\": -4.852640760333752, \"y\": -4.116175678536555}, {\"x\": -5.135902161194262, \"y\": -6.050571651782922}, {\"x\": -4.443400400008665, \"y\": -5.307005156543468}, {\"x\": -3.5454713384871295, \"y\": 9.082703510982068}, {\"x\": -3.6951171896164374, \"y\": 8.393728198594484}, {\"x\": 10.186704096956165, \"y\": 7.823389180042556}, {\"x\": -4.051071453506169, \"y\": 8.58230785487262}]}}, {\"mode\": \"vega-lite\"});\n",
              "</script>"
            ]
          },
          "metadata": {
            "tags": []
          },
          "execution_count": 18
        }
      ]
    },
    {
      "cell_type": "code",
      "metadata": {
        "id": "NmOpXcnBF9ai",
        "colab": {
          "base_uri": "https://localhost:8080/",
          "height": 231
        },
        "outputId": "7f6c1429-4a84-4876-ba9a-66b6dfb3bad0"
      },
      "source": [
        "alt.Chart(df2).mark_point(\n",
        "    size = 70\n",
        ").encode(\n",
        "    x = 'x',\n",
        "    y = 'y'\n",
        ").interactive()"
      ],
      "execution_count": 19,
      "outputs": [
        {
          "output_type": "error",
          "ename": "NameError",
          "evalue": "ignored",
          "traceback": [
            "\u001b[0;31m---------------------------------------------------------------------------\u001b[0m",
            "\u001b[0;31mNameError\u001b[0m                                 Traceback (most recent call last)",
            "\u001b[0;32m<ipython-input-19-f096cb7a7f79>\u001b[0m in \u001b[0;36m<module>\u001b[0;34m()\u001b[0m\n\u001b[0;32m----> 1\u001b[0;31m alt.Chart(df2).mark_point(\n\u001b[0m\u001b[1;32m      2\u001b[0m     \u001b[0msize\u001b[0m \u001b[0;34m=\u001b[0m \u001b[0;36m70\u001b[0m\u001b[0;34m\u001b[0m\u001b[0;34m\u001b[0m\u001b[0m\n\u001b[1;32m      3\u001b[0m \u001b[0;34m)\u001b[0m\u001b[0;34m.\u001b[0m\u001b[0mencode\u001b[0m\u001b[0;34m(\u001b[0m\u001b[0;34m\u001b[0m\u001b[0;34m\u001b[0m\u001b[0m\n\u001b[1;32m      4\u001b[0m     \u001b[0mx\u001b[0m \u001b[0;34m=\u001b[0m \u001b[0;34m'x'\u001b[0m\u001b[0;34m,\u001b[0m\u001b[0;34m\u001b[0m\u001b[0;34m\u001b[0m\u001b[0m\n\u001b[1;32m      5\u001b[0m     \u001b[0my\u001b[0m \u001b[0;34m=\u001b[0m \u001b[0;34m'y'\u001b[0m\u001b[0;34m\u001b[0m\u001b[0;34m\u001b[0m\u001b[0m\n",
            "\u001b[0;31mNameError\u001b[0m: name 'df2' is not defined"
          ]
        }
      ]
    },
    {
      "cell_type": "markdown",
      "metadata": {
        "id": "U14IMwLFG9TY"
      },
      "source": [
        "\n",
        "\n",
        "---\n",
        "\n",
        "## Usando um algoritmo para encontrar grupos\n",
        "\n",
        "Há vários algoritmos para uma mesma definição de objetivo. Começaremos com uma situação onde o número de grupos a encontrar é claro e cada ponto pertencerá a um grupo.\n",
        "\n",
        "Usaremos 2 exemplos: o sintético e o dos filmes.\n",
        "\n",
        "Primeiro o sintético:\n"
      ]
    },
    {
      "cell_type": "code",
      "metadata": {
        "id": "pMhAVSNNHbcM"
      },
      "source": [
        "df_ex = cria_df_exemplo(4, random_state=0)\n",
        "alt.Chart(df_ex).mark_circle(\n",
        "    size = 70\n",
        ").encode(\n",
        "    x = 'x',\n",
        "    y = 'y'\n",
        ").interactive()"
      ],
      "execution_count": null,
      "outputs": []
    },
    {
      "cell_type": "markdown",
      "metadata": {
        "id": "3KAQ7SVZLBiG"
      },
      "source": [
        "Encontrando os grupos"
      ]
    },
    {
      "cell_type": "code",
      "metadata": {
        "id": "k7_oBBzNH6D5"
      },
      "source": [
        "from sklearn.cluster import KMeans\n",
        "\n",
        "kmeans = KMeans(n_clusters=4)\n",
        "kmeans.fit(df_ex)\n",
        "grupo = kmeans.predict(df_ex)\n",
        "\n",
        "df_agrupado = df_ex.assign(grupo = grupo)\n",
        "\n",
        "df_agrupado"
      ],
      "execution_count": null,
      "outputs": []
    },
    {
      "cell_type": "markdown",
      "metadata": {
        "id": "cqFjVAGNLEuJ"
      },
      "source": [
        "Visualizando os grupos na cor dos pontos"
      ]
    },
    {
      "cell_type": "code",
      "metadata": {
        "id": "JEXDYiyiJsBp"
      },
      "source": [
        "alt.Chart(df_agrupado).mark_circle(\n",
        "    size = 70\n",
        ").encode(\n",
        "    x = 'x',\n",
        "    y = 'y', \n",
        "    color = 'grupo:N'\n",
        ").interactive()"
      ],
      "execution_count": null,
      "outputs": []
    },
    {
      "cell_type": "markdown",
      "metadata": {
        "id": "VqxhmCDJLTiP"
      },
      "source": [
        "### Agora os filmes\n",
        "\n",
        "Como as variáveis têm escalas muito diferentes, precisaremos pré-processar os dados normalizando as variáveis.\n"
      ]
    },
    {
      "cell_type": "code",
      "metadata": {
        "id": "Mg7WmPe8HymR"
      },
      "source": [
        "alt.Chart(filmes).mark_circle(\n",
        "    size = 70\n",
        ").encode(\n",
        "    y = alt.Y('BOXOFFICE', scale=alt.Scale(type='log')),\n",
        "    x = 'RATING',\n",
        "    tooltip = ['TITLE', 'RATING', 'BOXOFFICE']\n",
        ").interactive()"
      ],
      "execution_count": null,
      "outputs": []
    },
    {
      "cell_type": "code",
      "metadata": {
        "id": "nq1Ket-TLaYT"
      },
      "source": [
        "from sklearn import preprocessing\n",
        "\n",
        "filmes_t = pd.DataFrame({'rating' : filmes['RATING'], \n",
        "                         'boxoffice' : np.log10(filmes['BOXOFFICE'])})\n",
        "\n",
        "ss = preprocessing.StandardScaler()\n",
        "filmes_scaled = pd.DataFrame(ss.fit_transform(filmes_t),columns = filmes_t.columns)\n",
        "print(filmes_scaled.head(5))\n",
        "\n",
        "alt.Chart(filmes_scaled).mark_circle(\n",
        "    size = 100, \n",
        "    stroke = 'black'\n",
        ").encode(\n",
        "    y = 'boxoffice',\n",
        "    x = 'rating'\n",
        ")"
      ],
      "execution_count": null,
      "outputs": []
    },
    {
      "cell_type": "markdown",
      "metadata": {
        "id": "QOmaIBJGUjZw"
      },
      "source": [
        "Repare nas escalas dos eixos acima."
      ]
    },
    {
      "cell_type": "code",
      "metadata": {
        "id": "peSV-waKQJj6"
      },
      "source": [
        "kmeans = KMeans(n_clusters=4)\n",
        "kmeans.fit(filmes_scaled)\n",
        "grupo = kmeans.predict(filmes_scaled)\n",
        "\n",
        "filmes_scaled_ag = filmes_scaled.assign(grupo = grupo, TITLE = filmes['TITLE'])\n",
        "filmes_agrupado = filmes.assign(grupo = grupo)\n",
        "\n",
        "print(filmes_scaled_ag.head())\n",
        "filmes_agrupado.head()"
      ],
      "execution_count": null,
      "outputs": []
    },
    {
      "cell_type": "code",
      "metadata": {
        "id": "k8CERSn-TaoB"
      },
      "source": [
        "alt.Chart(filmes_scaled_ag).mark_circle(\n",
        "    size = 100, \n",
        "    stroke = 'black'\n",
        ").encode(\n",
        "    y = 'boxoffice',\n",
        "    x = 'rating',\n",
        "    color = 'grupo:N',\n",
        "    tooltip = ['TITLE', 'rating', 'boxoffice']\n",
        ").interactive()"
      ],
      "execution_count": null,
      "outputs": []
    },
    {
      "cell_type": "code",
      "metadata": {
        "id": "E7tRt1crO8-5"
      },
      "source": [
        "alt.Chart(filmes_agrupado).mark_circle(\n",
        "    size = 100, \n",
        "    stroke = 'black'\n",
        ").encode(\n",
        "    y = alt.Y('BOXOFFICE', scale=alt.Scale(type='log')),\n",
        "    x = 'RATING',\n",
        "    color = 'grupo:N',\n",
        "    tooltip = ['TITLE', 'RATING', 'BOXOFFICE']\n",
        ").interactive()"
      ],
      "execution_count": null,
      "outputs": []
    },
    {
      "cell_type": "markdown",
      "metadata": {
        "id": "sIt1wlNPVDCl"
      },
      "source": [
        "\n",
        "---\n",
        "\n",
        "## Variando o número de grupos a encontrar\n",
        "\n"
      ]
    },
    {
      "cell_type": "code",
      "metadata": {
        "id": "gXe7S4pdVOkI",
        "cellView": "form"
      },
      "source": [
        "#@title Grupos a encontrar: k\n",
        "k = 9 #@param {type:\"slider\", min:1, max:10, step:1}\n",
        "\n",
        "kmeans = KMeans(n_clusters=k, n_init=50)\n",
        "kmeans.fit(filmes_scaled)\n",
        "grupo = kmeans.predict(filmes_scaled)\n",
        "\n",
        "filmes_scaled_ag = filmes_scaled.assign(grupo = grupo, TITLE = filmes['TITLE'])\n",
        "\n",
        "alt.Chart(filmes_scaled_ag).mark_circle(\n",
        "    size = 120, \n",
        "    opacity = 1\n",
        ").encode(\n",
        "    y = 'boxoffice',\n",
        "    x = 'rating',\n",
        "    color = 'grupo:N',\n",
        "    tooltip = ['TITLE', 'rating', 'boxoffice']\n",
        ").interactive()"
      ],
      "execution_count": null,
      "outputs": []
    },
    {
      "cell_type": "code",
      "metadata": {
        "id": "qVFtlVxZXs7_",
        "cellView": "form"
      },
      "source": [
        "#@title Grupos a encontrar: k\n",
        "k = 9 #@param {type:\"slider\", min:1, max:10, step:1}\n",
        "\n",
        "kmeans = KMeans(n_clusters=4)\n",
        "\n",
        "kmeans = KMeans(n_clusters=k, n_init=50)\n",
        "kmeans.fit(df_ex)\n",
        "grupo = kmeans.predict(df_ex)\n",
        "\n",
        "df_agrupado = df_ex.assign(grupo = grupo)\n",
        "\n",
        "alt.Chart(df_agrupado).mark_circle(\n",
        "    size = 120, \n",
        "    opacity = .8\n",
        ").encode(\n",
        "    y = 'y',\n",
        "    x = 'x',\n",
        "    color = 'grupo:N'\n",
        ")"
      ],
      "execution_count": null,
      "outputs": []
    },
    {
      "cell_type": "markdown",
      "metadata": {
        "id": "mIMo4bevZZdA"
      },
      "source": [
        "\n",
        "\n",
        "---\n",
        "\n",
        "## Leia mais\n",
        "\n",
        "### Exemplos de agrupamentos\n",
        "\n",
        "Nossa análise de filmes foi inspirada [nas análises baseadas em agrupamento de filmes do FiveThirtyEight](https://fivethirtyeight.com/tag/hollywood-taxonomy/). Leia lá algumas pra ver como eles as usam. \n",
        "\n",
        "### Algoritmos de agrupamento \n",
        "\n",
        "Usamos um algoritmo popular aqui. Existem **muitos** outros. Eles variam em várias dimensões: cada ponto só pertence a um grupo no final? O analista precisa decidir o número de grupos? Existem pontos que não pertencem a nenhum grupo? A heurística funciona como?\n",
        "\n",
        "Normalmente, para **produzir** uma solução de agrupamento precisamos de: \n",
        "\n",
        "* Definição de proximidade/distância entre pontos\n",
        "* Definição de proximidade/distância entre grupos ou grupos e pontos\n",
        "* Processo de agrupamento \n",
        "* Decidir quantos grupos existem\n",
        "\n",
        "Depois vem o principal: **avaliar e interpretar** a solução. _Agrupamento sempre dá um resultado, mas nem sempre o resultado é útil_. \n",
        "\n",
        "Há duas maneiras principais de agrupar: aglomerativa ou baseada em partição. \n",
        "\n",
        "O algoritmo que usamos para agrupar é um algoritmo que: dado um número de grupos e uma função de distância entre os pontos, procura uma partição dos dados na qual os grupos são homogêneos dentro de si e diferentes entre si. O nome desse algoritmo é K-means.\n",
        "\n",
        "## Sobre o K-means\n",
        "\n",
        "O algoritmo é conceitualmente bem simples; é uma iteração com duas fases: dado um conjunto de *k* centros de grupos (i) atribui cada ponto ao grupo cujo centro está mais próximo e (ii) move os centros para o meio dos pontos que compõem seu grupo. \n",
        "\n",
        "Há [uma boa visualização de como o algoritmo funciona aqui](http://tech.nitoyon.com/en/blog/2013/11/07/k-means/). E uma mais interativa [nesse outro link](https://www.naftaliharris.com/blog/visualizing-k-means-clustering/).\n",
        "\n"
      ]
    }
  ]
}